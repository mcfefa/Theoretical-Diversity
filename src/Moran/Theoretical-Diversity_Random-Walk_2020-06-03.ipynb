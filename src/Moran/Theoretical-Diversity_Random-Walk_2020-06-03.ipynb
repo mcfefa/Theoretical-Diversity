{
 "cells": [
  {
   "cell_type": "code",
   "execution_count": null,
   "metadata": {},
   "outputs": [],
   "source": [
    "## Code updated from RandomWalk_2020-04-01.jl"
   ]
  },
  {
   "cell_type": "code",
   "execution_count": 1,
   "metadata": {},
   "outputs": [
    {
     "data": {
      "text/plain": [
       "\"/Users/mcfefa/Dropbox/Papers in Progress/Diversity-Score-Theory-Paper/code/Project.toml\""
      ]
     },
     "execution_count": 1,
     "metadata": {},
     "output_type": "execute_result"
    }
   ],
   "source": [
    "using Pkg;\n",
    "Pkg.activate(\".\")"
   ]
  },
  {
   "cell_type": "code",
   "execution_count": 2,
   "metadata": {},
   "outputs": [
    {
     "name": "stderr",
     "output_type": "stream",
     "text": [
      "┌ Info: Recompiling stale cache file /Users/mcfefa/.julia/compiled/v1.0/Plots/ld3vC.ji for Plots [91a5bcdd-55d7-5caf-9e0b-520d859cae80]\n",
      "└ @ Base loading.jl:1184\n"
     ]
    }
   ],
   "source": [
    "using Random\n",
    "using Plots\n",
    "using Statistics"
   ]
  },
  {
   "cell_type": "code",
   "execution_count": 3,
   "metadata": {},
   "outputs": [],
   "source": [
    "using Dates"
   ]
  },
  {
   "cell_type": "code",
   "execution_count": 4,
   "metadata": {},
   "outputs": [],
   "source": [
    "using Serialization"
   ]
  },
  {
   "cell_type": "code",
   "execution_count": 5,
   "metadata": {},
   "outputs": [
    {
     "name": "stderr",
     "output_type": "stream",
     "text": [
      "┌ Info: Recompiling stale cache file /Users/mcfefa/.julia/compiled/v1.0/DataFrames/AR9oZ.ji for DataFrames [a93c6f00-e57d-5684-b7b6-d8193f3e46c0]\n",
      "└ @ Base loading.jl:1184\n"
     ]
    }
   ],
   "source": [
    "using DataFrames"
   ]
  },
  {
   "cell_type": "code",
   "execution_count": 6,
   "metadata": {},
   "outputs": [
    {
     "name": "stderr",
     "output_type": "stream",
     "text": [
      "┌ Info: Recompiling stale cache file /Users/mcfefa/.julia/compiled/v1.0/CSV/HHBkp.ji for CSV [336ed68f-0bac-5ca0-87d4-7b16caf5d00b]\n",
      "└ @ Base loading.jl:1184\n"
     ]
    }
   ],
   "source": [
    "using CSV"
   ]
  },
  {
   "cell_type": "code",
   "execution_count": 24,
   "metadata": {},
   "outputs": [
    {
     "name": "stderr",
     "output_type": "stream",
     "text": [
      "┌ Info: Recompiling stale cache file /Users/mcfefa/.julia/compiled/v1.0/Query/wGX7b.ji for Query [1a8c2f83-1ff3-5112-b086-8aa67b057ba1]\n",
      "└ @ Base loading.jl:1184\n"
     ]
    }
   ],
   "source": [
    "using Query"
   ]
  },
  {
   "cell_type": "code",
   "execution_count": 27,
   "metadata": {},
   "outputs": [
    {
     "name": "stderr",
     "output_type": "stream",
     "text": [
      "┌ Info: Precompiling RCall [6f49c342-dc21-5d91-9882-a32aef131414]\n",
      "└ @ Base loading.jl:1186\n"
     ]
    }
   ],
   "source": [
    "#Pkg.add(\"RCall\")\n",
    "using RCall\n",
    "#Pkg.build(\"RCall\")"
   ]
  },
  {
   "cell_type": "code",
   "execution_count": 7,
   "metadata": {},
   "outputs": [
    {
     "data": {
      "text/plain": [
       "makeInitialPayoff (generic function with 2 methods)"
      ]
     },
     "execution_count": 7,
     "metadata": {},
     "output_type": "execute_result"
    }
   ],
   "source": [
    "## Create initial conditions\n",
    "   # input: number of cells, initial clones, will randomly assign initial frequency \n",
    "\n",
    "function makeInitialPayoff(clones::Int64, fillPayoff::Vector, freqSel::Bool=false)\n",
    "    # ... is vararg splat, takes an array of values and passes them to a function as if 1st, 2nd, 3rd\n",
    "    # converts an array into arguments\n",
    "\n",
    "    if freqSel\n",
    "      payoff = fillPayoff.*rand(clones,clones)\n",
    "    else\n",
    "      payoff = hcat(fill(fillPayoff, (clones,1))...)\n",
    "    end\n",
    "    \n",
    "    return payoff::Matrix\n",
    "end\n"
   ]
  },
  {
   "cell_type": "code",
   "execution_count": 8,
   "metadata": {},
   "outputs": [
    {
     "data": {
      "text/plain": [
       "initialize (generic function with 2 methods)"
      ]
     },
     "execution_count": 8,
     "metadata": {},
     "output_type": "execute_result"
    }
   ],
   "source": [
    "function initialize(cellCount::Int64, numClones::Int64, fillPayoff::Vector, freqSel::Bool=false)\n",
    "    # initialize what each cell is \n",
    "    \n",
    "    totalCells = rand(1:numClones,cellCount); # assigning clones to each spot\n",
    "    payoff = makeInitialPayoff(numClones, fillPayoff, freqSel)\n",
    "    \n",
    "    return (totalCells, payoff); \n",
    "end"
   ]
  },
  {
   "cell_type": "code",
   "execution_count": 9,
   "metadata": {},
   "outputs": [
    {
     "data": {
      "text/plain": [
       "calcFreq (generic function with 1 method)"
      ]
     },
     "execution_count": 9,
     "metadata": {},
     "output_type": "execute_result"
    }
   ],
   "source": [
    "function calcFreq(uniqueClones::Vector{Int64}, perClone::Vector{Int64})\n",
    "    # calculates frequency of each unique clone at current time point\n",
    "    \n",
    "    ### ASK JAMES FOR A WORD DESCRIPTION OF X->X=i ...\n",
    "    \n",
    "    cts = [count(x->x==i,perClone) for i in uniqueClones]\n",
    "    return cts/sum(cts)\n",
    "end"
   ]
  },
  {
   "cell_type": "code",
   "execution_count": 10,
   "metadata": {},
   "outputs": [
    {
     "data": {
      "text/plain": [
       "makeNewClone (generic function with 2 methods)"
      ]
     },
     "execution_count": 10,
     "metadata": {},
     "output_type": "execute_result"
    }
   ],
   "source": [
    "## Create payoff matrix -- add row/column\n",
    "\n",
    "function makeNewClone(mtx::Matrix, parent::Int64, freqSel::Bool=false)\n",
    "    \n",
    "    ## add or delete depending on if new clone is added or removed from population\n",
    "    # to add, make a new matrix of [n+1, n+1], loop through to fill in old matrix and add new matrix\n",
    "    \n",
    "    # note, should be a square matrix, x==y --- use for error handling\n",
    "    \n",
    "    (x,y) = size(mtx)\n",
    "    newMtx = zeros(x+1,x+1)   # creates an empty matrix of zeros\n",
    "    newMtx[1:x,1:x] = mtx     # fills in the original matrix\n",
    "    \n",
    "    if freqSel\n",
    "        # FREQUENCY SELECTION\n",
    "        # returns clone that will produce the new clone\n",
    "        # perturb by the mean with std proportional to mean\n",
    "        newMtx[x+1,1:x] = mtx[parent,:].*(1 .+ 0.01*randn(x))      \n",
    "        ## fill last elements of row \n",
    "        # calculate the mean of the rows to fill in for the new clone \n",
    "        rowMean = mean(newMtx[1:x,1:x],dims=2)\n",
    "        for i in 1:x\n",
    "            newMtx[i,x+1] = rowMean[i]\n",
    "        end\n",
    "    else\n",
    "        # CONSTANT SELECTION \n",
    "        newOne = mtx[parent,1]*(1+randn()) # all the same across the row, \n",
    "        newMtx[x+1,:] = fill(newOne,x+1)   # fill in constant selection for new species\n",
    "        for i in 1:x\n",
    "              newMtx[i,x+1] = newMtx[i,x]\n",
    "        end\n",
    "    end \n",
    "    \n",
    "    return newMtx/maximum(newMtx)\n",
    "end"
   ]
  },
  {
   "cell_type": "code",
   "execution_count": 11,
   "metadata": {},
   "outputs": [
    {
     "data": {
      "text/plain": [
       "deleteClone (generic function with 1 method)"
      ]
     },
     "execution_count": 11,
     "metadata": {},
     "output_type": "execute_result"
    }
   ],
   "source": [
    "## Create payoff matrix -- remove row/column\n",
    "\n",
    "function deleteClone(mtx::Matrix{Float64}, remove::Int64)\n",
    "    \n",
    "    ## add or delete depending on if new clone is added or removed from population\n",
    "    # to delete, just delete row and column of interest\n",
    "    \n",
    "    return mtx[1:end .!= remove, 1:end .!= remove]\n",
    "end\n"
   ]
  },
  {
   "cell_type": "code",
   "execution_count": 12,
   "metadata": {},
   "outputs": [
    {
     "data": {
      "text/plain": [
       "calcAvgFitness (generic function with 1 method)"
      ]
     },
     "execution_count": 12,
     "metadata": {},
     "output_type": "execute_result"
    }
   ],
   "source": [
    "function calcAvgFitness(payoff::Matrix{Float64}, freq::Vector{Float64})\n",
    "    # multiply the frequencies by the payoff matrix to calculate the average fitness   \n",
    "    # xT*A*x\n",
    "    \n",
    "    expectedPayoff = payoff*freq\n",
    "    \n",
    "    # return (transpose(freq)*Epayoff, Epayoff) \n",
    "    return (freq'*expectedPayoff, expectedPayoff) \n",
    "end"
   ]
  },
  {
   "cell_type": "code",
   "execution_count": 13,
   "metadata": {},
   "outputs": [
    {
     "data": {
      "text/plain": [
       "probReplication (generic function with 1 method)"
      ]
     },
     "execution_count": 13,
     "metadata": {},
     "output_type": "execute_result"
    }
   ],
   "source": [
    "function probReplication(payoff::Matrix{Float64}, freq::Vector{Float64}, intensity::Float64)\n",
    "    \n",
    "    # calculating the probability that a clone replicates\n",
    "    # inputs: payoff matrix (Matrix)\n",
    "    #         frequency of the clones (Vector)\n",
    "    #         selection intensity (Real)\n",
    "    # output: probability \n",
    "    \n",
    "    (avg, expectedPayoff) = calcAvgFitness(payoff,freq);\n",
    "\n",
    "    # Species rate of production of offspring\n",
    "    probRep = exp.(intensity*(expectedPayoff)).*freq  #  .- avg\n",
    "    # @show probRep\n",
    "\n",
    "    # Compute CDF\n",
    "    cs = cumsum(probRep)\n",
    "    prob = cs/cs[end]\n",
    "    \n",
    "    # returns grouping of which proportion will be replicating when random number\n",
    "    return prob\n",
    "end"
   ]
  },
  {
   "cell_type": "code",
   "execution_count": 14,
   "metadata": {},
   "outputs": [
    {
     "data": {
      "text/plain": [
       "calcqD (generic function with 2 methods)"
      ]
     },
     "execution_count": 14,
     "metadata": {},
     "output_type": "execute_result"
    }
   ],
   "source": [
    "function calcqD(freq::Vector{Float64}, res::Int64=1000)\n",
    "  ## good default resoluion: 1000\n",
    "  ## TO DO: add if q == 1 correction \n",
    "\n",
    "  q = exp10.(range(-2.0, stop=2.0, length=res));\n",
    "  qD = sum(freq.^q', dims=1) .^ (1 ./ (1 .- q'))\n",
    "  return (qD[:], q)\n",
    "end"
   ]
  },
  {
   "cell_type": "code",
   "execution_count": 17,
   "metadata": {},
   "outputs": [
    {
     "data": {
      "text/plain": [
       "runSim (generic function with 3 methods)"
      ]
     },
     "execution_count": 17,
     "metadata": {},
     "output_type": "execute_result"
    }
   ],
   "source": [
    "function runSim(initialPayoff::Vector{Float64}, totGen::Int64, cellCount::Int64, numClones::Int64, intensity::Float64, mutProb::Float64, howOftenCalcQD::Int64, resQD::Int64=1000, freqSelOn::Bool=false)\n",
    "    \n",
    "    # inputs: \n",
    "    #   initialPayoff::Vector{Float64} - fill vector \n",
    "    #   totGen::Int64 - number of generations to loop over\n",
    "    #   cellCount::Int64 - total number of cells/total population size\n",
    "    #   numClones::Int64 - number of distinct clones\n",
    "    #   intensity::Float64 - selection intensity\n",
    "    #   mutProb:: Float64 - probability a clone mutates \n",
    "    #   delay::Int64 - after delay steps, start calculating qD  !!!! TO DO !!!!\n",
    "    #   howOftenCalcQD::Int64 - calculate qD every howOftenCalcQD timesteps\n",
    "    #   resQD::Int64 - resolution at which qD is calculated, defaults to 1000 \n",
    "    \n",
    "    ## to collect for Muller plots\n",
    "    # time points\n",
    "    # population size at time points ---> frequency at the timepoint\n",
    "    # edge list (who mutates (parent) to produce new clone)\n",
    "    \n",
    "    # Create the initial payoff matrix, based on cellCount & numClones\n",
    "    # initialize the initial conditions\n",
    "    # make individual cells with which clone they are and the initial payoff matrix\n",
    "    (cells, payoff) = initialize(cellCount, numClones, initialPayoff, freqSelOn);\n",
    "    totClones = numClones;\n",
    "    uniqueClones = Array(1:numClones)\n",
    "    numClonesTrack = zeros(Int,totGen);\n",
    "    numClonesTrack[1] = numClones;\n",
    "    \n",
    "    # create array for collecting --- ASK JAMES IF THIS CAN BE IMPROVED ---- ask James what means \n",
    "    qDarray = Vector{Float64}[]\n",
    "\n",
    "    # calculate the frequency of each clone\n",
    "    freq = calcFreq(uniqueClones,cells)\n",
    "    Mullerfreq = freq\n",
    "    qD, qRange = calcqD(freq);\n",
    "    push!(qDarray, qD)\n",
    "    whoDied = Tuple{Int, Float64}[]\n",
    "    \n",
    "    ## make first entry of data for Muller plot data collection\n",
    "    MullerData = DataFrame(generation=[], population=[], edgelist=[])\n",
    "    push!(MullerData, [1, floor.(Int,cellCount*freq), []])\n",
    "\n",
    "    for gen in 2:totGen\n",
    "\n",
    "        # Step 1: calculate prob of each clone to be replicating\n",
    "        # Step 2: find which clone replicates (random number, see who select)\n",
    "        # Step 3: decide if mutate (rand num)\n",
    "        # Step 4: decide how much mutates by (offspring close to num in payoff)\n",
    "       \n",
    "        edgeData = []\n",
    "        \n",
    "        # get a cumulative probability distribution (essentially CDF) for probability of replication\n",
    "        CDF = probReplication(payoff, freq, intensity) \n",
    "\n",
    "        # decide which clone replicates\n",
    "        ####### FIXME ###### (When only single clone )\n",
    "        roll = rand()\n",
    "        \n",
    "        whichOneRep = []\n",
    "        whichOneRepIndex = []\n",
    "        try\n",
    "            # looking for the first time we exceed the role, if so mutates\n",
    "            whichOneRepIndex = findall(y->(y>=roll),CDF)[1]\n",
    "            whichOneRep = uniqueClones[whichOneRepIndex]\n",
    "        catch\n",
    "            @show freq, payoff, uniqueClones,CDF\n",
    "            @error(\"what??\")\n",
    "        end\n",
    "        \n",
    "       # println(\"which one reps \", whichOneRep)\n",
    "        #once replication occurs, does it mutated\n",
    "        if (mutProb > rand())\n",
    "            ## true, add to payoff matrix\n",
    "            # if you mutate, update payoff, update array of cells and add new cell to total num of clones\n",
    "            payoff = makeNewClone(payoff, whichOneRepIndex, freqSelOn) \n",
    "            numClones +=1\n",
    "            totClones +=1\n",
    "            whoReplacesDead = totClones\n",
    "            push!(uniqueClones, whoReplacesDead)\n",
    "            edgeData = [whichOneRep,totClones]\n",
    "        else\n",
    "            ## false - no mutation\n",
    "            whoReplacesDead = whichOneRep\n",
    "        end\n",
    "                    \n",
    "        # randomly pick who dies (randomly pick a clone, replace with new clone)\n",
    "        whichCellDies = rand(1:cellCount)\n",
    "        cells[whichCellDies] = whoReplacesDead\n",
    "        \n",
    "        # check to see if a clone is lost --> 0 is a lost clone\n",
    "        # calculate the frequency of each clone to identify 0 clone\n",
    "        freq = calcFreq(uniqueClones,cells)\n",
    "        Mullerfreq = calcFreq(Array(1:totClones),cells);\n",
    "                \n",
    "        # check if we lost a clone, if yes       \n",
    "        locZeros = findall(x->x==0,freq)\n",
    "        # if clone died, record it in whoDied and remove from payoff\n",
    "        if length(locZeros) > 0\n",
    "            \n",
    "            deadClone = locZeros[1]\n",
    "            # record which clone died and its payoff\n",
    "            push!(whoDied, (uniqueClones[deadClone], payoff[deadClone,1]))     \n",
    "            # delete dead clone from payoff, freq, and number of clones\n",
    "            payoff = deleteClone(payoff, deadClone)\n",
    "            deleteat!(freq,deadClone)\n",
    "            deleteat!(uniqueClones,deadClone)\n",
    "            numClones -= 1\n",
    "            \n",
    "        end\n",
    "        \n",
    "        numClonesTrack[gen] = numClones; \n",
    "        if gen % howOftenCalcQD == 0\n",
    "          qD, _ = calcqD(freq);\n",
    "          push!(qDarray, qD)\n",
    "        end\n",
    "        \n",
    "        ### append Muller plot collection data\n",
    "        # generation number; population size; edge list (parent, child)\n",
    "        \n",
    "        #popvector = cellCount*freq;\n",
    "        push!(MullerData, [gen, floor.(Int,cellCount*Mullerfreq), edgeData])\n",
    "        \n",
    "    end\n",
    "   # currently only returning first column of payoff matrix because all rows are the same\n",
    "    return (numClonesTrack=numClonesTrack, totClones=totClones, freq=freq, payoff=payoff[:,1], whoDied=whoDied, qD=qDarray, q=qRange, MD=MullerData)\n",
    "    \n",
    "end"
   ]
  },
  {
   "cell_type": "code",
   "execution_count": 18,
   "metadata": {},
   "outputs": [],
   "source": [
    "    # inputs: \n",
    "    #   initialPayoff::Vector{Float64} - fill vector \n",
    "    #   totGen::Int64 - number of generations to loop over\n",
    "    #   cellCount::Int64 - total number of cells/total population size\n",
    "    #   numClones::Int64 - number of distinct clones\n",
    "    #   intensity::Float64 - selection intensity\n",
    "    #   mutProb:: Float64 - probability a clone mutates \n",
    "    #   howOftenCalcQD::Int64 - calculate qD every howOftenCalcQD timesteps\n",
    "    #   resQD::Int64 - resolution at which qD is calculated, defaults to 1000 \n",
    "    #   freqSelOn::Bool = tells whether on freq dependent selection or constant selection"
   ]
  },
  {
   "cell_type": "code",
   "execution_count": 19,
   "metadata": {},
   "outputs": [],
   "source": [
    "# outputs: (\n",
    "#       numClonesTrack=numClonesTrack, \n",
    "#       totClones=totClones, \n",
    "#       freq=freq, \n",
    "#       payoff=payoff[:,1], \n",
    "#       whoDied=whoDied, \n",
    "#       qD=qDarray, q=qRange\n",
    "# )"
   ]
  },
  {
   "cell_type": "code",
   "execution_count": 80,
   "metadata": {},
   "outputs": [],
   "source": [
    "numClones = 1;\n",
    "mut = 0.1;\n",
    "cellCount = 100;\n",
    "initialPayoff = rand(numClones);\n",
    "gen=5000;\n",
    "selInt = 10.0;\n",
    "howOften = 1;\n",
    "resolution = 1;\n",
    "freqSelType = true;"
   ]
  },
  {
   "cell_type": "code",
   "execution_count": 81,
   "metadata": {},
   "outputs": [],
   "source": [
    "test2 = runSim(initialPayoff,gen,cellCount,numClones,selInt,mut,howOften,resolution,freqSelType);"
   ]
  },
  {
   "cell_type": "code",
   "execution_count": 82,
   "metadata": {},
   "outputs": [
    {
     "data": {
      "text/plain": [
       "fillInMullerTable (generic function with 1 method)"
      ]
     },
     "execution_count": 82,
     "metadata": {},
     "output_type": "execute_result"
    }
   ],
   "source": [
    "function fillInMullerTable(df::DataFrame)\n",
    "    \n",
    "    totClNum = length(df[end,:population])\n",
    "    gen = df[end,:generation]\n",
    "    \n",
    "    newTable = zeros(Int,gen,totClNum);\n",
    "    tmp = []\n",
    "    \n",
    "    for i in 1:gen\n",
    "        tmp = length(df[i,:population])\n",
    "        newTable[i, 1:tmp] = df[i,:population]\n",
    "    end\n",
    "    \n",
    "    return newTable\n",
    "end"
   ]
  },
  {
   "cell_type": "code",
   "execution_count": 83,
   "metadata": {},
   "outputs": [
    {
     "data": {
      "text/plain": [
       "5000×489 Array{Int64,2}:\n",
       " 100  0  0  0  0  0  0  0  0  0  0  0  …  0  0  0  0  0  0  0  0  0  0  0  0\n",
       " 100  0  0  0  0  0  0  0  0  0  0  0     0  0  0  0  0  0  0  0  0  0  0  0\n",
       " 100  0  0  0  0  0  0  0  0  0  0  0     0  0  0  0  0  0  0  0  0  0  0  0\n",
       " 100  0  0  0  0  0  0  0  0  0  0  0     0  0  0  0  0  0  0  0  0  0  0  0\n",
       " 100  0  0  0  0  0  0  0  0  0  0  0     0  0  0  0  0  0  0  0  0  0  0  0\n",
       " 100  0  0  0  0  0  0  0  0  0  0  0  …  0  0  0  0  0  0  0  0  0  0  0  0\n",
       "  99  1  0  0  0  0  0  0  0  0  0  0     0  0  0  0  0  0  0  0  0  0  0  0\n",
       "  99  1  0  0  0  0  0  0  0  0  0  0     0  0  0  0  0  0  0  0  0  0  0  0\n",
       "  99  1  0  0  0  0  0  0  0  0  0  0     0  0  0  0  0  0  0  0  0  0  0  0\n",
       "  99  1  0  0  0  0  0  0  0  0  0  0     0  0  0  0  0  0  0  0  0  0  0  0\n",
       "  99  1  0  0  0  0  0  0  0  0  0  0  …  0  0  0  0  0  0  0  0  0  0  0  0\n",
       "  99  1  0  0  0  0  0  0  0  0  0  0     0  0  0  0  0  0  0  0  0  0  0  0\n",
       "  99  1  0  0  0  0  0  0  0  0  0  0     0  0  0  0  0  0  0  0  0  0  0  0\n",
       "   ⋮              ⋮              ⋮     ⋱           ⋮              ⋮         \n",
       "  63  0  0  0  0  0  0  0  0  0  0  0     3  1  1  2  1  1  0  0  1  1  0  0\n",
       "  64  0  0  0  0  0  0  0  0  0  0  0     3  1  1  2  1  1  0  0  1  1  0  0\n",
       "  64  0  0  0  0  0  0  0  0  0  0  0  …  3  1  1  2  1  1  0  0  1  1  0  0\n",
       "  64  0  0  0  0  0  0  0  0  0  0  0     3  1  1  2  1  1  0  0  1  1  0  0\n",
       "  63  0  0  0  0  0  0  0  0  0  0  0     3  1  1  2  1  1  0  0  1  1  0  1\n",
       "  63  0  0  0  0  0  0  0  0  0  0  0     3  2  1  2  1  1  0  0  1  1  0  1\n",
       "  64  0  0  0  0  0  0  0  0  0  0  0     3  2  1  2  1  1  0  0  1  1  0  1\n",
       "  63  0  0  0  0  0  0  0  0  0  0  0  …  3  2  1  2  1  1  0  0  1  1  0  1\n",
       "  63  0  0  0  0  0  0  0  0  0  0  0     3  2  1  2  1  1  0  0  1  1  0  1\n",
       "  63  0  0  0  0  0  0  0  0  0  0  0     3  2  1  2  1  1  0  0  1  1  0  1\n",
       "  63  0  0  0  0  0  0  0  0  0  0  0     3  2  1  2  1  1  0  0  1  1  0  1\n",
       "  62  0  0  0  0  0  0  0  0  0  0  0     3  2  1  2  1  1  0  0  1  1  0  1"
      ]
     },
     "execution_count": 83,
     "metadata": {},
     "output_type": "execute_result"
    }
   ],
   "source": [
    "newMullerPopulation = fillInMullerTable(test2.MD)"
   ]
  },
  {
   "cell_type": "code",
   "execution_count": 84,
   "metadata": {},
   "outputs": [
    {
     "data": {
      "text/html": [
       "<table class=\"data-frame\"><thead><tr><th></th><th>gen</th><th>edgelist</th></tr><tr><th></th><th>Any</th><th>Any</th></tr></thead><tbody><p>488 rows × 2 columns</p><tr><th>1</th><td>7</td><td>[1, 2]</td></tr><tr><th>2</th><td>14</td><td>[1, 3]</td></tr><tr><th>3</th><td>30</td><td>[1, 4]</td></tr><tr><th>4</th><td>34</td><td>[1, 5]</td></tr><tr><th>5</th><td>35</td><td>[1, 6]</td></tr><tr><th>6</th><td>37</td><td>[1, 7]</td></tr><tr><th>7</th><td>38</td><td>[1, 8]</td></tr><tr><th>8</th><td>63</td><td>[3, 9]</td></tr><tr><th>9</th><td>74</td><td>[1, 10]</td></tr><tr><th>10</th><td>79</td><td>[1, 11]</td></tr><tr><th>11</th><td>80</td><td>[1, 12]</td></tr><tr><th>12</th><td>93</td><td>[1, 13]</td></tr><tr><th>13</th><td>122</td><td>[1, 14]</td></tr><tr><th>14</th><td>125</td><td>[1, 15]</td></tr><tr><th>15</th><td>135</td><td>[1, 16]</td></tr><tr><th>16</th><td>150</td><td>[1, 17]</td></tr><tr><th>17</th><td>166</td><td>[1, 18]</td></tr><tr><th>18</th><td>184</td><td>[16, 19]</td></tr><tr><th>19</th><td>187</td><td>[1, 20]</td></tr><tr><th>20</th><td>206</td><td>[18, 21]</td></tr><tr><th>21</th><td>218</td><td>[1, 22]</td></tr><tr><th>22</th><td>233</td><td>[1, 23]</td></tr><tr><th>23</th><td>243</td><td>[1, 24]</td></tr><tr><th>24</th><td>244</td><td>[1, 25]</td></tr><tr><th>25</th><td>245</td><td>[1, 26]</td></tr><tr><th>26</th><td>247</td><td>[1, 27]</td></tr><tr><th>27</th><td>256</td><td>[1, 28]</td></tr><tr><th>28</th><td>266</td><td>[1, 29]</td></tr><tr><th>29</th><td>284</td><td>[1, 30]</td></tr><tr><th>30</th><td>294</td><td>[1, 31]</td></tr><tr><th>&vellip;</th><td>&vellip;</td><td>&vellip;</td></tr></tbody></table>"
      ],
      "text/latex": [
       "\\begin{tabular}{r|cc}\n",
       "\t& gen & edgelist\\\\\n",
       "\t\\hline\n",
       "\t& Any & Any\\\\\n",
       "\t\\hline\n",
       "\t1 & 7 & [1, 2] \\\\\n",
       "\t2 & 14 & [1, 3] \\\\\n",
       "\t3 & 30 & [1, 4] \\\\\n",
       "\t4 & 34 & [1, 5] \\\\\n",
       "\t5 & 35 & [1, 6] \\\\\n",
       "\t6 & 37 & [1, 7] \\\\\n",
       "\t7 & 38 & [1, 8] \\\\\n",
       "\t8 & 63 & [3, 9] \\\\\n",
       "\t9 & 74 & [1, 10] \\\\\n",
       "\t10 & 79 & [1, 11] \\\\\n",
       "\t11 & 80 & [1, 12] \\\\\n",
       "\t12 & 93 & [1, 13] \\\\\n",
       "\t13 & 122 & [1, 14] \\\\\n",
       "\t14 & 125 & [1, 15] \\\\\n",
       "\t15 & 135 & [1, 16] \\\\\n",
       "\t16 & 150 & [1, 17] \\\\\n",
       "\t17 & 166 & [1, 18] \\\\\n",
       "\t18 & 184 & [16, 19] \\\\\n",
       "\t19 & 187 & [1, 20] \\\\\n",
       "\t20 & 206 & [18, 21] \\\\\n",
       "\t21 & 218 & [1, 22] \\\\\n",
       "\t22 & 233 & [1, 23] \\\\\n",
       "\t23 & 243 & [1, 24] \\\\\n",
       "\t24 & 244 & [1, 25] \\\\\n",
       "\t25 & 245 & [1, 26] \\\\\n",
       "\t26 & 247 & [1, 27] \\\\\n",
       "\t27 & 256 & [1, 28] \\\\\n",
       "\t28 & 266 & [1, 29] \\\\\n",
       "\t29 & 284 & [1, 30] \\\\\n",
       "\t30 & 294 & [1, 31] \\\\\n",
       "\t$\\dots$ & $\\dots$ & $\\dots$ \\\\\n",
       "\\end{tabular}\n"
      ],
      "text/plain": [
       "488×2 DataFrame\n",
       "│ Row │ gen  │ edgelist   │\n",
       "│     │ \u001b[90mAny\u001b[39m  │ \u001b[90mAny\u001b[39m        │\n",
       "├─────┼──────┼────────────┤\n",
       "│ 1   │ 7    │ [1, 2]     │\n",
       "│ 2   │ 14   │ [1, 3]     │\n",
       "│ 3   │ 30   │ [1, 4]     │\n",
       "│ 4   │ 34   │ [1, 5]     │\n",
       "│ 5   │ 35   │ [1, 6]     │\n",
       "│ 6   │ 37   │ [1, 7]     │\n",
       "│ 7   │ 38   │ [1, 8]     │\n",
       "│ 8   │ 63   │ [3, 9]     │\n",
       "│ 9   │ 74   │ [1, 10]    │\n",
       "│ 10  │ 79   │ [1, 11]    │\n",
       "⋮\n",
       "│ 478 │ 4904 │ [1, 479]   │\n",
       "│ 479 │ 4911 │ [1, 480]   │\n",
       "│ 480 │ 4913 │ [1, 481]   │\n",
       "│ 481 │ 4918 │ [1, 482]   │\n",
       "│ 482 │ 4931 │ [1, 483]   │\n",
       "│ 483 │ 4957 │ [1, 484]   │\n",
       "│ 484 │ 4959 │ [366, 485] │\n",
       "│ 485 │ 4973 │ [1, 486]   │\n",
       "│ 486 │ 4977 │ [1, 487]   │\n",
       "│ 487 │ 4979 │ [1, 488]   │\n",
       "│ 488 │ 4993 │ [1, 489]   │"
      ]
     },
     "execution_count": 84,
     "metadata": {},
     "output_type": "execute_result"
    }
   ],
   "source": [
    "edgeImportant = @from i in test2.MD begin\n",
    "    @where i.edgelist != []\n",
    "    @select {gen=i.generation,i.edgelist}\n",
    "    @collect DataFrame\n",
    "end"
   ]
  },
  {
   "cell_type": "code",
   "execution_count": 85,
   "metadata": {},
   "outputs": [],
   "source": [
    "pairedlist = edgeImportant[!,:edgelist];\n",
    "parentlist=zeros(Int,size(newMullerPopulation)[2])\n",
    "for j in 1:length(pairedlist)\n",
    "     parentlist[pairedlist[j][2]] = pairedlist[j][1]\n",
    "end"
   ]
  },
  {
   "cell_type": "code",
   "execution_count": 86,
   "metadata": {},
   "outputs": [],
   "source": [
    "clonelist = collect(1:length(pairedlist)+1);"
   ]
  },
  {
   "cell_type": "code",
   "execution_count": 87,
   "metadata": {},
   "outputs": [
    {
     "data": {
      "text/html": [
       "<table class=\"data-frame\"><thead><tr><th></th><th>child</th><th>parent</th></tr><tr><th></th><th>Int64</th><th>Int64</th></tr></thead><tbody><p>489 rows × 2 columns</p><tr><th>1</th><td>1</td><td>0</td></tr><tr><th>2</th><td>2</td><td>1</td></tr><tr><th>3</th><td>3</td><td>1</td></tr><tr><th>4</th><td>4</td><td>1</td></tr><tr><th>5</th><td>5</td><td>1</td></tr><tr><th>6</th><td>6</td><td>1</td></tr><tr><th>7</th><td>7</td><td>1</td></tr><tr><th>8</th><td>8</td><td>1</td></tr><tr><th>9</th><td>9</td><td>3</td></tr><tr><th>10</th><td>10</td><td>1</td></tr><tr><th>11</th><td>11</td><td>1</td></tr><tr><th>12</th><td>12</td><td>1</td></tr><tr><th>13</th><td>13</td><td>1</td></tr><tr><th>14</th><td>14</td><td>1</td></tr><tr><th>15</th><td>15</td><td>1</td></tr><tr><th>16</th><td>16</td><td>1</td></tr><tr><th>17</th><td>17</td><td>1</td></tr><tr><th>18</th><td>18</td><td>1</td></tr><tr><th>19</th><td>19</td><td>16</td></tr><tr><th>20</th><td>20</td><td>1</td></tr><tr><th>21</th><td>21</td><td>18</td></tr><tr><th>22</th><td>22</td><td>1</td></tr><tr><th>23</th><td>23</td><td>1</td></tr><tr><th>24</th><td>24</td><td>1</td></tr><tr><th>25</th><td>25</td><td>1</td></tr><tr><th>26</th><td>26</td><td>1</td></tr><tr><th>27</th><td>27</td><td>1</td></tr><tr><th>28</th><td>28</td><td>1</td></tr><tr><th>29</th><td>29</td><td>1</td></tr><tr><th>30</th><td>30</td><td>1</td></tr><tr><th>&vellip;</th><td>&vellip;</td><td>&vellip;</td></tr></tbody></table>"
      ],
      "text/latex": [
       "\\begin{tabular}{r|cc}\n",
       "\t& child & parent\\\\\n",
       "\t\\hline\n",
       "\t& Int64 & Int64\\\\\n",
       "\t\\hline\n",
       "\t1 & 1 & 0 \\\\\n",
       "\t2 & 2 & 1 \\\\\n",
       "\t3 & 3 & 1 \\\\\n",
       "\t4 & 4 & 1 \\\\\n",
       "\t5 & 5 & 1 \\\\\n",
       "\t6 & 6 & 1 \\\\\n",
       "\t7 & 7 & 1 \\\\\n",
       "\t8 & 8 & 1 \\\\\n",
       "\t9 & 9 & 3 \\\\\n",
       "\t10 & 10 & 1 \\\\\n",
       "\t11 & 11 & 1 \\\\\n",
       "\t12 & 12 & 1 \\\\\n",
       "\t13 & 13 & 1 \\\\\n",
       "\t14 & 14 & 1 \\\\\n",
       "\t15 & 15 & 1 \\\\\n",
       "\t16 & 16 & 1 \\\\\n",
       "\t17 & 17 & 1 \\\\\n",
       "\t18 & 18 & 1 \\\\\n",
       "\t19 & 19 & 16 \\\\\n",
       "\t20 & 20 & 1 \\\\\n",
       "\t21 & 21 & 18 \\\\\n",
       "\t22 & 22 & 1 \\\\\n",
       "\t23 & 23 & 1 \\\\\n",
       "\t24 & 24 & 1 \\\\\n",
       "\t25 & 25 & 1 \\\\\n",
       "\t26 & 26 & 1 \\\\\n",
       "\t27 & 27 & 1 \\\\\n",
       "\t28 & 28 & 1 \\\\\n",
       "\t29 & 29 & 1 \\\\\n",
       "\t30 & 30 & 1 \\\\\n",
       "\t$\\dots$ & $\\dots$ & $\\dots$ \\\\\n",
       "\\end{tabular}\n"
      ],
      "text/plain": [
       "489×2 DataFrame\n",
       "│ Row │ child │ parent │\n",
       "│     │ \u001b[90mInt64\u001b[39m │ \u001b[90mInt64\u001b[39m  │\n",
       "├─────┼───────┼────────┤\n",
       "│ 1   │ 1     │ 0      │\n",
       "│ 2   │ 2     │ 1      │\n",
       "│ 3   │ 3     │ 1      │\n",
       "│ 4   │ 4     │ 1      │\n",
       "│ 5   │ 5     │ 1      │\n",
       "│ 6   │ 6     │ 1      │\n",
       "│ 7   │ 7     │ 1      │\n",
       "│ 8   │ 8     │ 1      │\n",
       "│ 9   │ 9     │ 3      │\n",
       "│ 10  │ 10    │ 1      │\n",
       "⋮\n",
       "│ 479 │ 479   │ 1      │\n",
       "│ 480 │ 480   │ 1      │\n",
       "│ 481 │ 481   │ 1      │\n",
       "│ 482 │ 482   │ 1      │\n",
       "│ 483 │ 483   │ 1      │\n",
       "│ 484 │ 484   │ 1      │\n",
       "│ 485 │ 485   │ 366    │\n",
       "│ 486 │ 486   │ 1      │\n",
       "│ 487 │ 487   │ 1      │\n",
       "│ 488 │ 488   │ 1      │\n",
       "│ 489 │ 489   │ 1      │"
      ]
     },
     "execution_count": 87,
     "metadata": {},
     "output_type": "execute_result"
    }
   ],
   "source": [
    "edgeDF = DataFrame(child=clonelist, parent=parentlist)"
   ]
  },
  {
   "cell_type": "code",
   "execution_count": 88,
   "metadata": {},
   "outputs": [
    {
     "data": {
      "text/html": [
       "<table class=\"data-frame\"><thead><tr><th></th><th>x1</th><th>x2</th><th>x3</th><th>x4</th><th>x5</th><th>x6</th><th>x7</th><th>x8</th><th>x9</th><th>x10</th><th>x11</th><th>x12</th></tr><tr><th></th><th>Int64</th><th>Int64</th><th>Int64</th><th>Int64</th><th>Int64</th><th>Int64</th><th>Int64</th><th>Int64</th><th>Int64</th><th>Int64</th><th>Int64</th><th>Int64</th></tr></thead><tbody><p>5,000 rows × 489 columns (omitted printing of 477 columns)</p><tr><th>1</th><td>100</td><td>0</td><td>0</td><td>0</td><td>0</td><td>0</td><td>0</td><td>0</td><td>0</td><td>0</td><td>0</td><td>0</td></tr><tr><th>2</th><td>100</td><td>0</td><td>0</td><td>0</td><td>0</td><td>0</td><td>0</td><td>0</td><td>0</td><td>0</td><td>0</td><td>0</td></tr><tr><th>3</th><td>100</td><td>0</td><td>0</td><td>0</td><td>0</td><td>0</td><td>0</td><td>0</td><td>0</td><td>0</td><td>0</td><td>0</td></tr><tr><th>4</th><td>100</td><td>0</td><td>0</td><td>0</td><td>0</td><td>0</td><td>0</td><td>0</td><td>0</td><td>0</td><td>0</td><td>0</td></tr><tr><th>5</th><td>100</td><td>0</td><td>0</td><td>0</td><td>0</td><td>0</td><td>0</td><td>0</td><td>0</td><td>0</td><td>0</td><td>0</td></tr><tr><th>6</th><td>100</td><td>0</td><td>0</td><td>0</td><td>0</td><td>0</td><td>0</td><td>0</td><td>0</td><td>0</td><td>0</td><td>0</td></tr><tr><th>7</th><td>99</td><td>1</td><td>0</td><td>0</td><td>0</td><td>0</td><td>0</td><td>0</td><td>0</td><td>0</td><td>0</td><td>0</td></tr><tr><th>8</th><td>99</td><td>1</td><td>0</td><td>0</td><td>0</td><td>0</td><td>0</td><td>0</td><td>0</td><td>0</td><td>0</td><td>0</td></tr><tr><th>9</th><td>99</td><td>1</td><td>0</td><td>0</td><td>0</td><td>0</td><td>0</td><td>0</td><td>0</td><td>0</td><td>0</td><td>0</td></tr><tr><th>10</th><td>99</td><td>1</td><td>0</td><td>0</td><td>0</td><td>0</td><td>0</td><td>0</td><td>0</td><td>0</td><td>0</td><td>0</td></tr><tr><th>11</th><td>99</td><td>1</td><td>0</td><td>0</td><td>0</td><td>0</td><td>0</td><td>0</td><td>0</td><td>0</td><td>0</td><td>0</td></tr><tr><th>12</th><td>99</td><td>1</td><td>0</td><td>0</td><td>0</td><td>0</td><td>0</td><td>0</td><td>0</td><td>0</td><td>0</td><td>0</td></tr><tr><th>13</th><td>99</td><td>1</td><td>0</td><td>0</td><td>0</td><td>0</td><td>0</td><td>0</td><td>0</td><td>0</td><td>0</td><td>0</td></tr><tr><th>14</th><td>98</td><td>1</td><td>1</td><td>0</td><td>0</td><td>0</td><td>0</td><td>0</td><td>0</td><td>0</td><td>0</td><td>0</td></tr><tr><th>15</th><td>98</td><td>1</td><td>1</td><td>0</td><td>0</td><td>0</td><td>0</td><td>0</td><td>0</td><td>0</td><td>0</td><td>0</td></tr><tr><th>16</th><td>98</td><td>1</td><td>1</td><td>0</td><td>0</td><td>0</td><td>0</td><td>0</td><td>0</td><td>0</td><td>0</td><td>0</td></tr><tr><th>17</th><td>98</td><td>1</td><td>1</td><td>0</td><td>0</td><td>0</td><td>0</td><td>0</td><td>0</td><td>0</td><td>0</td><td>0</td></tr><tr><th>18</th><td>98</td><td>1</td><td>1</td><td>0</td><td>0</td><td>0</td><td>0</td><td>0</td><td>0</td><td>0</td><td>0</td><td>0</td></tr><tr><th>19</th><td>98</td><td>1</td><td>1</td><td>0</td><td>0</td><td>0</td><td>0</td><td>0</td><td>0</td><td>0</td><td>0</td><td>0</td></tr><tr><th>20</th><td>98</td><td>1</td><td>1</td><td>0</td><td>0</td><td>0</td><td>0</td><td>0</td><td>0</td><td>0</td><td>0</td><td>0</td></tr><tr><th>21</th><td>98</td><td>1</td><td>1</td><td>0</td><td>0</td><td>0</td><td>0</td><td>0</td><td>0</td><td>0</td><td>0</td><td>0</td></tr><tr><th>22</th><td>98</td><td>1</td><td>1</td><td>0</td><td>0</td><td>0</td><td>0</td><td>0</td><td>0</td><td>0</td><td>0</td><td>0</td></tr><tr><th>23</th><td>98</td><td>1</td><td>1</td><td>0</td><td>0</td><td>0</td><td>0</td><td>0</td><td>0</td><td>0</td><td>0</td><td>0</td></tr><tr><th>24</th><td>98</td><td>1</td><td>1</td><td>0</td><td>0</td><td>0</td><td>0</td><td>0</td><td>0</td><td>0</td><td>0</td><td>0</td></tr><tr><th>25</th><td>98</td><td>1</td><td>1</td><td>0</td><td>0</td><td>0</td><td>0</td><td>0</td><td>0</td><td>0</td><td>0</td><td>0</td></tr><tr><th>26</th><td>98</td><td>1</td><td>1</td><td>0</td><td>0</td><td>0</td><td>0</td><td>0</td><td>0</td><td>0</td><td>0</td><td>0</td></tr><tr><th>27</th><td>98</td><td>1</td><td>1</td><td>0</td><td>0</td><td>0</td><td>0</td><td>0</td><td>0</td><td>0</td><td>0</td><td>0</td></tr><tr><th>28</th><td>98</td><td>1</td><td>1</td><td>0</td><td>0</td><td>0</td><td>0</td><td>0</td><td>0</td><td>0</td><td>0</td><td>0</td></tr><tr><th>29</th><td>98</td><td>1</td><td>1</td><td>0</td><td>0</td><td>0</td><td>0</td><td>0</td><td>0</td><td>0</td><td>0</td><td>0</td></tr><tr><th>30</th><td>97</td><td>1</td><td>1</td><td>1</td><td>0</td><td>0</td><td>0</td><td>0</td><td>0</td><td>0</td><td>0</td><td>0</td></tr><tr><th>&vellip;</th><td>&vellip;</td><td>&vellip;</td><td>&vellip;</td><td>&vellip;</td><td>&vellip;</td><td>&vellip;</td><td>&vellip;</td><td>&vellip;</td><td>&vellip;</td><td>&vellip;</td><td>&vellip;</td><td>&vellip;</td></tr></tbody></table>"
      ],
      "text/latex": [
       "\\begin{tabular}{r|ccccccccccccc}\n",
       "\t& x1 & x2 & x3 & x4 & x5 & x6 & x7 & x8 & x9 & x10 & x11 & x12 & \\\\\n",
       "\t\\hline\n",
       "\t& Int64 & Int64 & Int64 & Int64 & Int64 & Int64 & Int64 & Int64 & Int64 & Int64 & Int64 & Int64 & \\\\\n",
       "\t\\hline\n",
       "\t1 & 100 & 0 & 0 & 0 & 0 & 0 & 0 & 0 & 0 & 0 & 0 & 0 & $\\dots$ \\\\\n",
       "\t2 & 100 & 0 & 0 & 0 & 0 & 0 & 0 & 0 & 0 & 0 & 0 & 0 & $\\dots$ \\\\\n",
       "\t3 & 100 & 0 & 0 & 0 & 0 & 0 & 0 & 0 & 0 & 0 & 0 & 0 & $\\dots$ \\\\\n",
       "\t4 & 100 & 0 & 0 & 0 & 0 & 0 & 0 & 0 & 0 & 0 & 0 & 0 & $\\dots$ \\\\\n",
       "\t5 & 100 & 0 & 0 & 0 & 0 & 0 & 0 & 0 & 0 & 0 & 0 & 0 & $\\dots$ \\\\\n",
       "\t6 & 100 & 0 & 0 & 0 & 0 & 0 & 0 & 0 & 0 & 0 & 0 & 0 & $\\dots$ \\\\\n",
       "\t7 & 99 & 1 & 0 & 0 & 0 & 0 & 0 & 0 & 0 & 0 & 0 & 0 & $\\dots$ \\\\\n",
       "\t8 & 99 & 1 & 0 & 0 & 0 & 0 & 0 & 0 & 0 & 0 & 0 & 0 & $\\dots$ \\\\\n",
       "\t9 & 99 & 1 & 0 & 0 & 0 & 0 & 0 & 0 & 0 & 0 & 0 & 0 & $\\dots$ \\\\\n",
       "\t10 & 99 & 1 & 0 & 0 & 0 & 0 & 0 & 0 & 0 & 0 & 0 & 0 & $\\dots$ \\\\\n",
       "\t11 & 99 & 1 & 0 & 0 & 0 & 0 & 0 & 0 & 0 & 0 & 0 & 0 & $\\dots$ \\\\\n",
       "\t12 & 99 & 1 & 0 & 0 & 0 & 0 & 0 & 0 & 0 & 0 & 0 & 0 & $\\dots$ \\\\\n",
       "\t13 & 99 & 1 & 0 & 0 & 0 & 0 & 0 & 0 & 0 & 0 & 0 & 0 & $\\dots$ \\\\\n",
       "\t14 & 98 & 1 & 1 & 0 & 0 & 0 & 0 & 0 & 0 & 0 & 0 & 0 & $\\dots$ \\\\\n",
       "\t15 & 98 & 1 & 1 & 0 & 0 & 0 & 0 & 0 & 0 & 0 & 0 & 0 & $\\dots$ \\\\\n",
       "\t16 & 98 & 1 & 1 & 0 & 0 & 0 & 0 & 0 & 0 & 0 & 0 & 0 & $\\dots$ \\\\\n",
       "\t17 & 98 & 1 & 1 & 0 & 0 & 0 & 0 & 0 & 0 & 0 & 0 & 0 & $\\dots$ \\\\\n",
       "\t18 & 98 & 1 & 1 & 0 & 0 & 0 & 0 & 0 & 0 & 0 & 0 & 0 & $\\dots$ \\\\\n",
       "\t19 & 98 & 1 & 1 & 0 & 0 & 0 & 0 & 0 & 0 & 0 & 0 & 0 & $\\dots$ \\\\\n",
       "\t20 & 98 & 1 & 1 & 0 & 0 & 0 & 0 & 0 & 0 & 0 & 0 & 0 & $\\dots$ \\\\\n",
       "\t21 & 98 & 1 & 1 & 0 & 0 & 0 & 0 & 0 & 0 & 0 & 0 & 0 & $\\dots$ \\\\\n",
       "\t22 & 98 & 1 & 1 & 0 & 0 & 0 & 0 & 0 & 0 & 0 & 0 & 0 & $\\dots$ \\\\\n",
       "\t23 & 98 & 1 & 1 & 0 & 0 & 0 & 0 & 0 & 0 & 0 & 0 & 0 & $\\dots$ \\\\\n",
       "\t24 & 98 & 1 & 1 & 0 & 0 & 0 & 0 & 0 & 0 & 0 & 0 & 0 & $\\dots$ \\\\\n",
       "\t25 & 98 & 1 & 1 & 0 & 0 & 0 & 0 & 0 & 0 & 0 & 0 & 0 & $\\dots$ \\\\\n",
       "\t26 & 98 & 1 & 1 & 0 & 0 & 0 & 0 & 0 & 0 & 0 & 0 & 0 & $\\dots$ \\\\\n",
       "\t27 & 98 & 1 & 1 & 0 & 0 & 0 & 0 & 0 & 0 & 0 & 0 & 0 & $\\dots$ \\\\\n",
       "\t28 & 98 & 1 & 1 & 0 & 0 & 0 & 0 & 0 & 0 & 0 & 0 & 0 & $\\dots$ \\\\\n",
       "\t29 & 98 & 1 & 1 & 0 & 0 & 0 & 0 & 0 & 0 & 0 & 0 & 0 & $\\dots$ \\\\\n",
       "\t30 & 97 & 1 & 1 & 1 & 0 & 0 & 0 & 0 & 0 & 0 & 0 & 0 & $\\dots$ \\\\\n",
       "\t$\\dots$ & $\\dots$ & $\\dots$ & $\\dots$ & $\\dots$ & $\\dots$ & $\\dots$ & $\\dots$ & $\\dots$ & $\\dots$ & $\\dots$ & $\\dots$ & $\\dots$ &  \\\\\n",
       "\\end{tabular}\n"
      ],
      "text/plain": [
       "5000×489 DataFrame. Omitted printing of 480 columns\n",
       "│ Row  │ x1    │ x2    │ x3    │ x4    │ x5    │ x6    │ x7    │ x8    │ x9    │\n",
       "│      │ \u001b[90mInt64\u001b[39m │ \u001b[90mInt64\u001b[39m │ \u001b[90mInt64\u001b[39m │ \u001b[90mInt64\u001b[39m │ \u001b[90mInt64\u001b[39m │ \u001b[90mInt64\u001b[39m │ \u001b[90mInt64\u001b[39m │ \u001b[90mInt64\u001b[39m │ \u001b[90mInt64\u001b[39m │\n",
       "├──────┼───────┼───────┼───────┼───────┼───────┼───────┼───────┼───────┼───────┤\n",
       "│ 1    │ 100   │ 0     │ 0     │ 0     │ 0     │ 0     │ 0     │ 0     │ 0     │\n",
       "│ 2    │ 100   │ 0     │ 0     │ 0     │ 0     │ 0     │ 0     │ 0     │ 0     │\n",
       "│ 3    │ 100   │ 0     │ 0     │ 0     │ 0     │ 0     │ 0     │ 0     │ 0     │\n",
       "│ 4    │ 100   │ 0     │ 0     │ 0     │ 0     │ 0     │ 0     │ 0     │ 0     │\n",
       "│ 5    │ 100   │ 0     │ 0     │ 0     │ 0     │ 0     │ 0     │ 0     │ 0     │\n",
       "│ 6    │ 100   │ 0     │ 0     │ 0     │ 0     │ 0     │ 0     │ 0     │ 0     │\n",
       "│ 7    │ 99    │ 1     │ 0     │ 0     │ 0     │ 0     │ 0     │ 0     │ 0     │\n",
       "│ 8    │ 99    │ 1     │ 0     │ 0     │ 0     │ 0     │ 0     │ 0     │ 0     │\n",
       "│ 9    │ 99    │ 1     │ 0     │ 0     │ 0     │ 0     │ 0     │ 0     │ 0     │\n",
       "│ 10   │ 99    │ 1     │ 0     │ 0     │ 0     │ 0     │ 0     │ 0     │ 0     │\n",
       "⋮\n",
       "│ 4990 │ 64    │ 0     │ 0     │ 0     │ 0     │ 0     │ 0     │ 0     │ 0     │\n",
       "│ 4991 │ 64    │ 0     │ 0     │ 0     │ 0     │ 0     │ 0     │ 0     │ 0     │\n",
       "│ 4992 │ 64    │ 0     │ 0     │ 0     │ 0     │ 0     │ 0     │ 0     │ 0     │\n",
       "│ 4993 │ 63    │ 0     │ 0     │ 0     │ 0     │ 0     │ 0     │ 0     │ 0     │\n",
       "│ 4994 │ 63    │ 0     │ 0     │ 0     │ 0     │ 0     │ 0     │ 0     │ 0     │\n",
       "│ 4995 │ 64    │ 0     │ 0     │ 0     │ 0     │ 0     │ 0     │ 0     │ 0     │\n",
       "│ 4996 │ 63    │ 0     │ 0     │ 0     │ 0     │ 0     │ 0     │ 0     │ 0     │\n",
       "│ 4997 │ 63    │ 0     │ 0     │ 0     │ 0     │ 0     │ 0     │ 0     │ 0     │\n",
       "│ 4998 │ 63    │ 0     │ 0     │ 0     │ 0     │ 0     │ 0     │ 0     │ 0     │\n",
       "│ 4999 │ 63    │ 0     │ 0     │ 0     │ 0     │ 0     │ 0     │ 0     │ 0     │\n",
       "│ 5000 │ 62    │ 0     │ 0     │ 0     │ 0     │ 0     │ 0     │ 0     │ 0     │"
      ]
     },
     "execution_count": 88,
     "metadata": {},
     "output_type": "execute_result"
    }
   ],
   "source": [
    "genDF = DataFrame(newMullerPopulation)"
   ]
  },
  {
   "cell_type": "code",
   "execution_count": 64,
   "metadata": {},
   "outputs": [],
   "source": [
    "using CSV"
   ]
  },
  {
   "cell_type": "code",
   "execution_count": 89,
   "metadata": {},
   "outputs": [
    {
     "data": {
      "text/plain": [
       "\"MullerTest_EdgeDF_test3_2020-06-03.csv\""
      ]
     },
     "execution_count": 89,
     "metadata": {},
     "output_type": "execute_result"
    }
   ],
   "source": [
    "CSV.write(\"MullerTest_GenDF_test3_2020-06-03.csv\", genDF)\n",
    "CSV.write(\"MullerTest_EdgeDF_test3_2020-06-03.csv\", edgeDF)"
   ]
  },
  {
   "cell_type": "code",
   "execution_count": 61,
   "metadata": {},
   "outputs": [],
   "source": [
    "using RCall"
   ]
  },
  {
   "cell_type": "code",
   "execution_count": null,
   "metadata": {},
   "outputs": [],
   "source": []
  },
  {
   "cell_type": "code",
   "execution_count": 63,
   "metadata": {},
   "outputs": [
    {
     "ename": "RCall.REvalError",
     "evalue": "REvalError: Error in loadNamespace(name) : there is no package called ‘EvoFreq’\nCalls: asNamespace ... loadNamespace -> withRestarts -> withOneRestart -> doWithOneRestart",
     "output_type": "error",
     "traceback": [
      "REvalError: Error in loadNamespace(name) : there is no package called ‘EvoFreq’\nCalls: asNamespace ... loadNamespace -> withRestarts -> withOneRestart -> doWithOneRestart",
      "",
      "Stacktrace:",
      " [1] macro expansion at ./logging.jl:307 [inlined]",
      " [2] #handle_eval_stderr#43(::Bool, ::Function) at /Users/mcfefa/.julia/packages/RCall/Qzssx/src/io.jl:160",
      " [3] #handle_eval_stderr at ./none:0 [inlined]",
      " [4] reval_p(::Ptr{LangSxp}, ::Ptr{EnvSxp}) at /Users/mcfefa/.julia/packages/RCall/Qzssx/src/eval.jl:99",
      " [5] reval_p at /Users/mcfefa/.julia/packages/RCall/Qzssx/src/eval.jl:95 [inlined]",
      " [6] #rcall_p#36 at /Users/mcfefa/.julia/packages/RCall/Qzssx/src/language.jl:30 [inlined]",
      " [7] rcall_p at /Users/mcfefa/.julia/packages/RCall/Qzssx/src/language.jl:30 [inlined]",
      " [8] #rcall#37(::Base.Iterators.Pairs{Union{},Union{},Tuple{},NamedTuple{,Tuple{}}}, ::Function, ::Symbol, ::String) at /Users/mcfefa/.julia/packages/RCall/Qzssx/src/language.jl:37",
      " [9] rcall at /Users/mcfefa/.julia/packages/RCall/Qzssx/src/language.jl:37 [inlined]",
      " [10] #rimport#45(::Bool, ::Function, ::String, ::Symbol) at /Users/mcfefa/.julia/packages/RCall/Qzssx/src/namespaces.jl:25",
      " [11] rimport at /Users/mcfefa/.julia/packages/RCall/Qzssx/src/namespaces.jl:22 [inlined]",
      " [12] rimport at /Users/mcfefa/.julia/packages/RCall/Qzssx/src/namespaces.jl:46 [inlined] (repeats 2 times)",
      " [13] top-level scope at /Users/mcfefa/.julia/packages/RCall/Qzssx/src/namespaces.jl:95",
      " [14] top-level scope at In[63]:1"
     ]
    }
   ],
   "source": [
    "@rlibrary EvoFreq"
   ]
  },
  {
   "cell_type": "code",
   "execution_count": 62,
   "metadata": {},
   "outputs": [
    {
     "ename": "RCall.REvalError",
     "evalue": "REvalError: Error in contrib.url(repos, \"source\") : \n  trying to use CRAN without setting a mirror\nCalls: install.packages -> contrib.url",
     "output_type": "error",
     "traceback": [
      "REvalError: Error in contrib.url(repos, \"source\") : \n  trying to use CRAN without setting a mirror\nCalls: install.packages -> contrib.url",
      "",
      "Stacktrace:",
      " [1] macro expansion at ./logging.jl:307 [inlined]",
      " [2] #handle_eval_stderr#43(::Bool, ::Function) at /Users/mcfefa/.julia/packages/RCall/Qzssx/src/io.jl:160",
      " [3] #handle_eval_stderr at ./none:0 [inlined]",
      " [4] reval_p(::Ptr{LangSxp}, ::Ptr{EnvSxp}) at /Users/mcfefa/.julia/packages/RCall/Qzssx/src/eval.jl:99",
      " [5] reval_p(::Ptr{RCall.ExprSxp}, ::Ptr{EnvSxp}) at /Users/mcfefa/.julia/packages/RCall/Qzssx/src/eval.jl:115",
      " [6] reval(::String, ::RObject{EnvSxp}) at /Users/mcfefa/.julia/packages/RCall/Qzssx/src/eval.jl:132",
      " [7] top-level scope at /Users/mcfefa/.julia/packages/RCall/Qzssx/src/macros.jl:71",
      " [8] top-level scope at In[62]:1"
     ]
    }
   ],
   "source": [
    "R\"install.packages('contrib.url')\""
   ]
  },
  {
   "cell_type": "code",
   "execution_count": 57,
   "metadata": {},
   "outputs": [
    {
     "ename": "RCall.REvalError",
     "evalue": "REvalError: Error in contrib.url(repos, \"source\") : \n  trying to use CRAN without setting a mirror\nCalls: install.packages -> contrib.url",
     "output_type": "error",
     "traceback": [
      "REvalError: Error in contrib.url(repos, \"source\") : \n  trying to use CRAN without setting a mirror\nCalls: install.packages -> contrib.url",
      "",
      "Stacktrace:",
      " [1] macro expansion at ./logging.jl:307 [inlined]",
      " [2] #handle_eval_stderr#43(::Bool, ::Function) at /Users/mcfefa/.julia/packages/RCall/Qzssx/src/io.jl:160",
      " [3] #handle_eval_stderr at ./none:0 [inlined]",
      " [4] reval_p(::Ptr{LangSxp}, ::Ptr{EnvSxp}) at /Users/mcfefa/.julia/packages/RCall/Qzssx/src/eval.jl:99",
      " [5] reval_p(::Ptr{RCall.ExprSxp}, ::Ptr{EnvSxp}) at /Users/mcfefa/.julia/packages/RCall/Qzssx/src/eval.jl:115",
      " [6] reval(::String, ::RObject{EnvSxp}) at /Users/mcfefa/.julia/packages/RCall/Qzssx/src/eval.jl:132",
      " [7] top-level scope at /Users/mcfefa/.julia/packages/RCall/Qzssx/src/macros.jl:71",
      " [8] top-level scope at In[57]:1"
     ]
    }
   ],
   "source": [
    "R\"install.packages('devtools', source='https://cloud.r-project.org')\""
   ]
  },
  {
   "cell_type": "code",
   "execution_count": null,
   "metadata": {},
   "outputs": [],
   "source": [
    "R\"library(devtools)\""
   ]
  },
  {
   "cell_type": "code",
   "execution_count": null,
   "metadata": {},
   "outputs": [],
   "source": []
  },
  {
   "cell_type": "code",
   "execution_count": null,
   "metadata": {},
   "outputs": [],
   "source": []
  },
  {
   "cell_type": "code",
   "execution_count": null,
   "metadata": {},
   "outputs": [],
   "source": []
  },
  {
   "cell_type": "code",
   "execution_count": null,
   "metadata": {},
   "outputs": [],
   "source": []
  },
  {
   "cell_type": "code",
   "execution_count": null,
   "metadata": {},
   "outputs": [],
   "source": []
  },
  {
   "cell_type": "code",
   "execution_count": null,
   "metadata": {},
   "outputs": [],
   "source": []
  },
  {
   "cell_type": "code",
   "execution_count": null,
   "metadata": {},
   "outputs": [],
   "source": [
    "numClones = 1;\n",
    "mut = 2.0e-3;\n",
    "cellCount = 1000;\n",
    "initialPayoff = rand(numClones);\n",
    "gen=500000;\n",
    "selInt = 10.0;\n",
    "howOften = 10000;\n",
    "resolution = 10000;\n",
    "freqSelType = false;"
   ]
  },
  {
   "cell_type": "code",
   "execution_count": null,
   "metadata": {},
   "outputs": [],
   "source": []
  },
  {
   "cell_type": "code",
   "execution_count": null,
   "metadata": {},
   "outputs": [],
   "source": [
    "resConstSel = runSim(initialPayoff,gen,cellCount,numClones,selInt,mut,howOften,resolution,freqSelType);"
   ]
  },
  {
   "cell_type": "code",
   "execution_count": null,
   "metadata": {},
   "outputs": [],
   "source": [
    "resFreqSel = runSim(initialPayoff,gen,cellCount,numClones,selInt,mut,howOften,resolution,true);"
   ]
  },
  {
   "cell_type": "code",
   "execution_count": null,
   "metadata": {},
   "outputs": [],
   "source": [
    "###### Saving results in Julia\n",
    "## using Serialization\n",
    "## to save\n",
    "## open(fileOut, \"w\") do fp\n",
    "##    serialize(fp, x)\n",
    "##  end\n",
    "## to get back out\n",
    "## x = open(fileIn, \"r\") do fp\n",
    "##    deserialize(fp, x)\n",
    "##  end"
   ]
  },
  {
   "cell_type": "code",
   "execution_count": null,
   "metadata": {},
   "outputs": [],
   "source": [
    "fileOut1 = string(\"SimResults_Constant-Sel_Rep-1_selInt-10_mutRate-2e-3_gen-500k_\",Dates.today(),\".dat\")\n",
    "open(fileOut1, \"w\") do fp\n",
    "    serialize(fp, resConstSel)\n",
    "end"
   ]
  },
  {
   "cell_type": "code",
   "execution_count": null,
   "metadata": {},
   "outputs": [],
   "source": [
    "fileOut2 = string(\"SimResults_Freq-Sel_Rep-1_selInt-10_mutRate-2e-3_gen-500k_\",Dates.today(),\".dat\")\n",
    "open(fileOut2, \"w\") do fp\n",
    "    serialize(fp, resFreqSel)\n",
    "end"
   ]
  },
  {
   "cell_type": "code",
   "execution_count": null,
   "metadata": {},
   "outputs": [],
   "source": [
    "# plot qD curve: \n",
    "qdPlot = plot(resConstSel.q,resConstSel.qD,xaxis=:log,legend=:none, color_palette=:reds, grid=false)\n",
    "plot!(qdPlot, resFreqSel.q,resFreqSel.qD,xaxis=:log,legend=:none, color_palette=:blues, opacity=0.5)"
   ]
  },
  {
   "cell_type": "code",
   "execution_count": null,
   "metadata": {},
   "outputs": [],
   "source": [
    "savefig(qdPlot, string(\"DiversityCurves_selInt-10_mutRate-2e-3_\",Dates.today(),\".pdf\"))"
   ]
  },
  {
   "cell_type": "code",
   "execution_count": null,
   "metadata": {},
   "outputs": [],
   "source": [
    "# histogram of number of clones at a time\n",
    "hPlot = histogram(resConstSel.numClonesTrack, bins=:scott, normalize=:probability, color=:red, opacity=0.7, grid=false)\n",
    "histogram!(hPlot, resFreqSel.numClonesTrack, bins=:scott, normalize=:probability, color=:blue, opacity=0.7)"
   ]
  },
  {
   "cell_type": "code",
   "execution_count": null,
   "metadata": {},
   "outputs": [],
   "source": [
    "savefig(hPlot, string(\"Histogram-of-Clones_selInt-10_mutRate-2e-3_\",Dates.today(),\".pdf\"))"
   ]
  },
  {
   "cell_type": "code",
   "execution_count": null,
   "metadata": {},
   "outputs": [],
   "source": [
    "function calcDivDF(q, qD)\n",
    "    # create a dataframe with top diversity metrics we look at: lowq, highq, deltaqD, IPq, IP slope\n",
    "    \n",
    "    # step 1: create empty vectors\n",
    "    lowTmp = zeros(length(qD))\n",
    "    highTmp = zeros(length(qD))\n",
    "    deltaTmp = zeros(length(qD))\n",
    "    IPtmp = zeros(length(qD),2)\n",
    "    \n",
    "    # loop through all diversity curves generated in simulation\n",
    "    for i in 1:length(qD)\n",
    "        lowTmp[i] = qD[i][1]    # record low q diversity, q=0.01\n",
    "        highTmp[i] = qD[i][end] # record high q diversity, q=100\n",
    "        deltaTmp[i] = qD[i][1] - qD[i][end]  # calculate delta qD diversity\n",
    "        IPq, IPm = reportInflection(q, qD[i]) # find and calculated IP q and slope\n",
    "        IPtmp[i,1] = IPq; # inflection point q and slope to respective locations\n",
    "        IPtmp[i,2] = IPm;\n",
    "    end\n",
    "    \n",
    "    # compile together into a single dataframe\n",
    "    dfDiv = DataFrame(lowQ=lowTmp, highQ=highTmp, deltaqD=deltaTmp, IPq=IPtmp[:,1], IPslope=IPtmp[:,2])\n",
    "    \n",
    "    return dfDiv; \n",
    "    \n",
    "end\n"
   ]
  },
  {
   "cell_type": "code",
   "execution_count": null,
   "metadata": {},
   "outputs": [],
   "source": [
    "## inflection point calculation supporting functions\n",
    "\n",
    "function findInflection(q::Array, qD::Array)\n",
    "    approxLogDeriv = q[2:end].*diff(qD)./diff(q);\n",
    "    return approxLogDeriv; \n",
    "end\n",
    "\n",
    "function findInflectionLocal(approx::Array)\n",
    "    return argmin((approx))\n",
    "end\n",
    "\n",
    "function reportInflection(q::Array, qD::Array)\n",
    "    diffVector = findInflection(q, qD)\n",
    "    inflectPt = findInflectionLocal(diffVector)\n",
    "    slopeInflectPt = abs(diffVector[inflectPt])\n",
    "    qInflecPt = q[inflectPt+1]\n",
    "    return (qInflecPt, slopeInflectPt)\n",
    "end"
   ]
  },
  {
   "cell_type": "code",
   "execution_count": null,
   "metadata": {},
   "outputs": [],
   "source": [
    "constSelDivDF = calcDivDF(resConstSel.q, resConstSel.qD)\n",
    "first(constSelDivDF,3)"
   ]
  },
  {
   "cell_type": "code",
   "execution_count": null,
   "metadata": {},
   "outputs": [],
   "source": [
    "fileOutDF1 = string(\"./results/Moran-process/SimResults_DIVERSITY_Constant-Sel_Rep-1_selInt-10_mutRate-2e-3_gen-500k_\",Dates.today(),\".csv\")\n",
    "CSV.write(fileOutDF1,constSelDivDF)"
   ]
  },
  {
   "cell_type": "code",
   "execution_count": null,
   "metadata": {},
   "outputs": [],
   "source": [
    "freqSelDivDF = calcDivDF(resFreqSel.q, resFreqSel.qD)\n",
    "first(freqSelDivDF,3)"
   ]
  },
  {
   "cell_type": "code",
   "execution_count": null,
   "metadata": {},
   "outputs": [],
   "source": [
    "fileOutDF2 = string(\"./results/Moran-process/SimResults_DIVERSITY_Freq-Dep-Sel_Rep-1_selInt-10_mutRate-2e-3_gen-500k_\",Dates.today(),\".csv\")\n",
    "CSV.write(fileOutDF2,freqSelDivDF)"
   ]
  },
  {
   "cell_type": "code",
   "execution_count": null,
   "metadata": {},
   "outputs": [],
   "source": [
    "numClones = 1;\n",
    "mut = 2.0e-3;\n",
    "cellCount = 1000;\n",
    "initialPayoff = rand(numClones);\n",
    "gen=500000;\n",
    "selInt = 5.0;\n",
    "howOften = 10000;\n",
    "resolution = 10000;\n",
    "freqSelType = false;\n",
    "resConstSel_2en3mut_int5 = runSim(initialPayoff,gen,cellCount,numClones,selInt,mut,howOften,resolution,freqSelType);\n",
    "resFreqSel_2en3mut_int5 = runSim(initialPayoff,gen,cellCount,numClones,selInt,mut,howOften,resolution,true);"
   ]
  },
  {
   "cell_type": "code",
   "execution_count": null,
   "metadata": {},
   "outputs": [],
   "source": [
    "fileOutA = string(\"./results/Moran-process/SimResults_Constant-Sel_Rep-1_selInt-5_mutRate-2e-3_gen-500k_\",Dates.today(),\".dat\")\n",
    "open(fileOutA, \"w\") do fp\n",
    "    serialize(fp, resConstSel_2en3mut_int5)\n",
    "end\n",
    "fileOutB = string(\"./results/Moran-process/SimResults_Freq-Sel_Rep-1_selInt-5_mutRate-2e-3_gen-500k_\",Dates.today(),\".dat\")\n",
    "open(fileOutB, \"w\") do fp\n",
    "    serialize(fp, resFreqSel_2en3mut_int5)\n",
    "end"
   ]
  },
  {
   "cell_type": "code",
   "execution_count": null,
   "metadata": {},
   "outputs": [],
   "source": [
    "constSelDivDF_2en3mut_int5 = calcDivDF(resConstSel_2en3mut_int5.q, resConstSel_2en3mut_int5.qD)\n",
    "freqSelDivDF_2en3mut_int5 = calcDivDF(resFreqSel_2en3mut_int5.q, resFreqSel_2en3mut_int5.qD)\n",
    "\n",
    "fileOutDF1A = string(\"./results/Moran-process/SimResults_DIVERSITY_Constant-Sel_Rep-1_selInt-5_mutRate-2e-3_gen-500k_\",Dates.today(),\".csv\")\n",
    "CSV.write(fileOutDF1A,constSelDivDF_2en3mut_int5)\n",
    "\n",
    "fileOutDF2B = string(\"./results/Moran-process/SimResults_DIVERSITY_Freq-Dep-Sel_Rep-1_selInt-5_mutRate-2e-3_gen-500k_\",Dates.today(),\".csv\")\n",
    "CSV.write(fileOutDF2B,freqSelDivDF_2en3mut_int5)"
   ]
  },
  {
   "cell_type": "code",
   "execution_count": null,
   "metadata": {},
   "outputs": [],
   "source": [
    "# plot qD curve: \n",
    "qdPlot2 = plot(resConstSel_2en3mut_int5.q,resConstSel_2en3mut_int5.qD,xaxis=:log,legend=:none, color_palette=:reds, grid=false)\n",
    "plot!(qdPlot2, resFreqSel_2en3mut_int5.q,resFreqSel_2en3mut_int5.qD,xaxis=:log,legend=:none, color_palette=:blues, opacity=0.5)\n",
    "savefig(qdPlot2, string(\"./results/Moran-process/DiversityCurves_selInt-5_mutRate-2e-3_\",Dates.today(),\".pdf\"))"
   ]
  },
  {
   "cell_type": "code",
   "execution_count": null,
   "metadata": {},
   "outputs": [],
   "source": [
    "# histogram of number of clones at a time\n",
    "hPlot2 = histogram(resConstSel_2en3mut_int5.numClonesTrack, bins=:scott, normalize=:probability, color=:red, opacity=0.7, grid=false)\n",
    "histogram!(hPlot2, resFreqSel_2en3mut_int5.numClonesTrack, bins=:scott, normalize=:probability, color=:blue, opacity=0.7)\n",
    "savefig(hPlot2, string(\"Histogram-of-Clones_selInt-5_mutRate-2e-3_\",Dates.today(),\".pdf\"))"
   ]
  },
  {
   "cell_type": "markdown",
   "metadata": {},
   "source": [
    "#### Mutation Rate: 2e-1; Selection: 5"
   ]
  },
  {
   "cell_type": "code",
   "execution_count": null,
   "metadata": {},
   "outputs": [],
   "source": [
    "mut = 2.0e-1;\n",
    "resConstSelHiMu_2en1mut_int5 = runSim(initialPayoff,gen,cellCount,numClones,selInt,mut,howOften,resolution,freqSelType);\n",
    "resFreqSelHiMu_2en1mut_int5 = runSim(initialPayoff,gen,cellCount,numClones,selInt,mut,howOften,resolution,true);"
   ]
  },
  {
   "cell_type": "code",
   "execution_count": null,
   "metadata": {},
   "outputs": [],
   "source": [
    "fileOutHiMuA = string(\"./results/Moran-process/SimResults_Constant-Sel_Rep-1_selInt-5_mutRate-2e-1_gen-500k_\",Dates.today(),\".dat\")\n",
    "open(fileOutHiMuA, \"w\") do fp\n",
    "    serialize(fp, resConstSelHiMu_2en1mut_int5)\n",
    "end\n",
    "fileOutHiMuB = string(\"./results/Moran-process/SimResults_Freq-Sel_Rep-1_selInt-5_mutRate-2e-1_gen-500k_\",Dates.today(),\".dat\")\n",
    "open(fileOutHiMuB, \"w\") do fp\n",
    "    serialize(fp, resFreqSelHiMu_2en1mut_int5)\n",
    "end"
   ]
  },
  {
   "cell_type": "code",
   "execution_count": null,
   "metadata": {},
   "outputs": [],
   "source": [
    "constSelDivDF_2en1mut_int5 = calcDivDF(resConstSelHiMu_2en1mut_int5.q, resConstSelHiMu_2en1mut_int5.qD)\n",
    "freqSelDivDF_2en1mut_int5 = calcDivDF(resFreqSelHiMu_2en1mut_int5.q, resFreqSelHiMu_2en1mut_int5.qD)\n",
    "\n",
    "fileOutDF1HiMuA = string(\"./results/Moran-process/SimResults_DIVERSITY_Constant-Sel_Rep-1_selInt-5_mutRate-2e-1_gen-500k_\",Dates.today(),\".csv\")\n",
    "CSV.write(fileOutDF1HiMuA,constSelDivDF_2en1mut_int5)\n",
    "\n",
    "fileOutDF2HiMuB = string(\"./results/Moran-process/SimResults_DIVERSITY_Freq-Dep-Sel_Rep-1_selInt-5_mutRate-2e-1_gen-500k_\",Dates.today(),\".csv\")\n",
    "CSV.write(fileOutDF2HiMuB,freqSelDivDF_2en1mut_int5)"
   ]
  },
  {
   "cell_type": "code",
   "execution_count": null,
   "metadata": {},
   "outputs": [],
   "source": [
    "# plot qD curve: \n",
    "qdPlot3 = plot(resConstSelHiMu_2en1mut_int5.q,resConstSelHiMu_2en1mut_int5.qD,xaxis=:log,legend=:none, color_palette=:reds, grid=false)\n",
    "plot!(qdPlot3, resFreqSelHiMu_2en1mut_int5.q,resFreqSelHiMu_2en1mut_int5.qD,xaxis=:log,legend=:none, color_palette=:blues, opacity=0.5)\n",
    "savefig(qdPlot3, string(\"./results/Moran-process/DiversityCurves_selInt-5_mutRate-2e-1_\",Dates.today(),\".pdf\"))"
   ]
  },
  {
   "cell_type": "code",
   "execution_count": null,
   "metadata": {},
   "outputs": [],
   "source": [
    "# histogram of number of clones at a time\n",
    "hPlot3 = histogram(resConstSelHiMu_2en1mut_int5.numClonesTrack, bins=:scott, normalize=:probability, color=:red, opacity=0.7, grid=false)\n",
    "histogram!(hPlot3, resFreqSelHiMu_2en1mut_int5.numClonesTrack, bins=:scott, normalize=:probability, color=:blue, opacity=0.7)\n",
    "savefig(hPlot3, string(\"Histogram-of-Clones_selInt-5_mutRate-2e-1_\",Dates.today(),\".pdf\"))"
   ]
  },
  {
   "cell_type": "markdown",
   "metadata": {},
   "source": [
    "#### Mutation Rate: 2e-1; Selection: 10"
   ]
  },
  {
   "cell_type": "code",
   "execution_count": null,
   "metadata": {},
   "outputs": [],
   "source": [
    "selInt = 10.0;\n",
    "resConstSelHiMu_2en1mut_int10 = runSim(initialPayoff,gen,cellCount,numClones,selInt,mut,howOften,resolution,freqSelType);\n",
    "resFreqSelHiMu_2en1mut_int10 = runSim(initialPayoff,gen,cellCount,numClones,selInt,mut,howOften,resolution,true);"
   ]
  },
  {
   "cell_type": "code",
   "execution_count": null,
   "metadata": {},
   "outputs": [],
   "source": [
    "fileOutHiMuA2 = string(\"./results/Moran-process/SimResults_Constant-Sel_Rep-1_selInt-10_mutRate-2e-1_gen-500k_\",Dates.today(),\".dat\")\n",
    "open(fileOutHiMuA2, \"w\") do fp\n",
    "    serialize(fp, resConstSelHiMu_2en1mut_int10)\n",
    "end\n",
    "fileOutHiMuB2 = string(\"./results/Moran-process/SimResults_Freq-Sel_Rep-1_selInt-10_mutRate-2e-1_gen-500k_\",Dates.today(),\".dat\")\n",
    "open(fileOutHiMuB2, \"w\") do fp\n",
    "    serialize(fp, resFreqSelHiMu_2en1mut_int10)\n",
    "end"
   ]
  },
  {
   "cell_type": "code",
   "execution_count": null,
   "metadata": {},
   "outputs": [],
   "source": [
    "constSelDivDF_2en1mut_int10 = calcDivDF(resConstSelHiMu_2en1mut_int10.q, resConstSelHiMu_2en1mut_int10.qD)\n",
    "freqSelDivDF_2en1mut_int10 = calcDivDF(resFreqSelHiMu_2en1mut_int10.q, resFreqSelHiMu_2en1mut_int10.qD)\n",
    "\n",
    "fileOutDF1HiMuA2 = string(\"./results/Moran-process/SimResults_DIVERSITY_Constant-Sel_Rep-1_selInt-10_mutRate-2e-1_gen-500k_\",Dates.today(),\".csv\")\n",
    "CSV.write(fileOutDF1HiMuA2,constSelDivDF_2en1mut_int10)\n",
    "\n",
    "fileOutDF2HiMuB2 = string(\"./results/Moran-process/SimResults_DIVERSITY_Freq-Dep-Sel_Rep-1_selInt-10_mutRate-2e-1_gen-500k_\",Dates.today(),\".csv\")\n",
    "CSV.write(fileOutDF2HiMuB2,freqSelDivDF_2en1mut_int10)"
   ]
  },
  {
   "cell_type": "code",
   "execution_count": null,
   "metadata": {},
   "outputs": [],
   "source": [
    "# plot qD curve: \n",
    "qdPlot4 = plot(resConstSelHiMu_2en1mut_int10.q,resConstSelHiMu_2en1mut_int10.qD,xaxis=:log,legend=:none, color_palette=:reds, grid=false)\n",
    "plot!(qdPlot4, resFreqSelHiMu_2en1mut_int10.q,resFreqSelHiMu_2en1mut_int10.qD,xaxis=:log,legend=:none, color_palette=:blues, opacity=0.5)\n",
    "savefig(qdPlot4, string(\"./results/Moran-process/DiversityCurves_selInt-10_mutRate-2e-1_\",Dates.today(),\".pdf\"))"
   ]
  },
  {
   "cell_type": "code",
   "execution_count": null,
   "metadata": {},
   "outputs": [],
   "source": [
    "# histogram of number of clones at a time\n",
    "hPlot4 = histogram(resConstSelHiMu_2en1mut_int10.numClonesTrack, bins=:scott, normalize=:probability, color=:red, opacity=0.7, grid=false)\n",
    "histogram!(hPlot4, resFreqSelHiMu_2en1mut_int10.numClonesTrack, bins=:scott, normalize=:probability, color=:blue, opacity=0.7)\n",
    "savefig(hPlot4, string(\"Histogram-of-Clones_selInt-10_mutRate-2e-1_\",Dates.today(),\".pdf\"))"
   ]
  },
  {
   "cell_type": "markdown",
   "metadata": {},
   "source": [
    "#### Mutation Rate: 5e-4; Selection: 10"
   ]
  },
  {
   "cell_type": "code",
   "execution_count": null,
   "metadata": {},
   "outputs": [],
   "source": [
    "mut = 5e-4;\n",
    "sel = 10.0; \n",
    "resConstSelLoMu2 = runSim(initialPayoff,gen,cellCount,numClones,selInt,mut,howOften,resolution,freqSelType);\n",
    "resFreqSelLoMu2 = runSim(initialPayoff,gen,cellCount,numClones,selInt,mut,howOften,resolution,true);"
   ]
  },
  {
   "cell_type": "code",
   "execution_count": null,
   "metadata": {},
   "outputs": [],
   "source": [
    "fileOutLoMuA = string(\"./results/Moran-process/SimResults_Constant-Sel_Rep-1_selInt-10_mutRate-5e-4_gen-500k_\",Dates.today(),\".dat\")\n",
    "open(fileOutLoMuA, \"w\") do fp\n",
    "    serialize(fp, resConstSelLoMu2)\n",
    "end\n",
    "fileOutLoMuB = string(\"./results/Moran-process/SimResults_Freq-Sel_Rep-1_selInt-10_mutRate-5e-4_gen-500k_\",Dates.today(),\".dat\")\n",
    "open(fileOutLoMuB, \"w\") do fp\n",
    "    serialize(fp, resFreqSelLoMu2)\n",
    "end"
   ]
  },
  {
   "cell_type": "code",
   "execution_count": null,
   "metadata": {},
   "outputs": [],
   "source": [
    "constSelDivDF_5en4mut_int10 = calcDivDF(resConstSelLoMu2.q, resConstSelLoMu2.qD)\n",
    "freqSelDivDF_5en4mut_int10 = calcDivDF(resFreqSelLoMu2.q, resFreqSelLoMu2.qD)\n",
    "\n",
    "fileOutDF1LoMu = string(\"./results/Moran-process/SimResults_DIVERSITY_Constant-Sel_Rep-1_selInt-10_mutRate-5e-4_gen-500k_\",Dates.today(),\".csv\")\n",
    "CSV.write(fileOutDF1LoMu,constSelDivDF_5en4mut_int10)\n",
    "\n",
    "fileOutDF2LoMu = string(\"./results/Moran-process/SimResults_DIVERSITY_Freq-Dep-Sel_Rep-1_selInt-10_mutRate-5e-4_gen-500k_\",Dates.today(),\".csv\")\n",
    "CSV.write(fileOutDF2LoMu,freqSelDivDF_5en4mut_int10)"
   ]
  },
  {
   "cell_type": "code",
   "execution_count": null,
   "metadata": {},
   "outputs": [],
   "source": [
    "# plot qD curve: \n",
    "qdPlotLoMu2 = plot(resConstSelLoMu2.q,resConstSelLoMu2.qD,xaxis=:log,legend=:none, color_palette=:reds, grid=false)\n",
    "plot!(qdPlotLoMu2, resFreqSelLoMu2.q,resFreqSelLoMu2.qD,xaxis=:log,legend=:none, color_palette=:blues, opacity=0.5)\n",
    "savefig(qdPlotLoMu2, string(\"./results/Moran-process/DiversityCurves_selInt-10_mutRate-5e-4_\",Dates.today(),\".pdf\"))"
   ]
  },
  {
   "cell_type": "code",
   "execution_count": null,
   "metadata": {},
   "outputs": [],
   "source": [
    "# histogram of number of clones at a time\n",
    "hPlotLoMu2 = histogram(resConstSelLoMu2.numClonesTrack, bins=:scott, normalize=:probability, color=:red, linealpha=0.2, opacity=0.6, grid=false)\n",
    "histogram!(hPlotLoMu2, resFreqSelLoMu2.numClonesTrack, bins=:scott, normalize=:probability, color=:blue, linealpha=0.2, opacity=0.6, legend=false)\n",
    "savefig(hPlotLoMu2, string(\"./results/Moran-process/Histogram-of-Clones_selInt-10_mutRate-5e-4_\",Dates.today(),\".pdf\"))"
   ]
  },
  {
   "cell_type": "markdown",
   "metadata": {},
   "source": [
    "#### Mutation Rate: 5e-4; Selection: 5"
   ]
  },
  {
   "cell_type": "code",
   "execution_count": null,
   "metadata": {},
   "outputs": [],
   "source": [
    "mut = 5e-4;\n",
    "sel = 5.0; \n",
    "resConstSelLoMu2B = runSim(initialPayoff,gen,cellCount,numClones,selInt,mut,howOften,resolution,freqSelType);\n",
    "resFreqSelLoMu2B = runSim(initialPayoff,gen,cellCount,numClones,selInt,mut,howOften,resolution,true);"
   ]
  },
  {
   "cell_type": "code",
   "execution_count": null,
   "metadata": {},
   "outputs": [],
   "source": [
    "fileOutLoMuAB = string(\"./results/Moran-process/SimResults_Constant-Sel_Rep-1_selInt-5_mutRate-5e-4_gen-500k_\",Dates.today(),\".dat\")\n",
    "open(fileOutLoMuAB, \"w\") do fp\n",
    "    serialize(fp, resConstSelLoMu2B)\n",
    "end\n",
    "fileOutLoMuBB = string(\"./results/Moran-process/SimResults_Freq-Sel_Rep-1_selInt-5_mutRate-5e-4_gen-500k_\",Dates.today(),\".dat\")\n",
    "open(fileOutLoMuB, \"w\") do fp\n",
    "    serialize(fpB, resFreqSelLoMu2B)\n",
    "end"
   ]
  },
  {
   "cell_type": "code",
   "execution_count": null,
   "metadata": {},
   "outputs": [],
   "source": [
    "constSelDivDF_5en4mut_int5 = calcDivDF(resConstSelLoMu2B.q, resConstSelLoMu2B.qD)\n",
    "freqSelDivDF_5en4mut_int5 = calcDivDF(resFreqSelLoMu2B.q, resFreqSelLoMu2B.qD)\n",
    "\n",
    "fileOutDF1LoMuB = string(\"./results/Moran-process/SimResults_DIVERSITY_Constant-Sel_Rep-1_selInt-5_mutRate-5e-4_gen-500k_\",Dates.today(),\".csv\")\n",
    "CSV.write(fileOutDF1LoMuB,constSelDivDF_5en4mut_int5)\n",
    "\n",
    "fileOutDF2LoMuB = string(\"./results/Moran-process/SimResults_DIVERSITY_Freq-Dep-Sel_Rep-1_selInt-5_mutRate-5e-4_gen-500k_\",Dates.today(),\".csv\")\n",
    "CSV.write(fileOutDF2LoMuB,freqSelDivDF_5en4mut_int5)"
   ]
  },
  {
   "cell_type": "code",
   "execution_count": null,
   "metadata": {},
   "outputs": [],
   "source": [
    "# plot qD curve: \n",
    "qdPlotLoMu2B = plot(resConstSelLoMu2B.q,resConstSelLoMu2B.qD,xaxis=:log,legend=:none, color_palette=:reds, grid=false)\n",
    "plot!(qdPlotLoMu2B, resFreqSelLoMu2B.q,resFreqSelLoMu2B.qD,xaxis=:log,legend=:none, color_palette=:blues, opacity=0.5)\n",
    "savefig(qdPlotLoMu2B, string(\"./results/Moran-process/DiversityCurves_selInt-5_mutRate-5e-4_\",Dates.today(),\".pdf\"))"
   ]
  },
  {
   "cell_type": "code",
   "execution_count": null,
   "metadata": {},
   "outputs": [],
   "source": [
    "# histogram of number of clones at a time\n",
    "hPlotLoMu2B = histogram(resConstSelLoMu2B.numClonesTrack, bins=:scott, normalize=:probability, color=:red, linealpha=0.2, opacity=0.6, grid=false)\n",
    "histogram!(hPlotLoMu2B, resFreqSelLoMu2B.numClonesTrack, bins=:scott, normalize=:probability, color=:blue, linealpha=0.2, opacity=0.6, legend=false)\n",
    "savefig(hPlotLoMu2B, string(\"./results/Moran-process/Histogram-of-Clones_selInt-5_mutRate-5e-4_\",Dates.today(),\".pdf\"))"
   ]
  },
  {
   "cell_type": "markdown",
   "metadata": {},
   "source": [
    "#### Mutation Rate: 5e-2; Selection: 10"
   ]
  },
  {
   "cell_type": "code",
   "execution_count": null,
   "metadata": {},
   "outputs": [],
   "source": [
    "mut = 5e-2;\n",
    "sel = 10.0; \n",
    "resConstSelHiMu2 = runSim(initialPayoff,gen,cellCount,numClones,selInt,mut,howOften,resolution,freqSelType);\n",
    "resFreqSelHiMu2 = runSim(initialPayoff,gen,cellCount,numClones,selInt,mut,howOften,resolution,true);"
   ]
  },
  {
   "cell_type": "code",
   "execution_count": null,
   "metadata": {},
   "outputs": [],
   "source": [
    "fileOutHiMu2A = string(\"./results/Moran-process/SimResults_Constant-Sel_Rep-1_selInt-10_mutRate-5e-2_gen-500k_\",Dates.today(),\".dat\")\n",
    "open(fileOutHiMu2A, \"w\") do fp\n",
    "    serialize(fp, resConstSelHiMu2)\n",
    "end\n",
    "fileOutHiMu2B = string(\"./results/Moran-process/SimResults_Freq-Sel_Rep-1_selInt-10_mutRate-5e-2_gen-500k_\",Dates.today(),\".dat\")\n",
    "open(fileOutHiMu2B, \"w\") do fp\n",
    "    serialize(fp, resFreqSelHiMu2)\n",
    "end"
   ]
  },
  {
   "cell_type": "code",
   "execution_count": null,
   "metadata": {},
   "outputs": [],
   "source": [
    "constSelDivDF_5en2mut_int10 = calcDivDF(resConstSelHiMu2.q, resConstSelHiMu2.qD)\n",
    "freqSelDivDF_5en2mut_int10 = calcDivDF(resFreqSelHiMu2.q, resFreqSelHiMu2.qD)\n",
    "\n",
    "fileOutDF1HiMu = string(\"./results/Moran-process/SimResults_DIVERSITY_Constant-Sel_Rep-1_selInt-10_mutRate-5e-2_gen-500k_\",Dates.today(),\".csv\")\n",
    "CSV.write(fileOutDF1HiMu,constSelDivDF_5en2mut_int10)\n",
    "\n",
    "fileOutDF2HiMu = string(\"./results/Moran-process/SimResults_DIVERSITY_Freq-Dep-Sel_Rep-1_selInt-10_mutRate-5e-2_gen-500k_\",Dates.today(),\".csv\")\n",
    "CSV.write(fileOutDF2HiMu,freqSelDivDF_5en2mut_int10)"
   ]
  },
  {
   "cell_type": "code",
   "execution_count": null,
   "metadata": {},
   "outputs": [],
   "source": [
    "# plot qD curve: \n",
    "qdPlotHiMu2 = plot(resConstSelHiMu2.q,resConstSelHiMu2.qD,xaxis=:log,legend=:none, color_palette=:reds, grid=false)\n",
    "plot!(qdPlotHiMu2, resFreqSelHiMu2.q,resFreqSelHiMu2.qD,xaxis=:log,legend=:none, color_palette=:blues, opacity=0.5)\n",
    "savefig(qdPlotHiMu2, string(\"./results/Moran-process/DiversityCurves_selInt-10_mutRate-5e-2_\",Dates.today(),\".pdf\"))"
   ]
  },
  {
   "cell_type": "code",
   "execution_count": null,
   "metadata": {},
   "outputs": [],
   "source": [
    "# histogram of number of clones at a time\n",
    "hPlotHiMu2 = histogram(resConstSelHiMu2.numClonesTrack, bins=:scott, normalize=:probability, color=:red, opacity=0.6, linealpha=0.1, grid=false)\n",
    "histogram!(hPlotHiMu2, resFreqSelHiMu2.numClonesTrack, bins=:scott, normalize=:probability, color=:blue, opacity=0.6, linealpha=0.1, legend=false)\n",
    "savefig(hPlotHiMu2, string(\"./results/Moran-process/Histogram-of-Clones_selInt-10_mutRate-5e-2_\",Dates.today(),\".pdf\"))"
   ]
  },
  {
   "cell_type": "markdown",
   "metadata": {},
   "source": [
    "#### Mutation Rate: 5e-2; Selection: 5"
   ]
  },
  {
   "cell_type": "code",
   "execution_count": null,
   "metadata": {},
   "outputs": [],
   "source": [
    "mut = 5e-2;\n",
    "sel = 5.0; \n",
    "resConstSelHiMu2B = runSim(initialPayoff,gen,cellCount,numClones,selInt,mut,howOften,resolution,freqSelType);\n",
    "resFreqSelHiMu2B = runSim(initialPayoff,gen,cellCount,numClones,selInt,mut,howOften,resolution,true);"
   ]
  },
  {
   "cell_type": "code",
   "execution_count": null,
   "metadata": {},
   "outputs": [],
   "source": [
    "fileOutHiMu2AB = string(\"./results/Moran-process/SimResults_Constant-Sel_Rep-1_selInt-5_mutRate-5e-2_gen-500k_\",Dates.today(),\".dat\")\n",
    "open(fileOutHiMu2AB, \"w\") do fp\n",
    "    serialize(fp, resConstSelHiMu2B)\n",
    "end\n",
    "fileOutHiMu2BB = string(\"./results/Moran-process/SimResults_Freq-Sel_Rep-1_selInt-5_mutRate-5e-2_gen-500k_\",Dates.today(),\".dat\")\n",
    "open(fileOutHiMu2BB, \"w\") do fp\n",
    "    serialize(fp, resFreqSelHiMu2B)\n",
    "end"
   ]
  },
  {
   "cell_type": "code",
   "execution_count": null,
   "metadata": {},
   "outputs": [],
   "source": [
    "constSelDivDF_5en2mut_int5 = calcDivDF(resConstSelHiMu2B.q, resConstSelHiMu2B.qD)\n",
    "freqSelDivDF_5en2mut_int5 = calcDivDF(resFreqSelHiMu2B.q, resFreqSelHiMu2B.qD)\n",
    "\n",
    "fileOutDF1HiMuB = string(\"./results/Moran-process/SimResults_DIVERSITY_Constant-Sel_Rep-1_selInt-5_mutRate-5e-2_gen-500k_\",Dates.today(),\".csv\")\n",
    "CSV.write(fileOutDF1HiMuB,constSelDivDF_5en2mut_int5)\n",
    "\n",
    "fileOutDF2HiMuB = string(\"./results/Moran-process/SimResults_DIVERSITY_Freq-Dep-Sel_Rep-1_selInt-5_mutRate-5e-2_gen-500k_\",Dates.today(),\".csv\")\n",
    "CSV.write(fileOutDF2HiMuB,freqSelDivDF_5en2mut_int5)"
   ]
  },
  {
   "cell_type": "code",
   "execution_count": null,
   "metadata": {},
   "outputs": [],
   "source": [
    "# plot qD curve: \n",
    "qdPlotHiMu2B = plot(resConstSelHiMu2B.q,resConstSelHiMu2B.qD,xaxis=:log,legend=:none, color_palette=:reds, grid=false)\n",
    "plot!(qdPlotHiMu2B, resFreqSelHiMu2B.q,resFreqSelHiMu2B.qD,xaxis=:log,legend=:none, color_palette=:blues, opacity=0.5)\n",
    "savefig(qdPlotHiMu2B, string(\"./results/Moran-process/DiversityCurves_selInt-5_mutRate-5e-2_\",Dates.today(),\".pdf\"))"
   ]
  },
  {
   "cell_type": "code",
   "execution_count": null,
   "metadata": {},
   "outputs": [],
   "source": [
    "# histogram of number of clones at a time\n",
    "hPlotHiMu2B = histogram(resConstSelHiMu2B.numClonesTrack, bins=:scott, normalize=:probability, color=:red, opacity=0.6, linealpha=0.1, grid=false)\n",
    "histogram!(hPlotHiMu2B, resFreqSelHiMu2B.numClonesTrack, bins=:scott, normalize=:probability, color=:blue, opacity=0.6, linealpha=0.1, legend=false)\n",
    "savefig(hPlotHiMu2B, string(\"./results/Moran-process/Histogram-of-Clones_selInt-5_mutRate-5e-2_\",Dates.today(),\".pdf\"))"
   ]
  },
  {
   "cell_type": "markdown",
   "metadata": {},
   "source": [
    "#### Mutation Rate: 1e-3; Sel=10"
   ]
  },
  {
   "cell_type": "code",
   "execution_count": null,
   "metadata": {},
   "outputs": [],
   "source": [
    "mut = 1e-3;\n",
    "sel = 10.0; \n",
    "resConstSelMiMu = runSim(initialPayoff,gen,cellCount,numClones,selInt,mut,howOften,resolution,freqSelType);\n",
    "resFreqSelMiMu = runSim(initialPayoff,gen,cellCount,numClones,selInt,mut,howOften,resolution,true);"
   ]
  },
  {
   "cell_type": "code",
   "execution_count": null,
   "metadata": {},
   "outputs": [],
   "source": [
    "fileOutMiMuA = string(\"./results/Moran-process/SimResults_Constant-Sel_Rep-1_selInt-10_mutRate-1e-3_gen-500k_\",Dates.today(),\".dat\")\n",
    "open(fileOutMiMuA, \"w\") do fp\n",
    "    serialize(fp, resConstSelMiMu)\n",
    "end\n",
    "fileOutMiMuB = string(\"./results/Moran-process/SimResults_Freq-Sel_Rep-1_selInt-10_mutRate-1e-3_gen-500k_\",Dates.today(),\".dat\")\n",
    "open(fileOutMiMuB, \"w\") do fp\n",
    "    serialize(fp, resFreqSelMiMu)\n",
    "end"
   ]
  },
  {
   "cell_type": "code",
   "execution_count": null,
   "metadata": {},
   "outputs": [],
   "source": [
    "constSelDivDF_1en3mut_int10 = calcDivDF(resConstSelMiMu.q, resConstSelMiMu.qD)\n",
    "freqSelDivDF_1en3mut_int10 = calcDivDF(resFreqSelMiMu.q, resFreqSelMiMu.qD)\n",
    "\n",
    "fileOutDF1MiMu = string(\"./results/Moran-process/SimResults_DIVERSITY_Constant-Sel_Rep-1_selInt-10_mutRate-1e-3_gen-500k_\",Dates.today(),\".csv\")\n",
    "CSV.write(fileOutDF1MiMu,constSelDivDF_1en3mut_int10)\n",
    "\n",
    "fileOutDF2MiMu = string(\"./results/Moran-process/SimResults_DIVERSITY_Freq-Dep-Sel_Rep-1_selInt-10_mutRate-1e-3_gen-500k_\",Dates.today(),\".csv\")\n",
    "CSV.write(fileOutDF2MiMu,freqSelDivDF_1en3mut_int10)"
   ]
  },
  {
   "cell_type": "code",
   "execution_count": null,
   "metadata": {},
   "outputs": [],
   "source": [
    "# plot qD curve: \n",
    "qdPlotMiMu = plot(resConstSelMiMu.q,resConstSelMiMu.qD,xaxis=:log,legend=:none, color_palette=:reds, grid=false)\n",
    "plot!(qdPlotMiMu, resFreqSelMiMu.q,resFreqSelMiMu.qD,xaxis=:log,legend=:none, color_palette=:blues, opacity=0.5)\n",
    "savefig(qdPlotMiMu, string(\"./results/Moran-process/DiversityCurves_selInt-10_mutRate-1e-3_\",Dates.today(),\".pdf\"))"
   ]
  },
  {
   "cell_type": "code",
   "execution_count": null,
   "metadata": {},
   "outputs": [],
   "source": [
    "# histogram of number of clones at a time\n",
    "hPlotMiMu = histogram(resConstSelMiMu.numClonesTrack, bins=:scott, normalize=:probability, color=:red, opacity=0.6, linealpha=0.1, grid=false)\n",
    "histogram!(hPlotMiMu, resFreqSelMiMu.numClonesTrack, bins=:scott, normalize=:probability, color=:blue, opacity=0.6, linealpha=0.1, legend=false)\n",
    "savefig(hPlotMiMu, string(\"./results/Moran-process/Histogram-of-Clones_selInt-10_mutRate-1e-3_\",Dates.today(),\".pdf\"))"
   ]
  },
  {
   "cell_type": "markdown",
   "metadata": {},
   "source": [
    "#### Mutation Rate: 1e-3; Sel=5"
   ]
  },
  {
   "cell_type": "code",
   "execution_count": null,
   "metadata": {},
   "outputs": [],
   "source": [
    "mut = 1e-3;\n",
    "sel = 5.0; \n",
    "resConstSelMiMu2 = runSim(initialPayoff,gen,cellCount,numClones,selInt,mut,howOften,resolution,freqSelType);\n",
    "resFreqSelMiMu2 = runSim(initialPayoff,gen,cellCount,numClones,selInt,mut,howOften,resolution,true);"
   ]
  },
  {
   "cell_type": "code",
   "execution_count": null,
   "metadata": {},
   "outputs": [],
   "source": [
    "fileOutMiMuA2 = string(\"./results/Moran-process/SimResults_Constant-Sel_Rep-1_selInt-5_mutRate-1e-3_gen-500k_\",Dates.today(),\".dat\")\n",
    "open(fileOutMiMuA2, \"w\") do fp\n",
    "    serialize(fp, resConstSelMiMu2)\n",
    "end\n",
    "fileOutMiMuB2 = string(\"./results/Moran-process/SimResults_Freq-Sel_Rep-1_selInt-5_mutRate-1e-3_gen-500k_\",Dates.today(),\".dat\")\n",
    "open(fileOutMiMuB2, \"w\") do fp\n",
    "    serialize(fp, resFreqSelMiMu2)\n",
    "end"
   ]
  },
  {
   "cell_type": "code",
   "execution_count": null,
   "metadata": {},
   "outputs": [],
   "source": [
    "constSelDivDF_1en3mut_int5 = calcDivDF(resConstSelMiMu2.q, resConstSelMiMu2.qD)\n",
    "freqSelDivDF_1en3mut_int5 = calcDivDF(resFreqSelMiMu2.q, resFreqSelMiMu2.qD)\n",
    "\n",
    "fileOutDF1MiMu2 = string(\"./results/Moran-process/SimResults_DIVERSITY_Constant-Sel_Rep-1_selInt-5_mutRate-1e-3_gen-500k_\",Dates.today(),\".csv\")\n",
    "CSV.write(fileOutDF1MiMu2,constSelDivDF_1en3mut_int5)\n",
    "\n",
    "fileOutDF2MiMu2 = string(\"./results/Moran-process/SimResults_DIVERSITY_Freq-Dep-Sel_Rep-1_selInt-5_mutRate-1e-3_gen-500k_\",Dates.today(),\".csv\")\n",
    "CSV.write(fileOutDF2MiMu2,freqSelDivDF_1en3mut_int5)"
   ]
  },
  {
   "cell_type": "code",
   "execution_count": null,
   "metadata": {},
   "outputs": [],
   "source": [
    "# plot qD curve: \n",
    "qdPlotMiMu2 = plot(resConstSelMiMu2.q,resConstSelMiMu2.qD,xaxis=:log,legend=:none, color_palette=:reds, grid=false)\n",
    "plot!(qdPlotMiMu2, resFreqSelMiMu2.q,resFreqSelMiMu2.qD,xaxis=:log,legend=:none, color_palette=:blues, opacity=0.5)\n",
    "savefig(qdPlotMiMu2, string(\"./results/Moran-process/DiversityCurves_selInt-5_mutRate-1e-3_\",Dates.today(),\".pdf\"))"
   ]
  },
  {
   "cell_type": "code",
   "execution_count": null,
   "metadata": {},
   "outputs": [],
   "source": [
    "# histogram of number of clones at a time\n",
    "hPlotMiMu2 = histogram(resConstSelMiMu2.numClonesTrack, bins=:scott, normalize=:probability, color=:red, opacity=0.6, linealpha=0.1, grid=false)\n",
    "histogram!(hPlotMiMu2, resFreqSelMiMu2.numClonesTrack, bins=:scott, normalize=:probability, color=:blue, opacity=0.6, linealpha=0.1, legend=false)\n",
    "savefig(hPlotMiMu2, string(\"./results/Moran-process/Histogram-of-Clones_selInt-5_mutRate-1e-3_\",Dates.today(),\".pdf\"))"
   ]
  },
  {
   "cell_type": "markdown",
   "metadata": {},
   "source": [
    "#### Mutation Rate: 1e-2; Sel=10"
   ]
  },
  {
   "cell_type": "code",
   "execution_count": null,
   "metadata": {},
   "outputs": [],
   "source": [
    "mut = 1e-2;\n",
    "sel = 10.0; \n",
    "resConstSelMiMu3 = runSim(initialPayoff,gen,cellCount,numClones,selInt,mut,howOften,resolution,freqSelType);\n",
    "resFreqSelMiMu3 = runSim(initialPayoff,gen,cellCount,numClones,selInt,mut,howOften,resolution,true);"
   ]
  },
  {
   "cell_type": "code",
   "execution_count": null,
   "metadata": {},
   "outputs": [],
   "source": [
    "fileOutMiMuA3 = string(\"./results/Moran-process/SimResults_Constant-Sel_Rep-1_selInt-10_mutRate-1e-2_gen-500k_\",Dates.today(),\".dat\")\n",
    "open(fileOutMiMuA3, \"w\") do fp\n",
    "    serialize(fp, resConstSelMiMu3)\n",
    "end\n",
    "fileOutMiMuB3 = string(\"./results/Moran-process/SimResults_Freq-Sel_Rep-1_selInt-10_mutRate-1e-2_gen-500k_\",Dates.today(),\".dat\")\n",
    "open(fileOutMiMuB3, \"w\") do fp\n",
    "    serialize(fp, resFreqSelMiMu3)\n",
    "end"
   ]
  },
  {
   "cell_type": "code",
   "execution_count": null,
   "metadata": {},
   "outputs": [],
   "source": [
    "constSelDivDF_1en2mut_int10 = calcDivDF(resConstSelMiMu3.q, resConstSelMiMu3.qD)\n",
    "freqSelDivDF_1en2mut_int10 = calcDivDF(resFreqSelMiMu3.q, resFreqSelMiMu3.qD)\n",
    "\n",
    "fileOutDF1MiMu3 = string(\"./results/Moran-process/SimResults_DIVERSITY_Constant-Sel_Rep-1_selInt-10_mutRate-1e-2_gen-500k_\",Dates.today(),\".csv\")\n",
    "CSV.write(fileOutDF1MiMu3,constSelDivDF_1en2mut_int10)\n",
    "\n",
    "fileOutDF2MiMu3 = string(\"./results/Moran-process/SimResults_DIVERSITY_Freq-Dep-Sel_Rep-1_selInt-10_mutRate-1e-2_gen-500k_\",Dates.today(),\".csv\")\n",
    "CSV.write(fileOutDF2MiMu3,freqSelDivDF_1en2mut_int10)"
   ]
  },
  {
   "cell_type": "code",
   "execution_count": null,
   "metadata": {},
   "outputs": [],
   "source": [
    "# plot qD curve: \n",
    "qdPlotMiMu3 = plot(resConstSelMiMu3.q,resConstSelMiMu3.qD,xaxis=:log,legend=:none, color_palette=:reds, grid=false)\n",
    "plot!(qdPlotMiMu3, resFreqSelMiMu3.q,resFreqSelMiMu3.qD,xaxis=:log,legend=:none, color_palette=:blues, opacity=0.5)\n",
    "savefig(qdPlotMiMu3, string(\"./results/Moran-process/DiversityCurves_selInt-10_mutRate-1e-2_\",Dates.today(),\".pdf\"))"
   ]
  },
  {
   "cell_type": "code",
   "execution_count": null,
   "metadata": {},
   "outputs": [],
   "source": [
    "# histogram of number of clones at a time\n",
    "hPlotMiMu3 = histogram(resConstSelMiMu3.numClonesTrack, bins=:scott, normalize=:probability, color=:red, opacity=0.6, linealpha=0.1, grid=false)\n",
    "histogram!(hPlotMiMu3, resFreqSelMiMu3.numClonesTrack, bins=:scott, normalize=:probability, color=:blue, opacity=0.6, linealpha=0.1, legend=false)\n",
    "savefig(hPlotMiMu3, string(\"./results/Moran-process/Histogram-of-Clones_selInt-10_mutRate-1e-2_\",Dates.today(),\".pdf\"))"
   ]
  },
  {
   "cell_type": "markdown",
   "metadata": {},
   "source": [
    "#### Mutation Rate: 1e-2; Sel=5"
   ]
  },
  {
   "cell_type": "code",
   "execution_count": null,
   "metadata": {},
   "outputs": [],
   "source": [
    "mut = 1e-2;\n",
    "sel = 5.0; \n",
    "resConstSelMiMu4 = runSim(initialPayoff,gen,cellCount,numClones,selInt,mut,howOften,resolution,freqSelType);\n",
    "resFreqSelMiMu4 = runSim(initialPayoff,gen,cellCount,numClones,selInt,mut,howOften,resolution,true);"
   ]
  },
  {
   "cell_type": "code",
   "execution_count": null,
   "metadata": {},
   "outputs": [],
   "source": [
    "fileOutMiMuA4 = string(\"./results/Moran-process/SimResults_Constant-Sel_Rep-1_selInt-5_mutRate-1e-2_gen-500k_\",Dates.today(),\".dat\")\n",
    "open(fileOutMiMuA4, \"w\") do fp\n",
    "    serialize(fp, resConstSelMiMu4)\n",
    "end\n",
    "fileOutMiMuB4 = string(\"./results/Moran-process/SimResults_Freq-Sel_Rep-1_selInt-5_mutRate-1e-2_gen-500k_\",Dates.today(),\".dat\")\n",
    "open(fileOutMiMuB4, \"w\") do fp\n",
    "    serialize(fp, resFreqSelMiMu4)\n",
    "end"
   ]
  },
  {
   "cell_type": "code",
   "execution_count": null,
   "metadata": {},
   "outputs": [],
   "source": [
    "constSelDivDF_1en2mut_int5 = calcDivDF(resConstSelMiMu4.q, resConstSelMiMu4.qD)\n",
    "freqSelDivDF_1en2mut_int5 = calcDivDF(resFreqSelMiMu4.q, resFreqSelMiMu4.qD)\n",
    "\n",
    "fileOutDF1MiMu4 = string(\"./results/Moran-process/SimResults_DIVERSITY_Constant-Sel_Rep-1_selInt-5_mutRate-1e-2_gen-500k_\",Dates.today(),\".csv\")\n",
    "CSV.write(fileOutDF1MiMu4,constSelDivDF_1en2mut_int5)\n",
    "\n",
    "fileOutDF2MiMu4 = string(\"./results/Moran-process/SimResults_DIVERSITY_Freq-Dep-Sel_Rep-1_selInt-5_mutRate-1e-2_gen-500k_\",Dates.today(),\".csv\")\n",
    "CSV.write(fileOutDF2MiMu4,freqSelDivDF_1en2mut_int5)"
   ]
  },
  {
   "cell_type": "code",
   "execution_count": null,
   "metadata": {},
   "outputs": [],
   "source": [
    "# plot qD curve: \n",
    "qdPlotMiMu4 = plot(resConstSelMiMu4.q,resConstSelMiMu4.qD,xaxis=:log,legend=:none, color_palette=:reds, grid=false)\n",
    "plot!(qdPlotMiMu4, resFreqSelMiMu4.q,resFreqSelMiMu4.qD,xaxis=:log,legend=:none, color_palette=:blues, opacity=0.5)\n",
    "savefig(qdPlotMiMu4, string(\"./results/Moran-process/DiversityCurves_selInt-5_mutRate-1e-2_\",Dates.today(),\".pdf\"))"
   ]
  },
  {
   "cell_type": "code",
   "execution_count": null,
   "metadata": {},
   "outputs": [],
   "source": [
    "# histogram of number of clones at a time\n",
    "hPlotMiMu4 = histogram(resConstSelMiMu4.numClonesTrack, bins=:scott, normalize=:probability, color=:red, opacity=0.6, linealpha=0.1, grid=false)\n",
    "histogram!(hPlotMiMu4, resFreqSelMiMu4.numClonesTrack, bins=:scott, normalize=:probability, color=:blue, opacity=0.6, linealpha=0.1, legend=false)\n",
    "savefig(hPlotMiMu4, string(\"./results/Moran-process/Histogram-of-Clones_selInt-5_mutRate-1e-2_\",Dates.today(),\".pdf\"))"
   ]
  },
  {
   "cell_type": "markdown",
   "metadata": {},
   "source": [
    "#### Mutation Rate: 5e-3; Sel=10"
   ]
  },
  {
   "cell_type": "code",
   "execution_count": null,
   "metadata": {},
   "outputs": [],
   "source": [
    "mut = 5e-3;\n",
    "sel = 10.0; \n",
    "resConstSelMiMu5 = runSim(initialPayoff,gen,cellCount,numClones,selInt,mut,howOften,resolution,freqSelType);\n",
    "resFreqSelMiMu5 = runSim(initialPayoff,gen,cellCount,numClones,selInt,mut,howOften,resolution,true);"
   ]
  },
  {
   "cell_type": "code",
   "execution_count": null,
   "metadata": {},
   "outputs": [],
   "source": [
    "fileOutMiMuA5 = string(\"./results/Moran-process/SimResults_Constant-Sel_Rep-1_selInt-10_mutRate-5e-3_gen-500k_\",Dates.today(),\".dat\")\n",
    "open(fileOutMiMuA5, \"w\") do fp\n",
    "    serialize(fp, resConstSelMiMu5)\n",
    "end\n",
    "fileOutMiMuB5 = string(\"./results/Moran-process/SimResults_Freq-Sel_Rep-1_selInt-10_mutRate-5e-3_gen-500k_\",Dates.today(),\".dat\")\n",
    "open(fileOutMiMuB5, \"w\") do fp\n",
    "    serialize(fp, resFreqSelMiMu5)\n",
    "end"
   ]
  },
  {
   "cell_type": "code",
   "execution_count": null,
   "metadata": {},
   "outputs": [],
   "source": [
    "constSelDivDF_5en3mut_int10 = calcDivDF(resConstSelMiMu5.q, resConstSelMiMu5.qD)\n",
    "freqSelDivDF_5en3mut_int10 = calcDivDF(resFreqSelMiMu5.q, resFreqSelMiMu5.qD)\n",
    "\n",
    "fileOutDF1MiMu5 = string(\"./results/Moran-process/SimResults_DIVERSITY_Constant-Sel_Rep-1_selInt-10_mutRate-5e-3_gen-500k_\",Dates.today(),\".csv\")\n",
    "CSV.write(fileOutDF1MiMu5,constSelDivDF_5en3mut_int10)\n",
    "\n",
    "fileOutDF2MiMu5 = string(\"./results/Moran-process/SimResults_DIVERSITY_Freq-Dep-Sel_Rep-1_selInt-10_mutRate-5e-3_gen-500k_\",Dates.today(),\".csv\")\n",
    "CSV.write(fileOutDF2MiMu5,freqSelDivDF_5en3mut_int10)"
   ]
  },
  {
   "cell_type": "code",
   "execution_count": null,
   "metadata": {},
   "outputs": [],
   "source": [
    "# plot qD curve: \n",
    "qdPlotMiMu5 = plot(resConstSelMiMu5.q,resConstSelMiMu5.qD,xaxis=:log,legend=:none, color_palette=:reds, grid=false)\n",
    "plot!(qdPlotMiMu5, resFreqSelMiMu5.q,resFreqSelMiMu5.qD,xaxis=:log,legend=:none, color_palette=:blues, opacity=0.5)\n",
    "savefig(qdPlotMiMu5, string(\"./results/Moran-process/DiversityCurves_selInt-10_mutRate-5e-3_\",Dates.today(),\".pdf\"))"
   ]
  },
  {
   "cell_type": "code",
   "execution_count": null,
   "metadata": {},
   "outputs": [],
   "source": [
    "# histogram of number of clones at a time\n",
    "hPlotMiMu5 = histogram(resConstSelMiMu5.numClonesTrack, bins=:scott, normalize=:probability, color=:red, opacity=0.6, linealpha=0.1, grid=false)\n",
    "histogram!(hPlotMiMu5, resFreqSelMiMu5.numClonesTrack, bins=:scott, normalize=:probability, color=:blue, opacity=0.6, linealpha=0.1, legend=false)\n",
    "savefig(hPlotMiMu5, string(\"./results/Moran-process/Histogram-of-Clones_selInt-10_mutRate-5e-3_\",Dates.today(),\".pdf\"))"
   ]
  },
  {
   "cell_type": "markdown",
   "metadata": {},
   "source": [
    "#### Mutation Rate: 5e-3; Sel=5"
   ]
  },
  {
   "cell_type": "code",
   "execution_count": null,
   "metadata": {},
   "outputs": [],
   "source": [
    "mut = 5e-3;\n",
    "sel = 5.0; \n",
    "resConstSelMiMu6 = runSim(initialPayoff,gen,cellCount,numClones,selInt,mut,howOften,resolution,freqSelType);\n",
    "resFreqSelMiMu6 = runSim(initialPayoff,gen,cellCount,numClones,selInt,mut,howOften,resolution,true);"
   ]
  },
  {
   "cell_type": "code",
   "execution_count": null,
   "metadata": {},
   "outputs": [],
   "source": [
    "fileOutMiMuA6 = string(\"./results/Moran-process/SimResults_Constant-Sel_Rep-1_selInt-5_mutRate-5e-3_gen-500k_\",Dates.today(),\".dat\")\n",
    "open(fileOutMiMuA6, \"w\") do fp\n",
    "    serialize(fp, resConstSelMiMu6)\n",
    "end\n",
    "fileOutMiMuB6 = string(\"./results/Moran-process/SimResults_Freq-Sel_Rep-1_selInt-5_mutRate-5e-3_gen-500k_\",Dates.today(),\".dat\")\n",
    "open(fileOutMiMuB6, \"w\") do fp\n",
    "    serialize(fp, resFreqSelMiMu6)\n",
    "end"
   ]
  },
  {
   "cell_type": "code",
   "execution_count": null,
   "metadata": {},
   "outputs": [],
   "source": [
    "constSelDivDF_5en3mut_int5 = calcDivDF(resConstSelMiMu6.q, resConstSelMiMu6.qD)\n",
    "freqSelDivDF_5en3mut_int5 = calcDivDF(resFreqSelMiMu6.q, resFreqSelMiMu6.qD)\n",
    "\n",
    "fileOutDF1MiMu6 = string(\"./results/Moran-process/SimResults_DIVERSITY_Constant-Sel_Rep-1_selInt-5_mutRate-5e-3_gen-500k_\",Dates.today(),\".csv\")\n",
    "CSV.write(fileOutDF1MiMu6,constSelDivDF_5en3mut_int5)\n",
    "\n",
    "fileOutDF2MiMu6 = string(\"./results/Moran-process/SimResults_DIVERSITY_Freq-Dep-Sel_Rep-1_selInt-5_mutRate-5e-3_gen-500k_\",Dates.today(),\".csv\")\n",
    "CSV.write(fileOutDF2MiMu6,freqSelDivDF_5en3mut_int5)"
   ]
  },
  {
   "cell_type": "code",
   "execution_count": null,
   "metadata": {},
   "outputs": [],
   "source": [
    "# plot qD curve: \n",
    "qdPlotMiMu6 = plot(resConstSelMiMu6.q,resConstSelMiMu6.qD,xaxis=:log,legend=:none, color_palette=:reds, grid=false)\n",
    "plot!(qdPlotMiMu6, resFreqSelMiMu6.q,resFreqSelMiMu6.qD,xaxis=:log,legend=:none, color_palette=:blues, opacity=0.5)\n",
    "savefig(qdPlotMiMu6, string(\"./results/Moran-process/DiversityCurves_selInt-5_mutRate-5e-3_\",Dates.today(),\".pdf\"))"
   ]
  },
  {
   "cell_type": "code",
   "execution_count": null,
   "metadata": {},
   "outputs": [],
   "source": [
    "# histogram of number of clones at a time\n",
    "hPlotMiMu6 = histogram(resConstSelMiMu6.numClonesTrack, bins=:scott, normalize=:probability, color=:red, opacity=0.6, linealpha=0.1, grid=false)\n",
    "histogram!(hPlotMiMu6, resFreqSelMiMu6.numClonesTrack, bins=:scott, normalize=:probability, color=:blue, opacity=0.6, linealpha=0.1, legend=false)\n",
    "savefig(hPlotMiMu6, string(\"./results/Moran-process/Histogram-of-Clones_selInt-5_mutRate-5e-3_\",Dates.today(),\".pdf\"))"
   ]
  },
  {
   "cell_type": "markdown",
   "metadata": {},
   "source": [
    "#### Mutation Rate: 5e-4; Sel=1"
   ]
  },
  {
   "cell_type": "code",
   "execution_count": null,
   "metadata": {},
   "outputs": [],
   "source": [
    "mut = 5e-4;\n",
    "sel = 1.0; \n",
    "resConstSel7 = runSim(initialPayoff,gen,cellCount,numClones,selInt,mut,howOften,resolution,freqSelType);\n",
    "resFreqSel7 = runSim(initialPayoff,gen,cellCount,numClones,selInt,mut,howOften,resolution,true);"
   ]
  },
  {
   "cell_type": "code",
   "execution_count": null,
   "metadata": {},
   "outputs": [],
   "source": [
    "fileOutA7 = string(\"./results/Moran-process/SimResults_Constant-Sel_Rep-1_selInt-1_mutRate-5e-4_gen-500k_\",Dates.today(),\".dat\")\n",
    "open(fileOutA7, \"w\") do fp\n",
    "    serialize(fp, resConstSel7)\n",
    "end\n",
    "fileOutB7 = string(\"./results/Moran-process/SimResults_Freq-Sel_Rep-1_selInt-1_mutRate-5e-4_gen-500k_\",Dates.today(),\".dat\")\n",
    "open(fileOutB7, \"w\") do fp\n",
    "    serialize(fp, resFreqSel7)\n",
    "end"
   ]
  },
  {
   "cell_type": "code",
   "execution_count": null,
   "metadata": {},
   "outputs": [],
   "source": [
    "constSelDivDF_5en4mut_int1 = calcDivDF(resConstSel7.q, resConstSel7.qD)\n",
    "freqSelDivDF_5en4mut_int1 = calcDivDF(resFreqSel7.q, resFreqSel7.qD)\n",
    "\n",
    "fileOutDF1_7 = string(\"./results/Moran-process/SimResults_DIVERSITY_Constant-Sel_Rep-1_selInt-1_mutRate-5e-4_gen-500k_\",Dates.today(),\".csv\")\n",
    "CSV.write(fileOutDF1_7,constSelDivDF_5en4mut_int1)\n",
    "\n",
    "fileOutDF2_7 = string(\"./results/Moran-process/SimResults_DIVERSITY_Freq-Dep-Sel_Rep-1_selInt-1_mutRate-5e-4_gen-500k_\",Dates.today(),\".csv\")\n",
    "CSV.write(fileOutDF2_7,freqSelDivDF_5en4mut_int1)"
   ]
  },
  {
   "cell_type": "code",
   "execution_count": null,
   "metadata": {},
   "outputs": [],
   "source": [
    "# plot qD curve: \n",
    "qdPlot7 = plot(resConstSel7.q,resConstSel7.qD,xaxis=:log,legend=:none, color_palette=:reds, grid=false)\n",
    "plot!(qdPlot7, resFreqSel7.q,resFreqSel7.qD,xaxis=:log,legend=:none, color_palette=:blues, opacity=0.5)\n",
    "savefig(qdPlot7, string(\"./results/Moran-process/DiversityCurves_selInt-1_mutRate-5e-4_\",Dates.today(),\".pdf\"))"
   ]
  },
  {
   "cell_type": "code",
   "execution_count": null,
   "metadata": {},
   "outputs": [],
   "source": [
    "# histogram of number of clones at a time\n",
    "hPlot7 = histogram(resConstSel7.numClonesTrack, bins=:scott, normalize=:probability, color=:red, opacity=0.6, linealpha=0.1, grid=false)\n",
    "histogram!(hPlot7, resFreqSel7.numClonesTrack, bins=:scott, normalize=:probability, color=:blue, opacity=0.6, linealpha=0.1, legend=false)\n",
    "savefig(hPlot7, string(\"./results/Moran-process/Histogram-of-Clones_selInt-1_mutRate-5e-4_\",Dates.today(),\".pdf\"))"
   ]
  },
  {
   "cell_type": "markdown",
   "metadata": {},
   "source": [
    "#### Mutation Rate: 5e-3; Sel=1"
   ]
  },
  {
   "cell_type": "code",
   "execution_count": null,
   "metadata": {},
   "outputs": [],
   "source": [
    "mut = 5e-3;\n",
    "sel = 1.0; \n",
    "resConstSel8 = runSim(initialPayoff,gen,cellCount,numClones,selInt,mut,howOften,resolution,freqSelType);\n",
    "resFreqSel8 = runSim(initialPayoff,gen,cellCount,numClones,selInt,mut,howOften,resolution,true);"
   ]
  },
  {
   "cell_type": "code",
   "execution_count": null,
   "metadata": {},
   "outputs": [],
   "source": [
    "fileOutA8 = string(\"./results/Moran-process/SimResults_Constant-Sel_Rep-1_selInt-1_mutRate-5e-3_gen-500k_\",Dates.today(),\".dat\")\n",
    "open(fileOutA8, \"w\") do fp\n",
    "    serialize(fp, resConstSel8)\n",
    "end\n",
    "fileOutB8 = string(\"./results/Moran-process/SimResults_Freq-Sel_Rep-1_selInt-1_mutRate-5e-3_gen-500k_\",Dates.today(),\".dat\")\n",
    "open(fileOutB8, \"w\") do fp\n",
    "    serialize(fp, resFreqSel8)\n",
    "end"
   ]
  },
  {
   "cell_type": "code",
   "execution_count": null,
   "metadata": {},
   "outputs": [],
   "source": [
    "constSelDivDF_5en3mut_int1 = calcDivDF(resConstSel8.q, resConstSel8.qD)\n",
    "freqSelDivDF_5en3mut_int1 = calcDivDF(resFreqSel8.q, resFreqSel8.qD)\n",
    "\n",
    "fileOutDF1_8 = string(\"./results/Moran-process/SimResults_DIVERSITY_Constant-Sel_Rep-1_selInt-1_mutRate-5e-3_gen-500k_\",Dates.today(),\".csv\")\n",
    "CSV.write(fileOutDF1_8,constSelDivDF_5en3mut_int1)\n",
    "\n",
    "fileOutDF2_8 = string(\"./results/Moran-process/SimResults_DIVERSITY_Freq-Dep-Sel_Rep-1_selInt-1_mutRate-5e-3_gen-500k_\",Dates.today(),\".csv\")\n",
    "CSV.write(fileOutDF2_8,freqSelDivDF_5en3mut_int1)"
   ]
  },
  {
   "cell_type": "code",
   "execution_count": null,
   "metadata": {},
   "outputs": [],
   "source": [
    "# plot qD curve: \n",
    "qdPlot8 = plot(resConstSel8.q,resConstSel8.qD,xaxis=:log,legend=:none, color_palette=:reds, grid=false)\n",
    "plot!(qdPlot8, resFreqSel8.q,resFreqSel8.qD,xaxis=:log,legend=:none, color_palette=:blues, opacity=0.5)\n",
    "savefig(qdPlot8, string(\"./results/Moran-process/DiversityCurves_selInt-1_mutRate-5e-3_\",Dates.today(),\".pdf\"))"
   ]
  },
  {
   "cell_type": "code",
   "execution_count": null,
   "metadata": {},
   "outputs": [],
   "source": [
    "# histogram of number of clones at a time\n",
    "hPlot8 = histogram(resConstSel8.numClonesTrack, bins=:scott, normalize=:probability, color=:red, opacity=0.6, linealpha=0.1, grid=false)\n",
    "histogram!(hPlot8, resFreqSel8.numClonesTrack, bins=:scott, normalize=:probability, color=:blue, opacity=0.6, linealpha=0.1, legend=false)\n",
    "savefig(hPlot8, string(\"./results/Moran-process/Histogram-of-Clones_selInt-1_mutRate-5e-3_\",Dates.today(),\".pdf\"))"
   ]
  },
  {
   "cell_type": "markdown",
   "metadata": {},
   "source": [
    "#### Mutation Rate: 5e-2; Sel=1"
   ]
  },
  {
   "cell_type": "code",
   "execution_count": null,
   "metadata": {},
   "outputs": [],
   "source": [
    "mut = 5e-2;\n",
    "sel = 1.0; \n",
    "resConstSel9 = runSim(initialPayoff,gen,cellCount,numClones,selInt,mut,howOften,resolution,freqSelType);\n",
    "resFreqSel9 = runSim(initialPayoff,gen,cellCount,numClones,selInt,mut,howOften,resolution,true);"
   ]
  },
  {
   "cell_type": "code",
   "execution_count": null,
   "metadata": {},
   "outputs": [],
   "source": [
    "fileOutA9 = string(\"./results/Moran-process/SimResults_Constant-Sel_Rep-1_selInt-1_mutRate-5e-2_gen-500k_\",Dates.today(),\".dat\")\n",
    "open(fileOutA9, \"w\") do fp\n",
    "    serialize(fp, resConstSel9)\n",
    "end\n",
    "fileOutB9 = string(\"./results/Moran-process/SimResults_Freq-Sel_Rep-1_selInt-1_mutRate-5e-2_gen-500k_\",Dates.today(),\".dat\")\n",
    "open(fileOutB9, \"w\") do fp\n",
    "    serialize(fp, resFreqSel9)\n",
    "end"
   ]
  },
  {
   "cell_type": "code",
   "execution_count": null,
   "metadata": {},
   "outputs": [],
   "source": [
    "constSelDivDF_5en2mut_int1 = calcDivDF(resConstSel9.q, resConstSel9.qD)\n",
    "freqSelDivDF_5en2mut_int1 = calcDivDF(resFreqSel9.q, resFreqSel9.qD)\n",
    "\n",
    "fileOutDF1_9 = string(\"./results/Moran-process/SimResults_DIVERSITY_Constant-Sel_Rep-1_selInt-1_mutRate-5e-2_gen-500k_\",Dates.today(),\".csv\")\n",
    "CSV.write(fileOutDF1_9,constSelDivDF_5en2mut_int1)\n",
    "\n",
    "fileOutDF2_9 = string(\"./results/Moran-process/SimResults_DIVERSITY_Freq-Dep-Sel_Rep-1_selInt-1_mutRate-5e-2_gen-500k_\",Dates.today(),\".csv\")\n",
    "CSV.write(fileOutDF2_9,freqSelDivDF_5en2mut_int1)"
   ]
  },
  {
   "cell_type": "code",
   "execution_count": null,
   "metadata": {},
   "outputs": [],
   "source": [
    "# plot qD curve: \n",
    "qdPlot9 = plot(resConstSel9.q,resConstSel9.qD,xaxis=:log,legend=:none, color_palette=:reds, grid=false)\n",
    "plot!(qdPlot9, resFreqSel9.q,resFreqSel9.qD,xaxis=:log,legend=:none, color_palette=:blues, opacity=0.5)\n",
    "savefig(qdPlot9, string(\"./results/Moran-process/DiversityCurves_selInt-1_mutRate-5e-2_\",Dates.today(),\".pdf\"))"
   ]
  },
  {
   "cell_type": "code",
   "execution_count": null,
   "metadata": {},
   "outputs": [],
   "source": [
    "# histogram of number of clones at a time\n",
    "hPlot9 = histogram(resConstSel9.numClonesTrack, bins=:scott, normalize=:probability, color=:red, opacity=0.6, linealpha=0.1, grid=false)\n",
    "histogram!(hPlot9, resFreqSel9.numClonesTrack, bins=:scott, normalize=:probability, color=:blue, opacity=0.6, linealpha=0.1, legend=false)\n",
    "savefig(hPlot9, string(\"./results/Moran-process/Histogram-of-Clones_selInt-1_mutRate-5e-2_\",Dates.today(),\".pdf\"))"
   ]
  },
  {
   "cell_type": "markdown",
   "metadata": {},
   "source": [
    "#### Mutation Rate: 1e-2; Sel=1"
   ]
  },
  {
   "cell_type": "code",
   "execution_count": null,
   "metadata": {},
   "outputs": [],
   "source": [
    "mut = 1e-2;\n",
    "sel = 1.0; \n",
    "resConstSel10 = runSim(initialPayoff,gen,cellCount,numClones,selInt,mut,howOften,resolution,freqSelType);\n",
    "resFreqSel10 = runSim(initialPayoff,gen,cellCount,numClones,selInt,mut,howOften,resolution,true);"
   ]
  },
  {
   "cell_type": "code",
   "execution_count": null,
   "metadata": {},
   "outputs": [],
   "source": [
    "fileOutA10 = string(\"./results/Moran-process/SimResults_Constant-Sel_Rep-1_selInt-1_mutRate-1e-2_gen-500k_\",Dates.today(),\".dat\")\n",
    "open(fileOutA10, \"w\") do fp\n",
    "    serialize(fp, resConstSel10)\n",
    "end\n",
    "fileOutB10 = string(\"./results/Moran-process/SimResults_Freq-Sel_Rep-1_selInt-1_mutRate-1e-2_gen-500k_\",Dates.today(),\".dat\")\n",
    "open(fileOutB10, \"w\") do fp\n",
    "    serialize(fp, resFreqSel10)\n",
    "end"
   ]
  },
  {
   "cell_type": "code",
   "execution_count": null,
   "metadata": {},
   "outputs": [],
   "source": [
    "constSelDivDF_1en2mut_int1 = calcDivDF(resConstSel10.q, resConstSel10.qD)\n",
    "freqSelDivDF_1en2mut_int1 = calcDivDF(resFreqSel10.q, resFreqSel10.qD)\n",
    "\n",
    "fileOutDF1_10 = string(\"./results/Moran-process/SimResults_DIVERSITY_Constant-Sel_Rep-1_selInt-1_mutRate-1e-2_gen-500k_\",Dates.today(),\".csv\")\n",
    "CSV.write(fileOutDF1_10,constSelDivDF_1en2mut_int1)\n",
    "\n",
    "fileOutDF2_10 = string(\"./results/Moran-process/SimResults_DIVERSITY_Freq-Dep-Sel_Rep-1_selInt-1_mutRate-1e-2_gen-500k_\",Dates.today(),\".csv\")\n",
    "CSV.write(fileOutDF2_10,freqSelDivDF_1en2mut_int1)"
   ]
  },
  {
   "cell_type": "code",
   "execution_count": null,
   "metadata": {},
   "outputs": [],
   "source": [
    "# plot qD curve: \n",
    "qdPlot10 = plot(resConstSel10.q,resConstSel10.qD,xaxis=:log,legend=:none, color_palette=:reds, grid=false)\n",
    "plot!(qdPlot10, resFreqSel10.q,resFreqSel10.qD,xaxis=:log,legend=:none, color_palette=:blues, opacity=0.5)\n",
    "savefig(qdPlot10, string(\"./results/Moran-process/DiversityCurves_selInt-1_mutRate-1e-2_\",Dates.today(),\".pdf\"))"
   ]
  },
  {
   "cell_type": "code",
   "execution_count": null,
   "metadata": {},
   "outputs": [],
   "source": [
    "# histogram of number of clones at a time\n",
    "hPlot10 = histogram(resConstSel10.numClonesTrack, bins=:scott, normalize=:probability, color=:red, opacity=0.6, linealpha=0.1, grid=false)\n",
    "histogram!(hPlot10, resFreqSel10.numClonesTrack, bins=:scott, normalize=:probability, color=:blue, opacity=0.6, linealpha=0.1, legend=false)\n",
    "savefig(hPlot10, string(\"./results/Moran-process/Histogram-of-Clones_selInt-1_mutRate-1e-2_\",Dates.today(),\".pdf\"))"
   ]
  },
  {
   "cell_type": "markdown",
   "metadata": {},
   "source": [
    "#### Mutation Rate: 1e-3; Sel=1"
   ]
  },
  {
   "cell_type": "code",
   "execution_count": null,
   "metadata": {},
   "outputs": [],
   "source": [
    "mut = 1e-3;\n",
    "sel = 1.0; \n",
    "resConstSel11 = runSim(initialPayoff,gen,cellCount,numClones,selInt,mut,howOften,resolution,freqSelType);\n",
    "resFreqSel11 = runSim(initialPayoff,gen,cellCount,numClones,selInt,mut,howOften,resolution,true);"
   ]
  },
  {
   "cell_type": "code",
   "execution_count": null,
   "metadata": {},
   "outputs": [],
   "source": [
    "fileOutA11 = string(\"./results/Moran-process/SimResults_Constant-Sel_Rep-1_selInt-1_mutRate-1e-3_gen-500k_\",Dates.today(),\".dat\")\n",
    "open(fileOutA11, \"w\") do fp\n",
    "    serialize(fp, resConstSel11)\n",
    "end\n",
    "fileOutB11 = string(\"./results/Moran-process/SimResults_Freq-Sel_Rep-1_selInt-1_mutRate-1e-3_gen-500k_\",Dates.today(),\".dat\")\n",
    "open(fileOutB11, \"w\") do fp\n",
    "    serialize(fp, resFreqSel11)\n",
    "end"
   ]
  },
  {
   "cell_type": "code",
   "execution_count": null,
   "metadata": {},
   "outputs": [],
   "source": [
    "constSelDivDF_1en3mut_int1 = calcDivDF(resConstSel11.q, resConstSel11.qD)\n",
    "freqSelDivDF_1en3mut_int1 = calcDivDF(resFreqSel11.q, resFreqSel11.qD)\n",
    "\n",
    "fileOutDF1_11 = string(\"./results/Moran-process/SimResults_DIVERSITY_Constant-Sel_Rep-1_selInt-1_mutRate-1e-3_gen-500k_\",Dates.today(),\".csv\")\n",
    "CSV.write(fileOutDF1_11,constSelDivDF_1en3mut_int1)\n",
    "\n",
    "fileOutDF2_11 = string(\"./results/Moran-process/SimResults_DIVERSITY_Freq-Dep-Sel_Rep-1_selInt-1_mutRate-1e-3_gen-500k_\",Dates.today(),\".csv\")\n",
    "CSV.write(fileOutDF2_11,freqSelDivDF_1en3mut_int1)"
   ]
  },
  {
   "cell_type": "code",
   "execution_count": null,
   "metadata": {},
   "outputs": [],
   "source": [
    "# plot qD curve: \n",
    "qdPlot11 = plot(resConstSel11.q,resConstSel11.qD,xaxis=:log,legend=:none, color_palette=:reds, grid=false)\n",
    "plot!(qdPlot11, resFreqSel11.q,resFreqSel11.qD,xaxis=:log,legend=:none, color_palette=:blues, opacity=0.5)\n",
    "savefig(qdPlot11, string(\"./results/Moran-process/DiversityCurves_selInt-1_mutRate-1e-3_\",Dates.today(),\".pdf\"))"
   ]
  },
  {
   "cell_type": "code",
   "execution_count": null,
   "metadata": {},
   "outputs": [],
   "source": [
    "# histogram of number of clones at a time\n",
    "hPlot11 = histogram(resConstSel11.numClonesTrack, bins=:scott, normalize=:probability, color=:red, opacity=0.6, linealpha=0.1, grid=false)\n",
    "histogram!(hPlot11, resFreqSel11.numClonesTrack, bins=:scott, normalize=:probability, color=:blue, opacity=0.6, linealpha=0.1, legend=false)\n",
    "savefig(hPlot11, string(\"./results/Moran-process/Histogram-of-Clones_selInt-1_mutRate-1e-3_\",Dates.today(),\".pdf\"))"
   ]
  },
  {
   "cell_type": "markdown",
   "metadata": {},
   "source": [
    "#### Mutation Rate: 5e-4; Sel=100"
   ]
  },
  {
   "cell_type": "code",
   "execution_count": null,
   "metadata": {},
   "outputs": [],
   "source": [
    "mut = 5e-4;\n",
    "sel = 100.0; \n",
    "resConstSel12 = runSim(initialPayoff,gen,cellCount,numClones,selInt,mut,howOften,resolution,freqSelType);\n",
    "resFreqSel12 = runSim(initialPayoff,gen,cellCount,numClones,selInt,mut,howOften,resolution,true);"
   ]
  },
  {
   "cell_type": "code",
   "execution_count": null,
   "metadata": {},
   "outputs": [],
   "source": [
    "fileOutA12 = string(\"./results/Moran-process/SimResults_Constant-Sel_Rep-1_selInt-100_mutRate-5e-4_gen-500k_\",Dates.today(),\".dat\")\n",
    "open(fileOutA12, \"w\") do fp\n",
    "    serialize(fp, resConstSel12)\n",
    "end\n",
    "fileOutB12 = string(\"./results/Moran-process/SimResults_Freq-Sel_Rep-1_selInt-100_mutRate-5e-4_gen-500k_\",Dates.today(),\".dat\")\n",
    "open(fileOutB12, \"w\") do fp\n",
    "    serialize(fp, resFreqSel12)\n",
    "end"
   ]
  },
  {
   "cell_type": "code",
   "execution_count": null,
   "metadata": {},
   "outputs": [],
   "source": [
    "constSelDivDF_5en4mut_int100 = calcDivDF(resConstSel12.q, resConstSel12.qD)\n",
    "freqSelDivDF_5en4mut_int100 = calcDivDF(resFreqSel12.q, resFreqSel12.qD)\n",
    "\n",
    "fileOutDF1_12 = string(\"./results/Moran-process/SimResults_DIVERSITY_Constant-Sel_Rep-1_selInt-100_mutRate-5e-4_gen-500k_\",Dates.today(),\".csv\")\n",
    "CSV.write(fileOutDF1_12,constSelDivDF_5en4mut_int100)\n",
    "\n",
    "fileOutDF2_12 = string(\"./results/Moran-process/SimResults_DIVERSITY_Freq-Dep-Sel_Rep-1_selInt-100_mutRate-5e-4_gen-500k_\",Dates.today(),\".csv\")\n",
    "CSV.write(fileOutDF2_12,freqSelDivDF_5en4mut_int100)"
   ]
  },
  {
   "cell_type": "code",
   "execution_count": null,
   "metadata": {},
   "outputs": [],
   "source": [
    "# plot qD curve: \n",
    "qdPlot12 = plot(resConstSel12.q,resConstSel12.qD,xaxis=:log,legend=:none, color_palette=:reds, grid=false)\n",
    "plot!(qdPlot12, resFreqSel12.q,resFreqSel12.qD,xaxis=:log,legend=:none, color_palette=:blues, opacity=0.5)\n",
    "savefig(qdPlot12, string(\"./results/Moran-process/DiversityCurves_selInt-100_mutRate-5e-4_\",Dates.today(),\".pdf\"))"
   ]
  },
  {
   "cell_type": "code",
   "execution_count": null,
   "metadata": {},
   "outputs": [],
   "source": [
    "# histogram of number of clones at a time\n",
    "hPlot12 = histogram(resConstSel12.numClonesTrack, bins=:scott, normalize=:probability, color=:red, opacity=0.6, linealpha=0.1, grid=false)\n",
    "histogram!(hPlot12, resFreqSel12.numClonesTrack, bins=:scott, normalize=:probability, color=:blue, opacity=0.6, linealpha=0.1, legend=false)\n",
    "savefig(hPlot12, string(\"./results/Moran-process/Histogram-of-Clones_selInt-100_mutRate-5e-4_\",Dates.today(),\".pdf\"))"
   ]
  },
  {
   "cell_type": "markdown",
   "metadata": {},
   "source": [
    "#### Mutation Rate: 5e-3; Sel=100"
   ]
  },
  {
   "cell_type": "code",
   "execution_count": null,
   "metadata": {},
   "outputs": [],
   "source": [
    "mut = 5e-3;\n",
    "sel = 100.0; \n",
    "resConstSel13 = runSim(initialPayoff,gen,cellCount,numClones,selInt,mut,howOften,resolution,freqSelType);\n",
    "resFreqSel13 = runSim(initialPayoff,gen,cellCount,numClones,selInt,mut,howOften,resolution,true);"
   ]
  },
  {
   "cell_type": "code",
   "execution_count": null,
   "metadata": {},
   "outputs": [],
   "source": [
    "fileOutA13 = string(\"./results/Moran-process/SimResults_Constant-Sel_Rep-1_selInt-100_mutRate-5e-3_gen-500k_\",Dates.today(),\".dat\")\n",
    "open(fileOutA13, \"w\") do fp\n",
    "    serialize(fp, resConstSel13)\n",
    "end\n",
    "fileOutB13 = string(\"./results/Moran-process/SimResults_Freq-Sel_Rep-1_selInt-100_mutRate-5e-3_gen-500k_\",Dates.today(),\".dat\")\n",
    "open(fileOutB13, \"w\") do fp\n",
    "    serialize(fp, resFreqSel13)\n",
    "end"
   ]
  },
  {
   "cell_type": "code",
   "execution_count": null,
   "metadata": {},
   "outputs": [],
   "source": [
    "constSelDivDF_5en3mut_int100 = calcDivDF(resConstSel13.q, resConstSel13.qD)\n",
    "freqSelDivDF_5en3mut_int100 = calcDivDF(resFreqSel13.q, resFreqSel13.qD)\n",
    "\n",
    "fileOutDF1_13 = string(\"./results/Moran-process/SimResults_DIVERSITY_Constant-Sel_Rep-1_selInt-100_mutRate-5e-3_gen-500k_\",Dates.today(),\".csv\")\n",
    "CSV.write(fileOutDF1_13,constSelDivDF_5en3mut_int100)\n",
    "\n",
    "fileOutDF2_13 = string(\"./results/Moran-process/SimResults_DIVERSITY_Freq-Dep-Sel_Rep-1_selInt-100_mutRate-5e-3_gen-500k_\",Dates.today(),\".csv\")\n",
    "CSV.write(fileOutDF2_13,freqSelDivDF_5en3mut_int100)"
   ]
  },
  {
   "cell_type": "code",
   "execution_count": null,
   "metadata": {},
   "outputs": [],
   "source": [
    "# plot qD curve: \n",
    "qdPlot13 = plot(resConstSel13.q,resConstSel13.qD,xaxis=:log,legend=:none, color_palette=:reds, grid=false)\n",
    "plot!(qdPlot13, resFreqSel13.q,resFreqSel13.qD,xaxis=:log,legend=:none, color_palette=:blues, opacity=0.5)\n",
    "savefig(qdPlot13, string(\"./results/Moran-process/DiversityCurves_selInt-100_mutRate-5e-3_\",Dates.today(),\".pdf\"))"
   ]
  },
  {
   "cell_type": "code",
   "execution_count": null,
   "metadata": {},
   "outputs": [],
   "source": [
    "# histogram of number of clones at a time\n",
    "hPlot13 = histogram(resConstSel13.numClonesTrack, bins=:scott, normalize=:probability, color=:red, opacity=0.6, linealpha=0.1, grid=false)\n",
    "histogram!(hPlot13, resFreqSel13.numClonesTrack, bins=:scott, normalize=:probability, color=:blue, opacity=0.6, linealpha=0.1, legend=false)\n",
    "savefig(hPlot13, string(\"./results/Moran-process/Histogram-of-Clones_selInt-100_mutRate-5e-3_\",Dates.today(),\".pdf\"))"
   ]
  },
  {
   "cell_type": "markdown",
   "metadata": {},
   "source": [
    "#### Mutation Rate: 5e-2; Sel=100"
   ]
  },
  {
   "cell_type": "code",
   "execution_count": null,
   "metadata": {},
   "outputs": [],
   "source": [
    "mut = 5e-2;\n",
    "sel = 100.0; \n",
    "resConstSel14 = runSim(initialPayoff,gen,cellCount,numClones,selInt,mut,howOften,resolution,freqSelType);\n",
    "resFreqSel14 = runSim(initialPayoff,gen,cellCount,numClones,selInt,mut,howOften,resolution,true);"
   ]
  },
  {
   "cell_type": "code",
   "execution_count": null,
   "metadata": {},
   "outputs": [],
   "source": [
    "fileOutA14 = string(\"./results/Moran-process/SimResults_Constant-Sel_Rep-1_selInt-100_mutRate-5e-2_gen-500k_\",Dates.today(),\".dat\")\n",
    "open(fileOutA14, \"w\") do fp\n",
    "    serialize(fp, resConstSel14)\n",
    "end\n",
    "fileOutB14 = string(\"./results/Moran-process/SimResults_Freq-Sel_Rep-1_selInt-100_mutRate-5e-2_gen-500k_\",Dates.today(),\".dat\")\n",
    "open(fileOutB14, \"w\") do fp\n",
    "    serialize(fp, resFreqSel14)\n",
    "end"
   ]
  },
  {
   "cell_type": "code",
   "execution_count": null,
   "metadata": {},
   "outputs": [],
   "source": [
    "constSelDivDF_5en2mut_int100 = calcDivDF(resConstSel14.q, resConstSel14.qD)\n",
    "freqSelDivDF_5en2mut_int100 = calcDivDF(resFreqSel14.q, resFreqSel14.qD)\n",
    "\n",
    "fileOutDF1_14 = string(\"./results/Moran-process/SimResults_DIVERSITY_Constant-Sel_Rep-1_selInt-100_mutRate-5e-2_gen-500k_\",Dates.today(),\".csv\")\n",
    "CSV.write(fileOutDF1_14,constSelDivDF_5en2mut_int100)\n",
    "\n",
    "fileOutDF2_14 = string(\"./results/Moran-process/SimResults_DIVERSITY_Freq-Dep-Sel_Rep-1_selInt-100_mutRate-5e-2_gen-500k_\",Dates.today(),\".csv\")\n",
    "CSV.write(fileOutDF2_14,freqSelDivDF_5en2mut_int100)"
   ]
  },
  {
   "cell_type": "code",
   "execution_count": null,
   "metadata": {},
   "outputs": [],
   "source": [
    "# plot qD curve: \n",
    "qdPlot14 = plot(resConstSel14.q,resConstSel14.qD,xaxis=:log,legend=:none, color_palette=:reds, grid=false)\n",
    "plot!(qdPlot14, resFreqSel14.q,resFreqSel14.qD,xaxis=:log,legend=:none, color_palette=:blues, opacity=0.5)\n",
    "savefig(qdPlot14, string(\"./results/Moran-process/DiversityCurves_selInt-100_mutRate-5e-2_\",Dates.today(),\".pdf\"))"
   ]
  },
  {
   "cell_type": "code",
   "execution_count": null,
   "metadata": {},
   "outputs": [],
   "source": [
    "# histogram of number of clones at a time\n",
    "hPlot14 = histogram(resConstSel14.numClonesTrack, bins=:scott, normalize=:probability, color=:red, opacity=0.6, linealpha=0.1, grid=false)\n",
    "histogram!(hPlot14, resFreqSel14.numClonesTrack, bins=:scott, normalize=:probability, color=:blue, opacity=0.6, linealpha=0.1, legend=false)\n",
    "savefig(hPlot14, string(\"./results/Moran-process/Histogram-of-Clones_selInt-100_mutRate-5e-2_\",Dates.today(),\".pdf\"))"
   ]
  },
  {
   "cell_type": "markdown",
   "metadata": {},
   "source": [
    "#### Mutation Rate: 1e-2; Sel=100"
   ]
  },
  {
   "cell_type": "code",
   "execution_count": null,
   "metadata": {},
   "outputs": [],
   "source": [
    "mut = 1e-2;\n",
    "sel = 100.0; \n",
    "resConstSel15 = runSim(initialPayoff,gen,cellCount,numClones,selInt,mut,howOften,resolution,freqSelType);\n",
    "resFreqSel15 = runSim(initialPayoff,gen,cellCount,numClones,selInt,mut,howOften,resolution,true);"
   ]
  },
  {
   "cell_type": "code",
   "execution_count": null,
   "metadata": {},
   "outputs": [],
   "source": [
    "fileOutA15 = string(\"./results/Moran-process/SimResults_Constant-Sel_Rep-1_selInt-100_mutRate-1e-2_gen-500k_\",Dates.today(),\".dat\")\n",
    "open(fileOutA15, \"w\") do fp\n",
    "    serialize(fp, resConstSel15)\n",
    "end\n",
    "fileOutB15 = string(\"./results/Moran-process/SimResults_Freq-Sel_Rep-1_selInt-100_mutRate-1e-2_gen-500k_\",Dates.today(),\".dat\")\n",
    "open(fileOutB15, \"w\") do fp\n",
    "    serialize(fp, resFreqSel15)\n",
    "end"
   ]
  },
  {
   "cell_type": "code",
   "execution_count": null,
   "metadata": {},
   "outputs": [],
   "source": [
    "constSelDivDF_1en2mut_int100 = calcDivDF(resConstSel15.q, resConstSel15.qD)\n",
    "freqSelDivDF_1en2mut_int100 = calcDivDF(resFreqSel15.q, resFreqSel15.qD)\n",
    "\n",
    "fileOutDF1_15 = string(\"./results/Moran-process/SimResults_DIVERSITY_Constant-Sel_Rep-1_selInt-100_mutRate-1e-2_gen-500k_\",Dates.today(),\".csv\")\n",
    "CSV.write(fileOutDF1_15,constSelDivDF_1en2mut_int100)\n",
    "\n",
    "fileOutDF2_15 = string(\"./results/Moran-process/SimResults_DIVERSITY_Freq-Dep-Sel_Rep-1_selInt-100_mutRate-1e-2_gen-500k_\",Dates.today(),\".csv\")\n",
    "CSV.write(fileOutDF2_15,freqSelDivDF_1en2mut_int100)"
   ]
  },
  {
   "cell_type": "code",
   "execution_count": null,
   "metadata": {},
   "outputs": [],
   "source": [
    "# plot qD curve: \n",
    "qdPlot15 = plot(resConstSel15.q,resConstSel15.qD,xaxis=:log,legend=:none, color_palette=:reds, grid=false)\n",
    "plot!(qdPlot15, resFreqSel15.q,resFreqSel15.qD,xaxis=:log,legend=:none, color_palette=:blues, opacity=0.5)\n",
    "savefig(qdPlot15, string(\"./results/Moran-process/DiversityCurves_selInt-100_mutRate-1e-2_\",Dates.today(),\".pdf\"))"
   ]
  },
  {
   "cell_type": "code",
   "execution_count": null,
   "metadata": {},
   "outputs": [],
   "source": [
    "# histogram of number of clones at a time\n",
    "hPlot15 = histogram(resConstSel15.numClonesTrack, bins=:scott, normalize=:probability, color=:red, opacity=0.6, linealpha=0.1, grid=false)\n",
    "histogram!(hPlot15, resFreqSel15.numClonesTrack, bins=:scott, normalize=:probability, color=:blue, opacity=0.6, linealpha=0.1, legend=false)\n",
    "savefig(hPlot15, string(\"./results/Moran-process/Histogram-of-Clones_selInt-100_mutRate-1e-2_\",Dates.today(),\".pdf\"))"
   ]
  },
  {
   "cell_type": "markdown",
   "metadata": {},
   "source": [
    "#### Mutation Rate: 1e-3; Sel=100"
   ]
  },
  {
   "cell_type": "code",
   "execution_count": null,
   "metadata": {},
   "outputs": [],
   "source": [
    "mut = 1e-3;\n",
    "sel = 100.0; \n",
    "resConstSel16 = runSim(initialPayoff,gen,cellCount,numClones,selInt,mut,howOften,resolution,freqSelType);\n",
    "resFreqSel16 = runSim(initialPayoff,gen,cellCount,numClones,selInt,mut,howOften,resolution,true);"
   ]
  },
  {
   "cell_type": "code",
   "execution_count": null,
   "metadata": {},
   "outputs": [],
   "source": [
    "fileOutA16 = string(\"./results/Moran-process/SimResults_Constant-Sel_Rep-1_selInt-100_mutRate-1e-3_gen-500k_\",Dates.today(),\".dat\")\n",
    "open(fileOutA16, \"w\") do fp\n",
    "    serialize(fp, resConstSel16)\n",
    "end\n",
    "fileOutB16 = string(\"./results/Moran-process/SimResults_Freq-Sel_Rep-1_selInt-100_mutRate-1e-3_gen-500k_\",Dates.today(),\".dat\")\n",
    "open(fileOutB16, \"w\") do fp\n",
    "    serialize(fp, resFreqSel16)\n",
    "end"
   ]
  },
  {
   "cell_type": "code",
   "execution_count": null,
   "metadata": {},
   "outputs": [],
   "source": [
    "constSelDivDF_1en3mut_int100 = calcDivDF(resConstSel16.q, resConstSel16.qD)\n",
    "freqSelDivDF_1en3mut_int100 = calcDivDF(resFreqSel16.q, resFreqSel16.qD)\n",
    "\n",
    "fileOutDF1_16 = string(\"./results/Moran-process/SimResults_DIVERSITY_Constant-Sel_Rep-1_selInt-100_mutRate-1e-3_gen-500k_\",Dates.today(),\".csv\")\n",
    "CSV.write(fileOutDF1_16,constSelDivDF_1en3mut_int100)\n",
    "\n",
    "fileOutDF2_16 = string(\"./results/Moran-process/SimResults_DIVERSITY_Freq-Dep-Sel_Rep-1_selInt-100_mutRate-1e-3_gen-500k_\",Dates.today(),\".csv\")\n",
    "CSV.write(fileOutDF2_16,freqSelDivDF_1en3mut_int100)"
   ]
  },
  {
   "cell_type": "code",
   "execution_count": null,
   "metadata": {},
   "outputs": [],
   "source": [
    "# plot qD curve: \n",
    "qdPlot16 = plot(resConstSel16.q,resConstSel16.qD,xaxis=:log,legend=:none, color_palette=:reds, grid=false)\n",
    "plot!(qdPlot16, resFreqSel16.q,resFreqSel16.qD,xaxis=:log,legend=:none, color_palette=:blues, opacity=0.5)\n",
    "savefig(qdPlot16, string(\"./results/Moran-process/DiversityCurves_selInt-100_mutRate-1e-3_\",Dates.today(),\".pdf\"))"
   ]
  },
  {
   "cell_type": "code",
   "execution_count": null,
   "metadata": {},
   "outputs": [],
   "source": [
    "# histogram of number of clones at a time\n",
    "hPlot16 = histogram(resConstSel16.numClonesTrack, bins=:scott, normalize=:probability, color=:red, opacity=0.6, linealpha=0.1, grid=false)\n",
    "histogram!(hPlot16, resFreqSel16.numClonesTrack, bins=:scott, normalize=:probability, color=:blue, opacity=0.6, linealpha=0.1, legend=false)\n",
    "savefig(hPlot16, string(\"./results/Moran-process/Histogram-of-Clones_selInt-100_mutRate-1e-3_\",Dates.today(),\".pdf\"))"
   ]
  },
  {
   "cell_type": "markdown",
   "metadata": {},
   "source": [
    "#### Replotting qD curves with all same y-axis range"
   ]
  },
  {
   "cell_type": "code",
   "execution_count": null,
   "metadata": {},
   "outputs": [],
   "source": [
    "yrange = (0,160)\n",
    "\n",
    "qdPlotLoMu2 = plot(resConstSelLoMu2.q,resConstSelLoMu2.qD,xaxis=:log,legend=:none, color_palette=:reds, grid=false)\n",
    "plot!(qdPlotLoMu2, resFreqSelLoMu2.q,resFreqSelLoMu2.qD,xaxis=:log,legend=:none, color_palette=:blues, opacity=0.5, ylim=yrange)\n",
    "savefig(qdPlotLoMu2, string(\"./results/Moran-process/DiversityCurves_FixedRange_selInt-10_mutRate-5e-4_\",Dates.today(),\".pdf\"))\n",
    "\n",
    "qdPlotLoMu2B = plot(resConstSelLoMu2B.q,resConstSelLoMu2B.qD,xaxis=:log,legend=:none, color_palette=:reds, grid=false)\n",
    "plot!(qdPlotLoMu2B, resFreqSelLoMu2B.q,resFreqSelLoMu2B.qD,xaxis=:log,legend=:none, color_palette=:blues, opacity=0.5, ylim=yrange)\n",
    "savefig(qdPlotLoMu2B, string(\"./results/Moran-process/DiversityCurves_FixedRange_selInt-5_mutRate-5e-4_\",Dates.today(),\".pdf\"))\n",
    "\n",
    "qdPlotHiMu2 = plot(resConstSelHiMu2.q,resConstSelHiMu2.qD,xaxis=:log,legend=:none, color_palette=:reds, grid=false)\n",
    "plot!(qdPlotHiMu2, resFreqSelHiMu2.q,resFreqSelHiMu2.qD,xaxis=:log,legend=:none, color_palette=:blues, opacity=0.5, ylim=yrange)\n",
    "savefig(qdPlotHiMu2, string(\"./results/Moran-process/DiversityCurves_FixedRange_selInt-10_mutRate-5e-2_\",Dates.today(),\".pdf\"))\n",
    "\n",
    "qdPlotHiMu2B = plot(resConstSelHiMu2B.q,resConstSelHiMu2B.qD,xaxis=:log,legend=:none, color_palette=:reds, grid=false)\n",
    "plot!(qdPlotHiMu2B, resFreqSelHiMu2B.q,resFreqSelHiMu2B.qD,xaxis=:log,legend=:none, color_palette=:blues, opacity=0.5, ylim=yrange)\n",
    "savefig(qdPlotHiMu2B, string(\"./results/Moran-process/DiversityCurves_FixedRange_selInt-5_mutRate-5e-2_\",Dates.today(),\".pdf\"))\n",
    "\n",
    "qdPlotMiMu = plot(resConstSelMiMu.q,resConstSelMiMu.qD,xaxis=:log,legend=:none, color_palette=:reds, grid=false)\n",
    "plot!(qdPlotMiMu, resFreqSelMiMu.q,resFreqSelMiMu.qD,xaxis=:log,legend=:none, color_palette=:blues, opacity=0.5, ylim=yrange)\n",
    "savefig(qdPlotMiMu, string(\"./results/Moran-process/DiversityCurves_FixedRange_selInt-10_mutRate-1e-3_\",Dates.today(),\".pdf\"))\n",
    "\n",
    "qdPlotMiMu2 = plot(resConstSelMiMu2.q,resConstSelMiMu2.qD,xaxis=:log,legend=:none, color_palette=:reds, grid=false)\n",
    "plot!(qdPlotMiMu2, resFreqSelMiMu2.q,resFreqSelMiMu2.qD,xaxis=:log,legend=:none, color_palette=:blues, opacity=0.5, ylim=yrange)\n",
    "savefig(qdPlotMiMu2, string(\"./results/Moran-process/DiversityCurves_FixedRange_selInt-5_mutRate-1e-3_\",Dates.today(),\".pdf\"))\n",
    "\n",
    "qdPlotMiMu3 = plot(resConstSelMiMu3.q,resConstSelMiMu3.qD,xaxis=:log,legend=:none, color_palette=:reds, grid=false)\n",
    "plot!(qdPlotMiMu3, resFreqSelMiMu3.q,resFreqSelMiMu3.qD,xaxis=:log,legend=:none, color_palette=:blues, opacity=0.5, ylim=yrange)\n",
    "savefig(qdPlotMiMu3, string(\"./results/Moran-process/DiversityCurves_FixedRange_selInt-10_mutRate-1e-2_\",Dates.today(),\".pdf\"))\n",
    "\n",
    "qdPlotMiMu4 = plot(resConstSelMiMu4.q,resConstSelMiMu4.qD,xaxis=:log,legend=:none, color_palette=:reds, grid=false)\n",
    "plot!(qdPlotMiMu4, resFreqSelMiMu4.q,resFreqSelMiMu4.qD,xaxis=:log,legend=:none, color_palette=:blues, opacity=0.5, ylim=yrange)\n",
    "savefig(qdPlotMiMu4, string(\"./results/Moran-process/DiversityCurves_FixedRange_selInt-5_mutRate-1e-2_\",Dates.today(),\".pdf\"))\n",
    "\n",
    "qdPlotMiMu5 = plot(resConstSelMiMu5.q,resConstSelMiMu5.qD,xaxis=:log,legend=:none, color_palette=:reds, grid=false)\n",
    "plot!(qdPlotMiMu5, resFreqSelMiMu5.q,resFreqSelMiMu5.qD,xaxis=:log,legend=:none, color_palette=:blues, opacity=0.5, ylim=yrange)\n",
    "savefig(qdPlotMiMu5, string(\"./results/Moran-process/DiversityCurves_FixedRange_selInt-10_mutRate-5e-3_\",Dates.today(),\".pdf\"))\n",
    "\n",
    "qdPlotMiMu6 = plot(resConstSelMiMu6.q,resConstSelMiMu6.qD,xaxis=:log,legend=:none, color_palette=:reds, grid=false)\n",
    "plot!(qdPlotMiMu6, resFreqSelMiMu6.q,resFreqSelMiMu6.qD,xaxis=:log,legend=:none, color_palette=:blues, opacity=0.5, ylim=yrange)\n",
    "savefig(qdPlotMiMu6, string(\"./results/Moran-process/DiversityCurves_FixedRange_selInt-5_mutRate-5e-3_\",Dates.today(),\".pdf\"))\n",
    "\n",
    "qdPlot7 = plot(resConstSel7.q,resConstSel7.qD,xaxis=:log,legend=:none, color_palette=:reds, grid=false)\n",
    "plot!(qdPlot7, resFreqSel7.q,resFreqSel7.qD,xaxis=:log,legend=:none, color_palette=:blues, opacity=0.5, ylim=yrange)\n",
    "savefig(qdPlot7, string(\"./results/Moran-process/DiversityCurves_FixedRange_selInt-1_mutRate-5e-4_\",Dates.today(),\".pdf\"))\n",
    "\n",
    "qdPlot8 = plot(resConstSel8.q,resConstSel8.qD,xaxis=:log,legend=:none, color_palette=:reds, grid=false)\n",
    "plot!(qdPlot8, resFreqSel8.q,resFreqSel8.qD,xaxis=:log,legend=:none, color_palette=:blues, opacity=0.5, ylim=yrange)\n",
    "savefig(qdPlot8, string(\"./results/Moran-process/DiversityCurves_FixedRange_selInt-1_mutRate-5e-3_\",Dates.today(),\".pdf\"))\n",
    "\n",
    "qdPlot9 = plot(resConstSel9.q,resConstSel9.qD,xaxis=:log,legend=:none, color_palette=:reds, grid=false)\n",
    "plot!(qdPlot9, resFreqSel9.q,resFreqSel9.qD,xaxis=:log,legend=:none, color_palette=:blues, opacity=0.5, ylim=yrange)\n",
    "savefig(qdPlot9, string(\"./results/Moran-process/DiversityCurves_FixedRange_selInt-1_mutRate-5e-2_\",Dates.today(),\".pdf\"))\n",
    "\n",
    "qdPlot10 = plot(resConstSel10.q,resConstSel10.qD,xaxis=:log,legend=:none, color_palette=:reds, grid=false)\n",
    "plot!(qdPlot10, resFreqSel10.q,resFreqSel10.qD,xaxis=:log,legend=:none, color_palette=:blues, opacity=0.5, ylim=yrange)\n",
    "savefig(qdPlot10, string(\"./results/Moran-process/DiversityCurves_FixedRange_selInt-1_mutRate-1e-2_\",Dates.today(),\".pdf\"))\n",
    "\n",
    "qdPlot11 = plot(resConstSel11.q,resConstSel11.qD,xaxis=:log,legend=:none, color_palette=:reds, grid=false)\n",
    "plot!(qdPlot11, resFreqSel11.q,resFreqSel11.qD,xaxis=:log,legend=:none, color_palette=:blues, opacity=0.5, ylim=yrange)\n",
    "savefig(qdPlot11, string(\"./results/Moran-process/DiversityCurves_FixedRange_selInt-1_mutRate-1e-3_\",Dates.today(),\".pdf\"))\n",
    "\n",
    "qdPlot12 = plot(resConstSel12.q,resConstSel12.qD,xaxis=:log,legend=:none, color_palette=:reds, grid=false)\n",
    "plot!(qdPlot12, resFreqSel12.q,resFreqSel12.qD,xaxis=:log,legend=:none, color_palette=:blues, opacity=0.5, ylim=yrange)\n",
    "savefig(qdPlot12, string(\"./results/Moran-process/DiversityCurves_FixedRange_selInt-100_mutRate-5e-4_\",Dates.today(),\".pdf\"))\n",
    "\n",
    "qdPlot13 = plot(resConstSel13.q,resConstSel13.qD,xaxis=:log,legend=:none, color_palette=:reds, grid=false)\n",
    "plot!(qdPlot13, resFreqSel13.q,resFreqSel13.qD,xaxis=:log,legend=:none, color_palette=:blues, opacity=0.5, ylim=yrange)\n",
    "savefig(qdPlot13, string(\"./results/Moran-process/DiversityCurves_FixedRange_selInt-100_mutRate-5e-3_\",Dates.today(),\".pdf\"))\n",
    "\n",
    "qdPlot14 = plot(resConstSel14.q,resConstSel14.qD,xaxis=:log,legend=:none, color_palette=:reds, grid=false)\n",
    "plot!(qdPlot14, resFreqSel14.q,resFreqSel14.qD,xaxis=:log,legend=:none, color_palette=:blues, opacity=0.5, ylim=yrange)\n",
    "savefig(qdPlot14, string(\"./results/Moran-process/DiversityCurves_FixedRange_selInt-100_mutRate-5e-2_\",Dates.today(),\".pdf\"))\n",
    "\n",
    "qdPlot15 = plot(resConstSel15.q,resConstSel15.qD,xaxis=:log,legend=:none, color_palette=:reds, grid=false)\n",
    "plot!(qdPlot15, resFreqSel15.q,resFreqSel15.qD,xaxis=:log,legend=:none, color_palette=:blues, opacity=0.5, ylim=yrange)\n",
    "savefig(qdPlot15, string(\"./results/Moran-process/DiversityCurves_FixedRange_selInt-100_mutRate-1e-2_\",Dates.today(),\".pdf\"))\n",
    "\n",
    "qdPlot16 = plot(resConstSel16.q,resConstSel16.qD,xaxis=:log,legend=:none, color_palette=:reds, grid=false)\n",
    "plot!(qdPlot16, resFreqSel16.q,resFreqSel16.qD,xaxis=:log,legend=:none, color_palette=:blues, opacity=0.5, ylim=yrange)\n",
    "savefig(qdPlot16, string(\"./results/Moran-process/DiversityCurves_FixedRange_selInt-100_mutRate-1e-3_\",Dates.today(),\".pdf\"))"
   ]
  },
  {
   "cell_type": "code",
   "execution_count": null,
   "metadata": {},
   "outputs": [],
   "source": [
    "resConstSel16"
   ]
  },
  {
   "cell_type": "code",
   "execution_count": null,
   "metadata": {},
   "outputs": [],
   "source": [
    "resConstSel16.freq"
   ]
  },
  {
   "cell_type": "code",
   "execution_count": null,
   "metadata": {},
   "outputs": [],
   "source": [
    "resConstSel16.numClonesTrack"
   ]
  },
  {
   "cell_type": "code",
   "execution_count": null,
   "metadata": {},
   "outputs": [],
   "source": [
    "resConstSel16.whoDied"
   ]
  },
  {
   "cell_type": "code",
   "execution_count": null,
   "metadata": {},
   "outputs": [],
   "source": []
  }
 ],
 "metadata": {
  "kernelspec": {
   "display_name": "Julia 1.0.0",
   "language": "julia",
   "name": "julia-1.0"
  },
  "language_info": {
   "file_extension": ".jl",
   "mimetype": "application/julia",
   "name": "julia",
   "version": "1.0.0"
  }
 },
 "nbformat": 4,
 "nbformat_minor": 2
}
