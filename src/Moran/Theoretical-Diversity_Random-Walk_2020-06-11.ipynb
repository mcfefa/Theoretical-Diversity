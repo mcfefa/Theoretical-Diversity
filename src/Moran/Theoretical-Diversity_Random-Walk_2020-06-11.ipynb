{
 "cells": [
  {
   "cell_type": "code",
   "execution_count": null,
   "metadata": {},
   "outputs": [],
   "source": [
    "## Code updated from RandomWalk_2020-04-01.jl"
   ]
  },
  {
   "cell_type": "code",
   "execution_count": 1,
   "metadata": {},
   "outputs": [
    {
     "data": {
      "text/plain": [
       "\"/Users/mcfefa/Dropbox/Papers in Progress/Diversity-Score-Theory-Paper/code/Project.toml\""
      ]
     },
     "execution_count": 1,
     "metadata": {},
     "output_type": "execute_result"
    }
   ],
   "source": [
    "using Pkg;\n",
    "Pkg.activate(\".\")"
   ]
  },
  {
   "cell_type": "code",
   "execution_count": 2,
   "metadata": {},
   "outputs": [],
   "source": [
    "using Random\n",
    "using Plots\n",
    "using Statistics"
   ]
  },
  {
   "cell_type": "code",
   "execution_count": 3,
   "metadata": {},
   "outputs": [],
   "source": [
    "using Dates"
   ]
  },
  {
   "cell_type": "code",
   "execution_count": 4,
   "metadata": {},
   "outputs": [],
   "source": [
    "using Serialization"
   ]
  },
  {
   "cell_type": "code",
   "execution_count": 5,
   "metadata": {},
   "outputs": [],
   "source": [
    "using DataFrames"
   ]
  },
  {
   "cell_type": "code",
   "execution_count": 6,
   "metadata": {},
   "outputs": [],
   "source": [
    "using CSV"
   ]
  },
  {
   "cell_type": "code",
   "execution_count": 7,
   "metadata": {},
   "outputs": [],
   "source": [
    "using Query"
   ]
  },
  {
   "cell_type": "markdown",
   "metadata": {},
   "source": [
    "#Pkg.add(\"RCall\")\n",
    "using RCall\n",
    "#Pkg.build(\"RCall\")"
   ]
  },
  {
   "cell_type": "code",
   "execution_count": 8,
   "metadata": {},
   "outputs": [
    {
     "data": {
      "text/plain": [
       "makeInitialPayoff (generic function with 2 methods)"
      ]
     },
     "execution_count": 8,
     "metadata": {},
     "output_type": "execute_result"
    }
   ],
   "source": [
    "## Create initial conditions\n",
    "   # input: number of cells, initial clones, will randomly assign initial frequency \n",
    "\n",
    "function makeInitialPayoff(clones::Int64, fillPayoff::Vector, freqSel::Bool=false)\n",
    "    # ... is vararg splat, takes an array of values and passes them to a function as if 1st, 2nd, 3rd\n",
    "    # converts an array into arguments\n",
    "\n",
    "    if freqSel\n",
    "      payoff = fillPayoff.*rand(clones,clones)\n",
    "    else\n",
    "      payoff = hcat(fill(fillPayoff, (clones,1))...)\n",
    "    end\n",
    "    \n",
    "    return payoff::Matrix\n",
    "end\n"
   ]
  },
  {
   "cell_type": "code",
   "execution_count": 9,
   "metadata": {},
   "outputs": [
    {
     "data": {
      "text/plain": [
       "initialize (generic function with 2 methods)"
      ]
     },
     "execution_count": 9,
     "metadata": {},
     "output_type": "execute_result"
    }
   ],
   "source": [
    "function initialize(cellCount::Int64, numClones::Int64, fillPayoff::Vector, freqSel::Bool=false)\n",
    "    # initialize what each cell is \n",
    "    \n",
    "    totalCells = rand(1:numClones,cellCount); # assigning clones to each spot\n",
    "    payoff = makeInitialPayoff(numClones, fillPayoff, freqSel)\n",
    "    \n",
    "    return (totalCells, payoff); \n",
    "end"
   ]
  },
  {
   "cell_type": "code",
   "execution_count": 10,
   "metadata": {},
   "outputs": [
    {
     "data": {
      "text/plain": [
       "calcFreq (generic function with 1 method)"
      ]
     },
     "execution_count": 10,
     "metadata": {},
     "output_type": "execute_result"
    }
   ],
   "source": [
    "function calcFreq(uniqueClones::Vector{Int64}, perClone::Vector{Int64})\n",
    "    # calculates frequency of each unique clone at current time point\n",
    "    \n",
    "    ### ASK JAMES FOR A WORD DESCRIPTION OF X->X=i ...\n",
    "    \n",
    "    cts = [count(x->x==i,perClone) for i in uniqueClones]\n",
    "    return cts/sum(cts)\n",
    "end"
   ]
  },
  {
   "cell_type": "code",
   "execution_count": 11,
   "metadata": {},
   "outputs": [
    {
     "data": {
      "text/plain": [
       "makeNewClone (generic function with 2 methods)"
      ]
     },
     "execution_count": 11,
     "metadata": {},
     "output_type": "execute_result"
    }
   ],
   "source": [
    "## Create payoff matrix -- add row/column\n",
    "\n",
    "function makeNewClone(mtx::Matrix, parent::Int64, freqSel::Bool=false)\n",
    "    \n",
    "    ## add or delete depending on if new clone is added or removed from population\n",
    "    # to add, make a new matrix of [n+1, n+1], loop through to fill in old matrix and add new matrix\n",
    "    \n",
    "    # note, should be a square matrix, x==y --- use for error handling\n",
    "    \n",
    "    (x,y) = size(mtx)\n",
    "    newMtx = zeros(x+1,x+1)   # creates an empty matrix of zeros\n",
    "    newMtx[1:x,1:x] = mtx     # fills in the original matrix\n",
    "    \n",
    "    if freqSel\n",
    "        # FREQUENCY SELECTION\n",
    "        # returns clone that will produce the new clone\n",
    "        # perturb by the mean with std proportional to mean\n",
    "        newMtx[x+1,1:x] = mtx[parent,:].*(1 .+ 0.01*randn(x))      \n",
    "        ## fill last elements of row \n",
    "        # calculate the mean of the rows to fill in for the new clone \n",
    "        rowMean = mean(newMtx[1:x,1:x],dims=2)\n",
    "        for i in 1:x\n",
    "            newMtx[i,x+1] = rowMean[i]\n",
    "        end\n",
    "    else\n",
    "        # CONSTANT SELECTION \n",
    "        newOne = mtx[parent,1]*(1+0.01*randn()) # all the same across the row, \n",
    "        newMtx[x+1,:] = fill(newOne,x+1)   # fill in constant selection for new species\n",
    "        for i in 1:x\n",
    "              newMtx[i,x+1] = newMtx[i,x]\n",
    "        end\n",
    "    end \n",
    "    \n",
    "        newMtx[end,end] = newMtx[parent,end]*(1+0.01*randn()) \n",
    "        # println(newMtx)\n",
    "    return newMtx/maximum(newMtx)\n",
    "end"
   ]
  },
  {
   "cell_type": "code",
   "execution_count": 12,
   "metadata": {},
   "outputs": [
    {
     "data": {
      "text/plain": [
       "deleteClone (generic function with 1 method)"
      ]
     },
     "execution_count": 12,
     "metadata": {},
     "output_type": "execute_result"
    }
   ],
   "source": [
    "## Create payoff matrix -- remove row/column\n",
    "\n",
    "function deleteClone(mtx::Matrix{Float64}, remove::Int64)\n",
    "    \n",
    "    ## add or delete depending on if new clone is added or removed from population\n",
    "    # to delete, just delete row and column of interest\n",
    "    \n",
    "    return mtx[1:end .!= remove, 1:end .!= remove]\n",
    "end\n"
   ]
  },
  {
   "cell_type": "code",
   "execution_count": 13,
   "metadata": {},
   "outputs": [
    {
     "data": {
      "text/plain": [
       "calcAvgFitness (generic function with 1 method)"
      ]
     },
     "execution_count": 13,
     "metadata": {},
     "output_type": "execute_result"
    }
   ],
   "source": [
    "function calcAvgFitness(payoff::Matrix{Float64}, freq::Vector{Float64})\n",
    "    # multiply the frequencies by the payoff matrix to calculate the average fitness   \n",
    "    # xT*A*x\n",
    "    \n",
    "    expectedPayoff = payoff*freq\n",
    "    \n",
    "    # return (transpose(freq)*Epayoff, Epayoff) \n",
    "    return (freq'*expectedPayoff, expectedPayoff) \n",
    "end"
   ]
  },
  {
   "cell_type": "code",
   "execution_count": 14,
   "metadata": {},
   "outputs": [
    {
     "data": {
      "text/plain": [
       "probReplication (generic function with 1 method)"
      ]
     },
     "execution_count": 14,
     "metadata": {},
     "output_type": "execute_result"
    }
   ],
   "source": [
    "function probReplication(payoff::Matrix{Float64}, freq::Vector{Float64}, intensity::Float64)\n",
    "    \n",
    "    # calculating the probability that a clone replicates\n",
    "    # inputs: payoff matrix (Matrix)\n",
    "    #         frequency of the clones (Vector)\n",
    "    #         selection intensity (Real)\n",
    "    # output: probability \n",
    "    \n",
    "    (avg, expectedPayoff) = calcAvgFitness(payoff,freq);\n",
    "\n",
    "    # Species rate of production of offspring\n",
    "    probRep = exp.(intensity*(expectedPayoff)).*freq  #  .- avg\n",
    "    # @show probRep\n",
    "\n",
    "    # Compute CDF\n",
    "    cs = cumsum(probRep)\n",
    "    prob = cs/cs[end]\n",
    "    \n",
    "    # returns grouping of which proportion will be replicating when random number\n",
    "    return prob\n",
    "end"
   ]
  },
  {
   "cell_type": "code",
   "execution_count": 15,
   "metadata": {},
   "outputs": [
    {
     "data": {
      "text/plain": [
       "calcqD (generic function with 2 methods)"
      ]
     },
     "execution_count": 15,
     "metadata": {},
     "output_type": "execute_result"
    }
   ],
   "source": [
    "function calcqD(freq::Vector{Float64}, res::Int64=1000)\n",
    "  ## good default resoluion: 1000\n",
    "\n",
    "  q = exp10.(range(-2.0, stop=2.0, length=res));\n",
    "  qD = sum(freq.^q', dims=1) .^ (1 ./ (1 .- q'))\n",
    "  return (qD[:], q)\n",
    "end"
   ]
  },
  {
   "cell_type": "code",
   "execution_count": 16,
   "metadata": {},
   "outputs": [
    {
     "data": {
      "text/plain": [
       "runSim (generic function with 3 methods)"
      ]
     },
     "execution_count": 16,
     "metadata": {},
     "output_type": "execute_result"
    }
   ],
   "source": [
    "function runSim(initialPayoff::Vector{Float64}, totGen::Int64, cellCount::Int64, numClones::Int64, intensity::Float64, mutProb::Float64, howOftenCalcQD::Int64, resQD::Int64=1000, freqSelOn::Bool=false)\n",
    "    \n",
    "    # inputs: \n",
    "    #   initialPayoff::Vector{Float64} - fill vector \n",
    "    #   totGen::Int64 - number of generations to loop over\n",
    "    #   cellCount::Int64 - total number of cells/total population size\n",
    "    #   numClones::Int64 - number of distinct clones\n",
    "    #   intensity::Float64 - selection intensity\n",
    "    #   mutProb:: Float64 - probability a clone mutates \n",
    "    #   delay::Int64 - after delay steps, start calculating qD  !!!! TO DO !!!!\n",
    "    #   howOftenCalcQD::Int64 - calculate qD every howOftenCalcQD timesteps\n",
    "    #   resQD::Int64 - resolution at which qD is calculated, defaults to 1000 \n",
    "    \n",
    "    ## to collect for Muller plots\n",
    "    # time points\n",
    "    # population size at time points ---> frequency at the timepoint\n",
    "    # edge list (who mutates (parent) to produce new clone)\n",
    "    \n",
    "    # Create the initial payoff matrix, based on cellCount & numClones\n",
    "    # initialize the initial conditions\n",
    "    # make individual cells with which clone they are and the initial payoff matrix\n",
    "    (cells, payoff) = initialize(cellCount, numClones, initialPayoff, freqSelOn);\n",
    "    totClones = numClones;\n",
    "    uniqueClones = Array(1:numClones)\n",
    "    numClonesTrack = zeros(Int,totGen);\n",
    "    numClonesTrack[1] = numClones;\n",
    "    \n",
    "    # create array for collecting --- ASK JAMES IF THIS CAN BE IMPROVED ---- ask James what means \n",
    "    qDarray = Vector{Float64}[]\n",
    "\n",
    "    # calculate the frequency of each clone\n",
    "    freq = calcFreq(uniqueClones,cells)\n",
    "    Mullerfreq = freq\n",
    "    qD, qRange = calcqD(freq);\n",
    "    push!(qDarray, qD)\n",
    "    whoDied = Tuple{Int, Float64}[]\n",
    "    \n",
    "    ## make first entry of data for Muller plot data collection\n",
    "    MullerData = DataFrame(generation=[], population=[], edgelist=[])\n",
    "    push!(MullerData, [1, floor.(Int,cellCount*freq), []])\n",
    "\n",
    "    for gen in 2:totGen\n",
    "\n",
    "        # Step 1: calculate prob of each clone to be replicating\n",
    "        # Step 2: find which clone replicates (random number, see who select)\n",
    "        # Step 3: decide if mutate (rand num)\n",
    "        # Step 4: decide how much mutates by (offspring close to num in payoff)\n",
    "       \n",
    "        edgeData = []\n",
    "        \n",
    "        # get a cumulative probability distribution (essentially CDF) for probability of replication\n",
    "        CDF = probReplication(payoff, freq, intensity) \n",
    "\n",
    "        # decide which clone replicates\n",
    "        ####### FIXME ###### (When only single clone )\n",
    "        roll = rand()\n",
    "        \n",
    "        whichOneRep = []\n",
    "        whichOneRepIndex = []\n",
    "        try\n",
    "            # looking for the first time we exceed the role, if so mutates\n",
    "            whichOneRepIndex = findall(y->(y>=roll),CDF)[1]\n",
    "            whichOneRep = uniqueClones[whichOneRepIndex]\n",
    "        catch\n",
    "            @show freq, payoff, uniqueClones,CDF\n",
    "            @error(\"what??\")\n",
    "        end\n",
    "        \n",
    "       # println(\"which one reps \", whichOneRep)\n",
    "        #once replication occurs, does it mutated\n",
    "        if (mutProb > rand())\n",
    "            ## true, add to payoff matrix\n",
    "            # if you mutate, update payoff, update array of cells and add new cell to total num of clones\n",
    "            payoff = makeNewClone(payoff, whichOneRepIndex, freqSelOn) \n",
    "            numClones +=1\n",
    "            totClones +=1\n",
    "            whoReplacesDead = totClones\n",
    "            push!(uniqueClones, whoReplacesDead)\n",
    "            edgeData = [whichOneRep,totClones]\n",
    "        else\n",
    "            ## false - no mutation\n",
    "            whoReplacesDead = whichOneRep\n",
    "        end\n",
    "                    \n",
    "        # randomly pick who dies (randomly pick a clone, replace with new clone)\n",
    "        whichCellDies = rand(1:cellCount)\n",
    "        cells[whichCellDies] = whoReplacesDead\n",
    "        \n",
    "        # check to see if a clone is lost --> 0 is a lost clone\n",
    "        # calculate the frequency of each clone to identify 0 clone\n",
    "        freq = calcFreq(uniqueClones,cells)\n",
    "        Mullerfreq = calcFreq(Array(1:totClones),cells);\n",
    "                \n",
    "        # check if we lost a clone, if yes       \n",
    "        locZeros = findall(x->x==0,freq)\n",
    "        # if clone died, record it in whoDied and remove from payoff\n",
    "        if length(locZeros) > 0\n",
    "            \n",
    "            deadClone = locZeros[1]\n",
    "            # record which clone died and its payoff\n",
    "            push!(whoDied, (uniqueClones[deadClone], payoff[deadClone,1]))     \n",
    "            # delete dead clone from payoff, freq, and number of clones\n",
    "            payoff = deleteClone(payoff, deadClone)\n",
    "            deleteat!(freq,deadClone)\n",
    "            deleteat!(uniqueClones,deadClone)\n",
    "            numClones -= 1\n",
    "            \n",
    "        end\n",
    "        \n",
    "        numClonesTrack[gen] = numClones; \n",
    "        if gen % howOftenCalcQD == 0\n",
    "          qD, _ = calcqD(freq);\n",
    "          push!(qDarray, qD)\n",
    "        end\n",
    "        \n",
    "        ### append Muller plot collection data\n",
    "        # generation number; population size; edge list (parent, child)\n",
    "        \n",
    "        #popvector = cellCount*freq;\n",
    "        push!(MullerData, [gen, floor.(Int,cellCount*Mullerfreq), edgeData])\n",
    "        \n",
    "    end\n",
    "   # currently only returning first column of payoff matrix because all rows are the same\n",
    "    return (numClonesTrack=numClonesTrack, totClones=totClones, freq=freq, payoff=payoff[:,1], whoDied=whoDied, qD=qDarray, q=qRange, MD=MullerData)\n",
    "    \n",
    "end"
   ]
  },
  {
   "cell_type": "code",
   "execution_count": 17,
   "metadata": {},
   "outputs": [],
   "source": [
    "    # inputs: \n",
    "    #   initialPayoff::Vector{Float64} - fill vector \n",
    "    #   totGen::Int64 - number of generations to loop over\n",
    "    #   cellCount::Int64 - total number of cells/total population size\n",
    "    #   numClones::Int64 - number of distinct clones\n",
    "    #   intensity::Float64 - selection intensity\n",
    "    #   mutProb:: Float64 - probability a clone mutates \n",
    "    #   howOftenCalcQD::Int64 - calculate qD every howOftenCalcQD timesteps\n",
    "    #   resQD::Int64 - resolution at which qD is calculated, defaults to 1000 \n",
    "    #   freqSelOn::Bool = tells whether on freq dependent selection or constant selection"
   ]
  },
  {
   "cell_type": "code",
   "execution_count": 18,
   "metadata": {},
   "outputs": [],
   "source": [
    "# outputs: (\n",
    "#       numClonesTrack=numClonesTrack, \n",
    "#       totClones=totClones, \n",
    "#       freq=freq, \n",
    "#       payoff=payoff[:,1], \n",
    "#       whoDied=whoDied, \n",
    "#       qD=qDarray, q=qRange\n",
    "# )"
   ]
  },
  {
   "cell_type": "code",
   "execution_count": null,
   "metadata": {},
   "outputs": [],
   "source": [
    "numClones = 1;\n",
    "mut = 0.5;\n",
    "cellCount = 100;\n",
    "initialPayoff = rand(numClones);\n",
    "gen=10;\n",
    "selInt = 10.0;\n",
    "howOften = 1;\n",
    "resolution = 1;\n",
    "freqSelType = true;"
   ]
  },
  {
   "cell_type": "code",
   "execution_count": null,
   "metadata": {},
   "outputs": [],
   "source": [
    "test2 = runSim(initialPayoff,gen,cellCount,numClones,selInt,mut,howOften,resolution,freqSelType);"
   ]
  },
  {
   "cell_type": "code",
   "execution_count": null,
   "metadata": {},
   "outputs": [],
   "source": []
  },
  {
   "cell_type": "code",
   "execution_count": null,
   "metadata": {},
   "outputs": [],
   "source": [
    "function fillInMullerTable(df::DataFrame)\n",
    "    \n",
    "    totClNum = length(df[end,:population])\n",
    "    gen = df[end,:generation]\n",
    "    \n",
    "    newTable = zeros(Int,gen,totClNum);\n",
    "    tmp = []\n",
    "    \n",
    "    for i in 1:gen\n",
    "        tmp = length(df[i,:population])\n",
    "        newTable[i, 1:tmp] = df[i,:population]\n",
    "    end\n",
    "    \n",
    "    return newTable\n",
    "end"
   ]
  },
  {
   "cell_type": "code",
   "execution_count": null,
   "metadata": {},
   "outputs": [],
   "source": [
    "newMullerPopulation = fillInMullerTable(test2.MD)"
   ]
  },
  {
   "cell_type": "code",
   "execution_count": null,
   "metadata": {},
   "outputs": [],
   "source": [
    "edgeImportant = @from i in test2.MD begin\n",
    "    @where i.edgelist != []\n",
    "    @select {gen=i.generation,i.edgelist}\n",
    "    @collect DataFrame\n",
    "end"
   ]
  },
  {
   "cell_type": "code",
   "execution_count": null,
   "metadata": {},
   "outputs": [],
   "source": [
    "pairedlist = edgeImportant[!,:edgelist];\n",
    "parentlist=zeros(Int,size(newMullerPopulation)[2])\n",
    "for j in 1:length(pairedlist)\n",
    "     parentlist[pairedlist[j][2]] = pairedlist[j][1]\n",
    "end"
   ]
  },
  {
   "cell_type": "code",
   "execution_count": null,
   "metadata": {},
   "outputs": [],
   "source": [
    "clonelist = collect(1:length(pairedlist)+1);"
   ]
  },
  {
   "cell_type": "code",
   "execution_count": null,
   "metadata": {},
   "outputs": [],
   "source": [
    "edgeDF = DataFrame(child=clonelist, parent=parentlist)"
   ]
  },
  {
   "cell_type": "code",
   "execution_count": null,
   "metadata": {},
   "outputs": [],
   "source": [
    "genDF = DataFrame(newMullerPopulation)"
   ]
  },
  {
   "cell_type": "code",
   "execution_count": null,
   "metadata": {},
   "outputs": [],
   "source": [
    "using CSV"
   ]
  },
  {
   "cell_type": "code",
   "execution_count": null,
   "metadata": {},
   "outputs": [],
   "source": [
    "CSV.write(\"MullerTest_GenDF_test3_2020-06-03.csv\", genDF)\n",
    "CSV.write(\"MullerTest_EdgeDF_test3_2020-06-03.csv\", edgeDF)"
   ]
  },
  {
   "cell_type": "code",
   "execution_count": null,
   "metadata": {},
   "outputs": [],
   "source": [
    "using RCall"
   ]
  },
  {
   "cell_type": "code",
   "execution_count": null,
   "metadata": {},
   "outputs": [],
   "source": []
  },
  {
   "cell_type": "code",
   "execution_count": null,
   "metadata": {},
   "outputs": [],
   "source": [
    "@rlibrary EvoFreq"
   ]
  },
  {
   "cell_type": "code",
   "execution_count": null,
   "metadata": {},
   "outputs": [],
   "source": [
    "R\"install.packages('contrib.url')\""
   ]
  },
  {
   "cell_type": "code",
   "execution_count": null,
   "metadata": {},
   "outputs": [],
   "source": [
    "R\"install.packages('devtools', source='https://cloud.r-project.org')\""
   ]
  },
  {
   "cell_type": "code",
   "execution_count": null,
   "metadata": {},
   "outputs": [],
   "source": [
    "R\"library(devtools)\""
   ]
  },
  {
   "cell_type": "code",
   "execution_count": null,
   "metadata": {},
   "outputs": [],
   "source": []
  },
  {
   "cell_type": "code",
   "execution_count": null,
   "metadata": {},
   "outputs": [],
   "source": []
  },
  {
   "cell_type": "code",
   "execution_count": null,
   "metadata": {},
   "outputs": [],
   "source": []
  },
  {
   "cell_type": "code",
   "execution_count": null,
   "metadata": {},
   "outputs": [],
   "source": []
  },
  {
   "cell_type": "code",
   "execution_count": null,
   "metadata": {},
   "outputs": [],
   "source": []
  },
  {
   "cell_type": "markdown",
   "metadata": {},
   "source": [
    "#### Functions for calculating diversity metrics"
   ]
  },
  {
   "cell_type": "code",
   "execution_count": 19,
   "metadata": {},
   "outputs": [
    {
     "data": {
      "text/plain": [
       "calcDivDF (generic function with 1 method)"
      ]
     },
     "execution_count": 19,
     "metadata": {},
     "output_type": "execute_result"
    }
   ],
   "source": [
    "function calcDivDF(q, qD)\n",
    "    # create a dataframe with top diversity metrics we look at: lowq, highq, deltaqD, IPq, IP slope\n",
    "    \n",
    "    # step 1: create empty vectors\n",
    "    lowTmp = zeros(length(qD))\n",
    "    highTmp = zeros(length(qD))\n",
    "    deltaTmp = zeros(length(qD))\n",
    "    IPtmp = zeros(length(qD),2)\n",
    "    \n",
    "    # loop through all diversity curves generated in simulation\n",
    "    for i in 1:length(qD)\n",
    "        lowTmp[i] = qD[i][1]    # record low q diversity, q=0.01\n",
    "        highTmp[i] = qD[i][end] # record high q diversity, q=100\n",
    "        deltaTmp[i] = qD[i][1] - qD[i][end]  # calculate delta qD diversity\n",
    "        IPq, IPm = reportInflection(q, qD[i]) # find and calculated IP q and slope\n",
    "        IPtmp[i,1] = IPq; # inflection point q and slope to respective locations\n",
    "        IPtmp[i,2] = IPm;\n",
    "    end\n",
    "    \n",
    "    # compile together into a single dataframe\n",
    "    dfDiv = DataFrame(lowQ=lowTmp, highQ=highTmp, deltaqD=deltaTmp, IPq=IPtmp[:,1], IPslope=IPtmp[:,2])\n",
    "    \n",
    "    return dfDiv; \n",
    "    \n",
    "end\n"
   ]
  },
  {
   "cell_type": "code",
   "execution_count": 20,
   "metadata": {},
   "outputs": [
    {
     "data": {
      "text/plain": [
       "reportInflection (generic function with 1 method)"
      ]
     },
     "execution_count": 20,
     "metadata": {},
     "output_type": "execute_result"
    }
   ],
   "source": [
    "## inflection point calculation supporting functions\n",
    "\n",
    "function findInflection(q::Array, qD::Array)\n",
    "    approxLogDeriv = q[2:end].*diff(qD)./diff(q);\n",
    "    return approxLogDeriv; \n",
    "end\n",
    "\n",
    "function findInflectionLocal(approx::Array)\n",
    "    return argmin((approx))\n",
    "end\n",
    "\n",
    "function reportInflection(q::Array, qD::Array)\n",
    "    diffVector = findInflection(q, qD)\n",
    "    inflectPt = findInflectionLocal(diffVector)\n",
    "    slopeInflectPt = abs(diffVector[inflectPt])\n",
    "    qInflecPt = q[inflectPt+1]\n",
    "    return (qInflecPt, slopeInflectPt)\n",
    "end"
   ]
  },
  {
   "cell_type": "markdown",
   "metadata": {},
   "source": [
    "#### Setting initial simulation settings"
   ]
  },
  {
   "cell_type": "code",
   "execution_count": 23,
   "metadata": {},
   "outputs": [],
   "source": [
    "numClones = 1;\n",
    "cellCount = 1000;\n",
    "initialPayoff = rand(numClones);\n",
    "gen=500000;\n",
    "howOften = 10000;\n",
    "resolution = 10000;\n",
    "freqSelType = false;"
   ]
  },
  {
   "cell_type": "markdown",
   "metadata": {},
   "source": [
    "#### Mutation Rate: 2e-3; Selection: 10"
   ]
  },
  {
   "cell_type": "code",
   "execution_count": 24,
   "metadata": {},
   "outputs": [],
   "source": [
    "mut = 2.0e-3;\n",
    "selInt = 10.0;\n",
    "resConstSel = runSim(initialPayoff,gen,cellCount,numClones,selInt,mut,howOften,resolution,freqSelType);\n",
    "resFreqSel = runSim(initialPayoff,gen,cellCount,numClones,selInt,mut,howOften,resolution,true);"
   ]
  },
  {
   "cell_type": "code",
   "execution_count": 25,
   "metadata": {},
   "outputs": [],
   "source": [
    "fileOut1 = string(\"SimResults_Constant-Sel_Rep-1_selInt-10_mutRate-2e-3_gen-500k_\",Dates.today(),\".dat\")\n",
    "open(fileOut1, \"w\") do fp\n",
    "    serialize(fp, resConstSel)\n",
    "end\n",
    "fileOut2 = string(\"SimResults_Freq-Sel_Rep-1_selInt-10_mutRate-2e-3_gen-500k_\",Dates.today(),\".dat\")\n",
    "open(fileOut2, \"w\") do fp\n",
    "    serialize(fp, resFreqSel)\n",
    "end"
   ]
  },
  {
   "cell_type": "code",
   "execution_count": 26,
   "metadata": {},
   "outputs": [],
   "source": [
    "# plot qD curve: \n",
    "qdPlot = plot(resConstSel.q,resConstSel.qD,xaxis=:log,legend=:none, color_palette=:reds, grid=false)\n",
    "plot!(qdPlot, resFreqSel.q,resFreqSel.qD,xaxis=:log,legend=:none, color_palette=:blues, opacity=0.5)\n",
    "savefig(qdPlot, string(\"DiversityCurves_selInt-10_mutRate-2e-3_\",Dates.today(),\".pdf\"))"
   ]
  },
  {
   "cell_type": "code",
   "execution_count": 27,
   "metadata": {},
   "outputs": [],
   "source": [
    "# histogram of number of clones at a time\n",
    "hPlot = histogram(resConstSel.numClonesTrack, bins=:scott, normalize=:probability, color=:red, opacity=0.7, grid=false)\n",
    "histogram!(hPlot, resFreqSel.numClonesTrack, bins=:scott, normalize=:probability, color=:blue, opacity=0.7)\n",
    "savefig(hPlot, string(\"Histogram-of-Clones_selInt-10_mutRate-2e-3_\",Dates.today(),\".pdf\"))"
   ]
  },
  {
   "cell_type": "code",
   "execution_count": 29,
   "metadata": {},
   "outputs": [
    {
     "data": {
      "text/html": [
       "<table class=\"data-frame\"><thead><tr><th></th><th>lowQ</th><th>highQ</th><th>deltaqD</th><th>IPq</th><th>IPslope</th></tr><tr><th></th><th>Float64</th><th>Float64</th><th>Float64</th><th>Float64</th><th>Float64</th></tr></thead><tbody><p>3 rows × 5 columns</p><tr><th>1</th><td>1.0</td><td>1.0</td><td>0.0</td><td>0.0100926</td><td>0.0</td></tr><tr><th>2</th><td>7.7409</td><td>1.01957</td><td>6.72134</td><td>0.240648</td><td>2.79342</td></tr><tr><th>3</th><td>6.88335</td><td>1.18971</td><td>5.69363</td><td>0.438169</td><td>2.19043</td></tr></tbody></table>"
      ],
      "text/latex": [
       "\\begin{tabular}{r|ccccc}\n",
       "\t& lowQ & highQ & deltaqD & IPq & IPslope\\\\\n",
       "\t\\hline\n",
       "\t& Float64 & Float64 & Float64 & Float64 & Float64\\\\\n",
       "\t\\hline\n",
       "\t1 & 1.0 & 1.0 & 0.0 & 0.0100926 & 0.0 \\\\\n",
       "\t2 & 7.7409 & 1.01957 & 6.72134 & 0.240648 & 2.79342 \\\\\n",
       "\t3 & 6.88335 & 1.18971 & 5.69363 & 0.438169 & 2.19043 \\\\\n",
       "\\end{tabular}\n"
      ],
      "text/plain": [
       "3×5 DataFrame\n",
       "│ Row │ lowQ    │ highQ   │ deltaqD │ IPq       │ IPslope │\n",
       "│     │ \u001b[90mFloat64\u001b[39m │ \u001b[90mFloat64\u001b[39m │ \u001b[90mFloat64\u001b[39m │ \u001b[90mFloat64\u001b[39m   │ \u001b[90mFloat64\u001b[39m │\n",
       "├─────┼─────────┼─────────┼─────────┼───────────┼─────────┤\n",
       "│ 1   │ 1.0     │ 1.0     │ 0.0     │ 0.0100926 │ 0.0     │\n",
       "│ 2   │ 7.7409  │ 1.01957 │ 6.72134 │ 0.240648  │ 2.79342 │\n",
       "│ 3   │ 6.88335 │ 1.18971 │ 5.69363 │ 0.438169  │ 2.19043 │"
      ]
     },
     "execution_count": 29,
     "metadata": {},
     "output_type": "execute_result"
    }
   ],
   "source": [
    "constSelDivDF = calcDivDF(resConstSel.q, resConstSel.qD)\n",
    "first(constSelDivDF,3)"
   ]
  },
  {
   "cell_type": "code",
   "execution_count": 30,
   "metadata": {},
   "outputs": [
    {
     "data": {
      "text/plain": [
       "\"./results/Moran-process/SimResults_DIVERSITY_Constant-Sel_Rep-1_selInt-10_mutRate-2e-3_gen-500k_2020-06-10.csv\""
      ]
     },
     "execution_count": 30,
     "metadata": {},
     "output_type": "execute_result"
    }
   ],
   "source": [
    "fileOutDF1 = string(\"./results/Moran-process/SimResults_DIVERSITY_Constant-Sel_Rep-1_selInt-10_mutRate-2e-3_gen-500k_\",Dates.today(),\".csv\")\n",
    "CSV.write(fileOutDF1,constSelDivDF)"
   ]
  },
  {
   "cell_type": "code",
   "execution_count": 31,
   "metadata": {},
   "outputs": [
    {
     "data": {
      "text/html": [
       "<table class=\"data-frame\"><thead><tr><th></th><th>lowQ</th><th>highQ</th><th>deltaqD</th><th>IPq</th><th>IPslope</th></tr><tr><th></th><th>Float64</th><th>Float64</th><th>Float64</th><th>Float64</th><th>Float64</th></tr></thead><tbody><p>3 rows × 5 columns</p><tr><th>1</th><td>1.0</td><td>1.0</td><td>0.0</td><td>0.0100926</td><td>0.0</td></tr><tr><th>2</th><td>1.94616</td><td>1.00101</td><td>0.945149</td><td>0.174277</td><td>0.372167</td></tr><tr><th>3</th><td>7.75675</td><td>1.03556</td><td>6.72119</td><td>0.25669</td><td>2.73993</td></tr></tbody></table>"
      ],
      "text/latex": [
       "\\begin{tabular}{r|ccccc}\n",
       "\t& lowQ & highQ & deltaqD & IPq & IPslope\\\\\n",
       "\t\\hline\n",
       "\t& Float64 & Float64 & Float64 & Float64 & Float64\\\\\n",
       "\t\\hline\n",
       "\t1 & 1.0 & 1.0 & 0.0 & 0.0100926 & 0.0 \\\\\n",
       "\t2 & 1.94616 & 1.00101 & 0.945149 & 0.174277 & 0.372167 \\\\\n",
       "\t3 & 7.75675 & 1.03556 & 6.72119 & 0.25669 & 2.73993 \\\\\n",
       "\\end{tabular}\n"
      ],
      "text/plain": [
       "3×5 DataFrame\n",
       "│ Row │ lowQ    │ highQ   │ deltaqD  │ IPq       │ IPslope  │\n",
       "│     │ \u001b[90mFloat64\u001b[39m │ \u001b[90mFloat64\u001b[39m │ \u001b[90mFloat64\u001b[39m  │ \u001b[90mFloat64\u001b[39m   │ \u001b[90mFloat64\u001b[39m  │\n",
       "├─────┼─────────┼─────────┼──────────┼───────────┼──────────┤\n",
       "│ 1   │ 1.0     │ 1.0     │ 0.0      │ 0.0100926 │ 0.0      │\n",
       "│ 2   │ 1.94616 │ 1.00101 │ 0.945149 │ 0.174277  │ 0.372167 │\n",
       "│ 3   │ 7.75675 │ 1.03556 │ 6.72119  │ 0.25669   │ 2.73993  │"
      ]
     },
     "execution_count": 31,
     "metadata": {},
     "output_type": "execute_result"
    }
   ],
   "source": [
    "freqSelDivDF = calcDivDF(resFreqSel.q, resFreqSel.qD)\n",
    "first(freqSelDivDF,3)"
   ]
  },
  {
   "cell_type": "code",
   "execution_count": 32,
   "metadata": {},
   "outputs": [
    {
     "data": {
      "text/plain": [
       "\"./results/Moran-process/SimResults_DIVERSITY_Freq-Dep-Sel_Rep-1_selInt-10_mutRate-2e-3_gen-500k_2020-06-10.csv\""
      ]
     },
     "execution_count": 32,
     "metadata": {},
     "output_type": "execute_result"
    }
   ],
   "source": [
    "fileOutDF2 = string(\"./results/Moran-process/SimResults_DIVERSITY_Freq-Dep-Sel_Rep-1_selInt-10_mutRate-2e-3_gen-500k_\",Dates.today(),\".csv\")\n",
    "CSV.write(fileOutDF2,freqSelDivDF)"
   ]
  },
  {
   "cell_type": "markdown",
   "metadata": {},
   "source": [
    "#### Mutation Rate: 2e-3; Selection: 5"
   ]
  },
  {
   "cell_type": "code",
   "execution_count": 33,
   "metadata": {},
   "outputs": [],
   "source": [
    "mut = 2.0e-3;\n",
    "selInt = 5.0;\n",
    "resConstSel_2en3mut_int5 = runSim(initialPayoff,gen,cellCount,numClones,selInt,mut,howOften,resolution,freqSelType);\n",
    "resFreqSel_2en3mut_int5 = runSim(initialPayoff,gen,cellCount,numClones,selInt,mut,howOften,resolution,true);"
   ]
  },
  {
   "cell_type": "code",
   "execution_count": 34,
   "metadata": {},
   "outputs": [],
   "source": [
    "fileOutA = string(\"./results/Moran-process/SimResults_Constant-Sel_Rep-1_selInt-5_mutRate-2e-3_gen-500k_\",Dates.today(),\".dat\")\n",
    "open(fileOutA, \"w\") do fp\n",
    "    serialize(fp, resConstSel_2en3mut_int5)\n",
    "end\n",
    "fileOutB = string(\"./results/Moran-process/SimResults_Freq-Sel_Rep-1_selInt-5_mutRate-2e-3_gen-500k_\",Dates.today(),\".dat\")\n",
    "open(fileOutB, \"w\") do fp\n",
    "    serialize(fp, resFreqSel_2en3mut_int5)\n",
    "end"
   ]
  },
  {
   "cell_type": "code",
   "execution_count": 35,
   "metadata": {},
   "outputs": [
    {
     "data": {
      "text/plain": [
       "\"./results/Moran-process/SimResults_DIVERSITY_Freq-Dep-Sel_Rep-1_selInt-5_mutRate-2e-3_gen-500k_2020-06-10.csv\""
      ]
     },
     "execution_count": 35,
     "metadata": {},
     "output_type": "execute_result"
    }
   ],
   "source": [
    "constSelDivDF_2en3mut_int5 = calcDivDF(resConstSel_2en3mut_int5.q, resConstSel_2en3mut_int5.qD)\n",
    "freqSelDivDF_2en3mut_int5 = calcDivDF(resFreqSel_2en3mut_int5.q, resFreqSel_2en3mut_int5.qD)\n",
    "\n",
    "fileOutDF1A = string(\"./results/Moran-process/SimResults_DIVERSITY_Constant-Sel_Rep-1_selInt-5_mutRate-2e-3_gen-500k_\",Dates.today(),\".csv\")\n",
    "CSV.write(fileOutDF1A,constSelDivDF_2en3mut_int5)\n",
    "\n",
    "fileOutDF2B = string(\"./results/Moran-process/SimResults_DIVERSITY_Freq-Dep-Sel_Rep-1_selInt-5_mutRate-2e-3_gen-500k_\",Dates.today(),\".csv\")\n",
    "CSV.write(fileOutDF2B,freqSelDivDF_2en3mut_int5)"
   ]
  },
  {
   "cell_type": "code",
   "execution_count": 36,
   "metadata": {},
   "outputs": [],
   "source": [
    "# plot qD curve: \n",
    "qdPlot2 = plot(resConstSel_2en3mut_int5.q,resConstSel_2en3mut_int5.qD,xaxis=:log,legend=:none, color_palette=:reds, grid=false)\n",
    "plot!(qdPlot2, resFreqSel_2en3mut_int5.q,resFreqSel_2en3mut_int5.qD,xaxis=:log,legend=:none, color_palette=:blues, opacity=0.5)\n",
    "savefig(qdPlot2, string(\"./results/Moran-process/DiversityCurves_selInt-5_mutRate-2e-3_\",Dates.today(),\".pdf\"))"
   ]
  },
  {
   "cell_type": "code",
   "execution_count": 37,
   "metadata": {},
   "outputs": [],
   "source": [
    "# histogram of number of clones at a time\n",
    "hPlot2 = histogram(resConstSel_2en3mut_int5.numClonesTrack, bins=:scott, normalize=:probability, color=:red, opacity=0.7, grid=false)\n",
    "histogram!(hPlot2, resFreqSel_2en3mut_int5.numClonesTrack, bins=:scott, normalize=:probability, color=:blue, opacity=0.7)\n",
    "savefig(hPlot2, string(\"Histogram-of-Clones_selInt-5_mutRate-2e-3_\",Dates.today(),\".pdf\"))"
   ]
  },
  {
   "cell_type": "markdown",
   "metadata": {},
   "source": [
    "#### Mutation Rate: 2e-1; Selection: 5"
   ]
  },
  {
   "cell_type": "code",
   "execution_count": null,
   "metadata": {},
   "outputs": [],
   "source": [
    "mut = 2.0e-1;\n",
    "resConstSelHiMu_2en1mut_int5 = runSim(initialPayoff,gen,cellCount,numClones,selInt,mut,howOften,resolution,freqSelType);\n",
    "resFreqSelHiMu_2en1mut_int5 = runSim(initialPayoff,gen,cellCount,numClones,selInt,mut,howOften,resolution,true);"
   ]
  },
  {
   "cell_type": "code",
   "execution_count": null,
   "metadata": {},
   "outputs": [],
   "source": [
    "fileOutHiMuA = string(\"./results/Moran-process/SimResults_Constant-Sel_Rep-1_selInt-5_mutRate-2e-1_gen-500k_\",Dates.today(),\".dat\")\n",
    "open(fileOutHiMuA, \"w\") do fp\n",
    "    serialize(fp, resConstSelHiMu_2en1mut_int5)\n",
    "end\n",
    "fileOutHiMuB = string(\"./results/Moran-process/SimResults_Freq-Sel_Rep-1_selInt-5_mutRate-2e-1_gen-500k_\",Dates.today(),\".dat\")\n",
    "open(fileOutHiMuB, \"w\") do fp\n",
    "    serialize(fp, resFreqSelHiMu_2en1mut_int5)\n",
    "end"
   ]
  },
  {
   "cell_type": "code",
   "execution_count": null,
   "metadata": {},
   "outputs": [],
   "source": [
    "constSelDivDF_2en1mut_int5 = calcDivDF(resConstSelHiMu_2en1mut_int5.q, resConstSelHiMu_2en1mut_int5.qD)\n",
    "freqSelDivDF_2en1mut_int5 = calcDivDF(resFreqSelHiMu_2en1mut_int5.q, resFreqSelHiMu_2en1mut_int5.qD)\n",
    "\n",
    "fileOutDF1HiMuA = string(\"./results/Moran-process/SimResults_DIVERSITY_Constant-Sel_Rep-1_selInt-5_mutRate-2e-1_gen-500k_\",Dates.today(),\".csv\")\n",
    "CSV.write(fileOutDF1HiMuA,constSelDivDF_2en1mut_int5)\n",
    "\n",
    "fileOutDF2HiMuB = string(\"./results/Moran-process/SimResults_DIVERSITY_Freq-Dep-Sel_Rep-1_selInt-5_mutRate-2e-1_gen-500k_\",Dates.today(),\".csv\")\n",
    "CSV.write(fileOutDF2HiMuB,freqSelDivDF_2en1mut_int5)"
   ]
  },
  {
   "cell_type": "code",
   "execution_count": null,
   "metadata": {},
   "outputs": [],
   "source": [
    "# plot qD curve: \n",
    "qdPlot3 = plot(resConstSelHiMu_2en1mut_int5.q,resConstSelHiMu_2en1mut_int5.qD,xaxis=:log,legend=:none, color_palette=:reds, grid=false)\n",
    "plot!(qdPlot3, resFreqSelHiMu_2en1mut_int5.q,resFreqSelHiMu_2en1mut_int5.qD,xaxis=:log,legend=:none, color_palette=:blues, opacity=0.5)\n",
    "savefig(qdPlot3, string(\"./results/Moran-process/DiversityCurves_selInt-5_mutRate-2e-1_\",Dates.today(),\".pdf\"))"
   ]
  },
  {
   "cell_type": "code",
   "execution_count": null,
   "metadata": {},
   "outputs": [],
   "source": [
    "# histogram of number of clones at a time\n",
    "hPlot3 = histogram(resConstSelHiMu_2en1mut_int5.numClonesTrack, bins=:scott, normalize=:probability, color=:red, opacity=0.7, grid=false)\n",
    "histogram!(hPlot3, resFreqSelHiMu_2en1mut_int5.numClonesTrack, bins=:scott, normalize=:probability, color=:blue, opacity=0.7)\n",
    "savefig(hPlot3, string(\"Histogram-of-Clones_selInt-5_mutRate-2e-1_\",Dates.today(),\".pdf\"))"
   ]
  },
  {
   "cell_type": "markdown",
   "metadata": {},
   "source": [
    "#### Mutation Rate: 2e-1; Selection: 10"
   ]
  },
  {
   "cell_type": "code",
   "execution_count": null,
   "metadata": {},
   "outputs": [],
   "source": [
    "selInt = 10.0;\n",
    "resConstSelHiMu_2en1mut_int10 = runSim(initialPayoff,gen,cellCount,numClones,selInt,mut,howOften,resolution,freqSelType);\n",
    "resFreqSelHiMu_2en1mut_int10 = runSim(initialPayoff,gen,cellCount,numClones,selInt,mut,howOften,resolution,true);"
   ]
  },
  {
   "cell_type": "code",
   "execution_count": null,
   "metadata": {},
   "outputs": [],
   "source": [
    "fileOutHiMuA2 = string(\"./results/Moran-process/SimResults_Constant-Sel_Rep-1_selInt-10_mutRate-2e-1_gen-500k_\",Dates.today(),\".dat\")\n",
    "open(fileOutHiMuA2, \"w\") do fp\n",
    "    serialize(fp, resConstSelHiMu_2en1mut_int10)\n",
    "end\n",
    "fileOutHiMuB2 = string(\"./results/Moran-process/SimResults_Freq-Sel_Rep-1_selInt-10_mutRate-2e-1_gen-500k_\",Dates.today(),\".dat\")\n",
    "open(fileOutHiMuB2, \"w\") do fp\n",
    "    serialize(fp, resFreqSelHiMu_2en1mut_int10)\n",
    "end"
   ]
  },
  {
   "cell_type": "code",
   "execution_count": null,
   "metadata": {},
   "outputs": [],
   "source": [
    "constSelDivDF_2en1mut_int10 = calcDivDF(resConstSelHiMu_2en1mut_int10.q, resConstSelHiMu_2en1mut_int10.qD)\n",
    "freqSelDivDF_2en1mut_int10 = calcDivDF(resFreqSelHiMu_2en1mut_int10.q, resFreqSelHiMu_2en1mut_int10.qD)\n",
    "\n",
    "fileOutDF1HiMuA2 = string(\"./results/Moran-process/SimResults_DIVERSITY_Constant-Sel_Rep-1_selInt-10_mutRate-2e-1_gen-500k_\",Dates.today(),\".csv\")\n",
    "CSV.write(fileOutDF1HiMuA2,constSelDivDF_2en1mut_int10)\n",
    "\n",
    "fileOutDF2HiMuB2 = string(\"./results/Moran-process/SimResults_DIVERSITY_Freq-Dep-Sel_Rep-1_selInt-10_mutRate-2e-1_gen-500k_\",Dates.today(),\".csv\")\n",
    "CSV.write(fileOutDF2HiMuB2,freqSelDivDF_2en1mut_int10)"
   ]
  },
  {
   "cell_type": "code",
   "execution_count": null,
   "metadata": {},
   "outputs": [],
   "source": [
    "# plot qD curve: \n",
    "qdPlot4 = plot(resConstSelHiMu_2en1mut_int10.q,resConstSelHiMu_2en1mut_int10.qD,xaxis=:log,legend=:none, color_palette=:reds, grid=false)\n",
    "plot!(qdPlot4, resFreqSelHiMu_2en1mut_int10.q,resFreqSelHiMu_2en1mut_int10.qD,xaxis=:log,legend=:none, color_palette=:blues, opacity=0.5)\n",
    "savefig(qdPlot4, string(\"./results/Moran-process/DiversityCurves_selInt-10_mutRate-2e-1_\",Dates.today(),\".pdf\"))"
   ]
  },
  {
   "cell_type": "code",
   "execution_count": null,
   "metadata": {},
   "outputs": [],
   "source": [
    "# histogram of number of clones at a time\n",
    "hPlot4 = histogram(resConstSelHiMu_2en1mut_int10.numClonesTrack, bins=:scott, normalize=:probability, color=:red, opacity=0.7, grid=false)\n",
    "histogram!(hPlot4, resFreqSelHiMu_2en1mut_int10.numClonesTrack, bins=:scott, normalize=:probability, color=:blue, opacity=0.7)\n",
    "savefig(hPlot4, string(\"Histogram-of-Clones_selInt-10_mutRate-2e-1_\",Dates.today(),\".pdf\"))"
   ]
  },
  {
   "cell_type": "markdown",
   "metadata": {},
   "source": [
    "#### Mutation Rate: 5e-4; Selection: 10"
   ]
  },
  {
   "cell_type": "code",
   "execution_count": 38,
   "metadata": {},
   "outputs": [],
   "source": [
    "mut = 5e-4;\n",
    "sel = 10.0; \n",
    "resConstSelLoMu2 = runSim(initialPayoff,gen,cellCount,numClones,selInt,mut,howOften,resolution,freqSelType);\n",
    "resFreqSelLoMu2 = runSim(initialPayoff,gen,cellCount,numClones,selInt,mut,howOften,resolution,true);"
   ]
  },
  {
   "cell_type": "code",
   "execution_count": 39,
   "metadata": {},
   "outputs": [],
   "source": [
    "fileOutLoMuA = string(\"./results/Moran-process/SimResults_Constant-Sel_Rep-1_selInt-10_mutRate-5e-4_gen-500k_\",Dates.today(),\".dat\")\n",
    "open(fileOutLoMuA, \"w\") do fp\n",
    "    serialize(fp, resConstSelLoMu2)\n",
    "end\n",
    "fileOutLoMuB = string(\"./results/Moran-process/SimResults_Freq-Sel_Rep-1_selInt-10_mutRate-5e-4_gen-500k_\",Dates.today(),\".dat\")\n",
    "open(fileOutLoMuB, \"w\") do fp\n",
    "    serialize(fp, resFreqSelLoMu2)\n",
    "end"
   ]
  },
  {
   "cell_type": "code",
   "execution_count": 40,
   "metadata": {},
   "outputs": [
    {
     "data": {
      "text/plain": [
       "\"./results/Moran-process/SimResults_DIVERSITY_Freq-Dep-Sel_Rep-1_selInt-10_mutRate-5e-4_gen-500k_2020-06-10.csv\""
      ]
     },
     "execution_count": 40,
     "metadata": {},
     "output_type": "execute_result"
    }
   ],
   "source": [
    "constSelDivDF_5en4mut_int10 = calcDivDF(resConstSelLoMu2.q, resConstSelLoMu2.qD)\n",
    "freqSelDivDF_5en4mut_int10 = calcDivDF(resFreqSelLoMu2.q, resFreqSelLoMu2.qD)\n",
    "\n",
    "fileOutDF1LoMu = string(\"./results/Moran-process/SimResults_DIVERSITY_Constant-Sel_Rep-1_selInt-10_mutRate-5e-4_gen-500k_\",Dates.today(),\".csv\")\n",
    "CSV.write(fileOutDF1LoMu,constSelDivDF_5en4mut_int10)\n",
    "\n",
    "fileOutDF2LoMu = string(\"./results/Moran-process/SimResults_DIVERSITY_Freq-Dep-Sel_Rep-1_selInt-10_mutRate-5e-4_gen-500k_\",Dates.today(),\".csv\")\n",
    "CSV.write(fileOutDF2LoMu,freqSelDivDF_5en4mut_int10)"
   ]
  },
  {
   "cell_type": "code",
   "execution_count": 41,
   "metadata": {},
   "outputs": [],
   "source": [
    "# plot qD curve: \n",
    "qdPlotLoMu2 = plot(resConstSelLoMu2.q,resConstSelLoMu2.qD,xaxis=:log,legend=:none, color_palette=:reds, grid=false)\n",
    "plot!(qdPlotLoMu2, resFreqSelLoMu2.q,resFreqSelLoMu2.qD,xaxis=:log,legend=:none, color_palette=:blues, opacity=0.5)\n",
    "savefig(qdPlotLoMu2, string(\"./results/Moran-process/DiversityCurves_selInt-10_mutRate-5e-4_\",Dates.today(),\".pdf\"))"
   ]
  },
  {
   "cell_type": "code",
   "execution_count": 42,
   "metadata": {},
   "outputs": [],
   "source": [
    "# histogram of number of clones at a time\n",
    "hPlotLoMu2 = histogram(resConstSelLoMu2.numClonesTrack, bins=:scott, normalize=:probability, color=:red, linealpha=0.2, opacity=0.6, grid=false)\n",
    "histogram!(hPlotLoMu2, resFreqSelLoMu2.numClonesTrack, bins=:scott, normalize=:probability, color=:blue, linealpha=0.2, opacity=0.6, legend=false)\n",
    "savefig(hPlotLoMu2, string(\"./results/Moran-process/Histogram-of-Clones_selInt-10_mutRate-5e-4_\",Dates.today(),\".pdf\"))"
   ]
  },
  {
   "cell_type": "markdown",
   "metadata": {},
   "source": [
    "#### Mutation Rate: 5e-4; Selection: 5"
   ]
  },
  {
   "cell_type": "code",
   "execution_count": 43,
   "metadata": {},
   "outputs": [],
   "source": [
    "mut = 5e-4;\n",
    "sel = 5.0; \n",
    "resConstSelLoMu2B = runSim(initialPayoff,gen,cellCount,numClones,selInt,mut,howOften,resolution,freqSelType);\n",
    "resFreqSelLoMu2B = runSim(initialPayoff,gen,cellCount,numClones,selInt,mut,howOften,resolution,true);"
   ]
  },
  {
   "cell_type": "code",
   "execution_count": 44,
   "metadata": {},
   "outputs": [],
   "source": [
    "fileOutLoMuAB = string(\"./results/Moran-process/SimResults_Constant-Sel_Rep-1_selInt-5_mutRate-5e-4_gen-500k_\",Dates.today(),\".dat\")\n",
    "open(fileOutLoMuAB, \"w\") do fp\n",
    "    serialize(fp, resConstSelLoMu2B)\n",
    "end\n",
    "fileOutLoMuBB = string(\"./results/Moran-process/SimResults_Freq-Sel_Rep-1_selInt-5_mutRate-5e-4_gen-500k_\",Dates.today(),\".dat\")\n",
    "open(fileOutLoMuBB, \"w\") do fpB\n",
    "    serialize(fpB, resFreqSelLoMu2B)\n",
    "end"
   ]
  },
  {
   "cell_type": "code",
   "execution_count": 45,
   "metadata": {},
   "outputs": [
    {
     "data": {
      "text/plain": [
       "\"./results/Moran-process/SimResults_DIVERSITY_Freq-Dep-Sel_Rep-1_selInt-5_mutRate-5e-4_gen-500k_2020-06-10.csv\""
      ]
     },
     "execution_count": 45,
     "metadata": {},
     "output_type": "execute_result"
    }
   ],
   "source": [
    "constSelDivDF_5en4mut_int5 = calcDivDF(resConstSelLoMu2B.q, resConstSelLoMu2B.qD)\n",
    "freqSelDivDF_5en4mut_int5 = calcDivDF(resFreqSelLoMu2B.q, resFreqSelLoMu2B.qD)\n",
    "\n",
    "fileOutDF1LoMuB = string(\"./results/Moran-process/SimResults_DIVERSITY_Constant-Sel_Rep-1_selInt-5_mutRate-5e-4_gen-500k_\",Dates.today(),\".csv\")\n",
    "CSV.write(fileOutDF1LoMuB,constSelDivDF_5en4mut_int5)\n",
    "\n",
    "fileOutDF2LoMuB = string(\"./results/Moran-process/SimResults_DIVERSITY_Freq-Dep-Sel_Rep-1_selInt-5_mutRate-5e-4_gen-500k_\",Dates.today(),\".csv\")\n",
    "CSV.write(fileOutDF2LoMuB,freqSelDivDF_5en4mut_int5)"
   ]
  },
  {
   "cell_type": "code",
   "execution_count": 46,
   "metadata": {},
   "outputs": [],
   "source": [
    "# plot qD curve: \n",
    "qdPlotLoMu2B = plot(resConstSelLoMu2B.q,resConstSelLoMu2B.qD,xaxis=:log,legend=:none, color_palette=:reds, grid=false)\n",
    "plot!(qdPlotLoMu2B, resFreqSelLoMu2B.q,resFreqSelLoMu2B.qD,xaxis=:log,legend=:none, color_palette=:blues, opacity=0.5)\n",
    "savefig(qdPlotLoMu2B, string(\"./results/Moran-process/DiversityCurves_selInt-5_mutRate-5e-4_\",Dates.today(),\".pdf\"))"
   ]
  },
  {
   "cell_type": "code",
   "execution_count": 47,
   "metadata": {},
   "outputs": [],
   "source": [
    "# histogram of number of clones at a time\n",
    "hPlotLoMu2B = histogram(resConstSelLoMu2B.numClonesTrack, bins=:scott, normalize=:probability, color=:red, linealpha=0.2, opacity=0.6, grid=false)\n",
    "histogram!(hPlotLoMu2B, resFreqSelLoMu2B.numClonesTrack, bins=:scott, normalize=:probability, color=:blue, linealpha=0.2, opacity=0.6, legend=false)\n",
    "savefig(hPlotLoMu2B, string(\"./results/Moran-process/Histogram-of-Clones_selInt-5_mutRate-5e-4_\",Dates.today(),\".pdf\"))"
   ]
  },
  {
   "cell_type": "markdown",
   "metadata": {},
   "source": [
    "#### Mutation Rate: 5e-2; Selection: 10"
   ]
  },
  {
   "cell_type": "code",
   "execution_count": null,
   "metadata": {},
   "outputs": [],
   "source": [
    "mut = 5e-2;\n",
    "sel = 10.0; \n",
    "resConstSelHiMu2 = runSim(initialPayoff,gen,cellCount,numClones,selInt,mut,howOften,resolution,freqSelType);\n",
    "resFreqSelHiMu2 = runSim(initialPayoff,gen,cellCount,numClones,selInt,mut,howOften,resolution,true);"
   ]
  },
  {
   "cell_type": "code",
   "execution_count": null,
   "metadata": {},
   "outputs": [],
   "source": [
    "fileOutHiMu2A = string(\"./results/Moran-process/SimResults_Constant-Sel_Rep-1_selInt-10_mutRate-5e-2_gen-500k_\",Dates.today(),\".dat\")\n",
    "open(fileOutHiMu2A, \"w\") do fp\n",
    "    serialize(fp, resConstSelHiMu2)\n",
    "end\n",
    "fileOutHiMu2B = string(\"./results/Moran-process/SimResults_Freq-Sel_Rep-1_selInt-10_mutRate-5e-2_gen-500k_\",Dates.today(),\".dat\")\n",
    "open(fileOutHiMu2B, \"w\") do fp\n",
    "    serialize(fp, resFreqSelHiMu2)\n",
    "end"
   ]
  },
  {
   "cell_type": "code",
   "execution_count": null,
   "metadata": {},
   "outputs": [],
   "source": [
    "constSelDivDF_5en2mut_int10 = calcDivDF(resConstSelHiMu2.q, resConstSelHiMu2.qD)\n",
    "freqSelDivDF_5en2mut_int10 = calcDivDF(resFreqSelHiMu2.q, resFreqSelHiMu2.qD)\n",
    "\n",
    "fileOutDF1HiMu = string(\"./results/Moran-process/SimResults_DIVERSITY_Constant-Sel_Rep-1_selInt-10_mutRate-5e-2_gen-500k_\",Dates.today(),\".csv\")\n",
    "CSV.write(fileOutDF1HiMu,constSelDivDF_5en2mut_int10)\n",
    "\n",
    "fileOutDF2HiMu = string(\"./results/Moran-process/SimResults_DIVERSITY_Freq-Dep-Sel_Rep-1_selInt-10_mutRate-5e-2_gen-500k_\",Dates.today(),\".csv\")\n",
    "CSV.write(fileOutDF2HiMu,freqSelDivDF_5en2mut_int10)"
   ]
  },
  {
   "cell_type": "code",
   "execution_count": null,
   "metadata": {},
   "outputs": [],
   "source": [
    "# plot qD curve: \n",
    "qdPlotHiMu2 = plot(resConstSelHiMu2.q,resConstSelHiMu2.qD,xaxis=:log,legend=:none, color_palette=:reds, grid=false)\n",
    "plot!(qdPlotHiMu2, resFreqSelHiMu2.q,resFreqSelHiMu2.qD,xaxis=:log,legend=:none, color_palette=:blues, opacity=0.5)\n",
    "savefig(qdPlotHiMu2, string(\"./results/Moran-process/DiversityCurves_selInt-10_mutRate-5e-2_\",Dates.today(),\".pdf\"))"
   ]
  },
  {
   "cell_type": "code",
   "execution_count": null,
   "metadata": {},
   "outputs": [],
   "source": [
    "# histogram of number of clones at a time\n",
    "hPlotHiMu2 = histogram(resConstSelHiMu2.numClonesTrack, bins=:scott, normalize=:probability, color=:red, opacity=0.6, linealpha=0.1, grid=false)\n",
    "histogram!(hPlotHiMu2, resFreqSelHiMu2.numClonesTrack, bins=:scott, normalize=:probability, color=:blue, opacity=0.6, linealpha=0.1, legend=false)\n",
    "savefig(hPlotHiMu2, string(\"./results/Moran-process/Histogram-of-Clones_selInt-10_mutRate-5e-2_\",Dates.today(),\".pdf\"))"
   ]
  },
  {
   "cell_type": "markdown",
   "metadata": {},
   "source": [
    "#### Mutation Rate: 5e-2; Selection: 5"
   ]
  },
  {
   "cell_type": "code",
   "execution_count": null,
   "metadata": {},
   "outputs": [],
   "source": [
    "mut = 5e-2;\n",
    "sel = 5.0; \n",
    "resConstSelHiMu2B = runSim(initialPayoff,gen,cellCount,numClones,selInt,mut,howOften,resolution,freqSelType);\n",
    "resFreqSelHiMu2B = runSim(initialPayoff,gen,cellCount,numClones,selInt,mut,howOften,resolution,true);"
   ]
  },
  {
   "cell_type": "code",
   "execution_count": null,
   "metadata": {},
   "outputs": [],
   "source": [
    "fileOutHiMu2AB = string(\"./results/Moran-process/SimResults_Constant-Sel_Rep-1_selInt-5_mutRate-5e-2_gen-500k_\",Dates.today(),\".dat\")\n",
    "open(fileOutHiMu2AB, \"w\") do fp\n",
    "    serialize(fp, resConstSelHiMu2B)\n",
    "end\n",
    "fileOutHiMu2BB = string(\"./results/Moran-process/SimResults_Freq-Sel_Rep-1_selInt-5_mutRate-5e-2_gen-500k_\",Dates.today(),\".dat\")\n",
    "open(fileOutHiMu2BB, \"w\") do fp\n",
    "    serialize(fp, resFreqSelHiMu2B)\n",
    "end"
   ]
  },
  {
   "cell_type": "code",
   "execution_count": null,
   "metadata": {},
   "outputs": [],
   "source": [
    "constSelDivDF_5en2mut_int5 = calcDivDF(resConstSelHiMu2B.q, resConstSelHiMu2B.qD)\n",
    "freqSelDivDF_5en2mut_int5 = calcDivDF(resFreqSelHiMu2B.q, resFreqSelHiMu2B.qD)\n",
    "\n",
    "fileOutDF1HiMuB = string(\"./results/Moran-process/SimResults_DIVERSITY_Constant-Sel_Rep-1_selInt-5_mutRate-5e-2_gen-500k_\",Dates.today(),\".csv\")\n",
    "CSV.write(fileOutDF1HiMuB,constSelDivDF_5en2mut_int5)\n",
    "\n",
    "fileOutDF2HiMuB = string(\"./results/Moran-process/SimResults_DIVERSITY_Freq-Dep-Sel_Rep-1_selInt-5_mutRate-5e-2_gen-500k_\",Dates.today(),\".csv\")\n",
    "CSV.write(fileOutDF2HiMuB,freqSelDivDF_5en2mut_int5)"
   ]
  },
  {
   "cell_type": "code",
   "execution_count": null,
   "metadata": {},
   "outputs": [],
   "source": [
    "# plot qD curve: \n",
    "qdPlotHiMu2B = plot(resConstSelHiMu2B.q,resConstSelHiMu2B.qD,xaxis=:log,legend=:none, color_palette=:reds, grid=false)\n",
    "plot!(qdPlotHiMu2B, resFreqSelHiMu2B.q,resFreqSelHiMu2B.qD,xaxis=:log,legend=:none, color_palette=:blues, opacity=0.5)\n",
    "savefig(qdPlotHiMu2B, string(\"./results/Moran-process/DiversityCurves_selInt-5_mutRate-5e-2_\",Dates.today(),\".pdf\"))"
   ]
  },
  {
   "cell_type": "code",
   "execution_count": null,
   "metadata": {},
   "outputs": [],
   "source": [
    "# histogram of number of clones at a time\n",
    "hPlotHiMu2B = histogram(resConstSelHiMu2B.numClonesTrack, bins=:scott, normalize=:probability, color=:red, opacity=0.6, linealpha=0.1, grid=false)\n",
    "histogram!(hPlotHiMu2B, resFreqSelHiMu2B.numClonesTrack, bins=:scott, normalize=:probability, color=:blue, opacity=0.6, linealpha=0.1, legend=false)\n",
    "savefig(hPlotHiMu2B, string(\"./results/Moran-process/Histogram-of-Clones_selInt-5_mutRate-5e-2_\",Dates.today(),\".pdf\"))"
   ]
  },
  {
   "cell_type": "markdown",
   "metadata": {},
   "source": [
    "#### Mutation Rate: 1e-3; Sel=10"
   ]
  },
  {
   "cell_type": "code",
   "execution_count": 48,
   "metadata": {},
   "outputs": [],
   "source": [
    "mut = 1e-3;\n",
    "sel = 10.0; \n",
    "resConstSelMiMu = runSim(initialPayoff,gen,cellCount,numClones,selInt,mut,howOften,resolution,freqSelType);\n",
    "resFreqSelMiMu = runSim(initialPayoff,gen,cellCount,numClones,selInt,mut,howOften,resolution,true);"
   ]
  },
  {
   "cell_type": "code",
   "execution_count": 49,
   "metadata": {},
   "outputs": [],
   "source": [
    "fileOutMiMuA = string(\"./results/Moran-process/SimResults_Constant-Sel_Rep-1_selInt-10_mutRate-1e-3_gen-500k_\",Dates.today(),\".dat\")\n",
    "open(fileOutMiMuA, \"w\") do fp\n",
    "    serialize(fp, resConstSelMiMu)\n",
    "end\n",
    "fileOutMiMuB = string(\"./results/Moran-process/SimResults_Freq-Sel_Rep-1_selInt-10_mutRate-1e-3_gen-500k_\",Dates.today(),\".dat\")\n",
    "open(fileOutMiMuB, \"w\") do fp\n",
    "    serialize(fp, resFreqSelMiMu)\n",
    "end"
   ]
  },
  {
   "cell_type": "code",
   "execution_count": 50,
   "metadata": {},
   "outputs": [
    {
     "data": {
      "text/plain": [
       "\"./results/Moran-process/SimResults_DIVERSITY_Freq-Dep-Sel_Rep-1_selInt-10_mutRate-1e-3_gen-500k_2020-06-10.csv\""
      ]
     },
     "execution_count": 50,
     "metadata": {},
     "output_type": "execute_result"
    }
   ],
   "source": [
    "constSelDivDF_1en3mut_int10 = calcDivDF(resConstSelMiMu.q, resConstSelMiMu.qD)\n",
    "freqSelDivDF_1en3mut_int10 = calcDivDF(resFreqSelMiMu.q, resFreqSelMiMu.qD)\n",
    "\n",
    "fileOutDF1MiMu = string(\"./results/Moran-process/SimResults_DIVERSITY_Constant-Sel_Rep-1_selInt-10_mutRate-1e-3_gen-500k_\",Dates.today(),\".csv\")\n",
    "CSV.write(fileOutDF1MiMu,constSelDivDF_1en3mut_int10)\n",
    "\n",
    "fileOutDF2MiMu = string(\"./results/Moran-process/SimResults_DIVERSITY_Freq-Dep-Sel_Rep-1_selInt-10_mutRate-1e-3_gen-500k_\",Dates.today(),\".csv\")\n",
    "CSV.write(fileOutDF2MiMu,freqSelDivDF_1en3mut_int10)"
   ]
  },
  {
   "cell_type": "code",
   "execution_count": 51,
   "metadata": {},
   "outputs": [],
   "source": [
    "# plot qD curve: \n",
    "qdPlotMiMu = plot(resConstSelMiMu.q,resConstSelMiMu.qD,xaxis=:log,legend=:none, color_palette=:reds, grid=false)\n",
    "plot!(qdPlotMiMu, resFreqSelMiMu.q,resFreqSelMiMu.qD,xaxis=:log,legend=:none, color_palette=:blues, opacity=0.5)\n",
    "savefig(qdPlotMiMu, string(\"./results/Moran-process/DiversityCurves_selInt-10_mutRate-1e-3_\",Dates.today(),\".pdf\"))"
   ]
  },
  {
   "cell_type": "code",
   "execution_count": 52,
   "metadata": {},
   "outputs": [],
   "source": [
    "# histogram of number of clones at a time\n",
    "hPlotMiMu = histogram(resConstSelMiMu.numClonesTrack, bins=:scott, normalize=:probability, color=:red, opacity=0.6, linealpha=0.1, grid=false)\n",
    "histogram!(hPlotMiMu, resFreqSelMiMu.numClonesTrack, bins=:scott, normalize=:probability, color=:blue, opacity=0.6, linealpha=0.1, legend=false)\n",
    "savefig(hPlotMiMu, string(\"./results/Moran-process/Histogram-of-Clones_selInt-10_mutRate-1e-3_\",Dates.today(),\".pdf\"))"
   ]
  },
  {
   "cell_type": "markdown",
   "metadata": {},
   "source": [
    "#### Mutation Rate: 1e-3; Sel=5"
   ]
  },
  {
   "cell_type": "code",
   "execution_count": 53,
   "metadata": {},
   "outputs": [],
   "source": [
    "mut = 1e-3;\n",
    "sel = 5.0; \n",
    "resConstSelMiMu2 = runSim(initialPayoff,gen,cellCount,numClones,selInt,mut,howOften,resolution,freqSelType);\n",
    "resFreqSelMiMu2 = runSim(initialPayoff,gen,cellCount,numClones,selInt,mut,howOften,resolution,true);"
   ]
  },
  {
   "cell_type": "code",
   "execution_count": 54,
   "metadata": {},
   "outputs": [],
   "source": [
    "fileOutMiMuA2 = string(\"./results/Moran-process/SimResults_Constant-Sel_Rep-1_selInt-5_mutRate-1e-3_gen-500k_\",Dates.today(),\".dat\")\n",
    "open(fileOutMiMuA2, \"w\") do fp\n",
    "    serialize(fp, resConstSelMiMu2)\n",
    "end\n",
    "fileOutMiMuB2 = string(\"./results/Moran-process/SimResults_Freq-Sel_Rep-1_selInt-5_mutRate-1e-3_gen-500k_\",Dates.today(),\".dat\")\n",
    "open(fileOutMiMuB2, \"w\") do fp\n",
    "    serialize(fp, resFreqSelMiMu2)\n",
    "end"
   ]
  },
  {
   "cell_type": "code",
   "execution_count": 55,
   "metadata": {},
   "outputs": [
    {
     "data": {
      "text/plain": [
       "\"./results/Moran-process/SimResults_DIVERSITY_Freq-Dep-Sel_Rep-1_selInt-5_mutRate-1e-3_gen-500k_2020-06-10.csv\""
      ]
     },
     "execution_count": 55,
     "metadata": {},
     "output_type": "execute_result"
    }
   ],
   "source": [
    "constSelDivDF_1en3mut_int5 = calcDivDF(resConstSelMiMu2.q, resConstSelMiMu2.qD)\n",
    "freqSelDivDF_1en3mut_int5 = calcDivDF(resFreqSelMiMu2.q, resFreqSelMiMu2.qD)\n",
    "\n",
    "fileOutDF1MiMu2 = string(\"./results/Moran-process/SimResults_DIVERSITY_Constant-Sel_Rep-1_selInt-5_mutRate-1e-3_gen-500k_\",Dates.today(),\".csv\")\n",
    "CSV.write(fileOutDF1MiMu2,constSelDivDF_1en3mut_int5)\n",
    "\n",
    "fileOutDF2MiMu2 = string(\"./results/Moran-process/SimResults_DIVERSITY_Freq-Dep-Sel_Rep-1_selInt-5_mutRate-1e-3_gen-500k_\",Dates.today(),\".csv\")\n",
    "CSV.write(fileOutDF2MiMu2,freqSelDivDF_1en3mut_int5)"
   ]
  },
  {
   "cell_type": "code",
   "execution_count": 56,
   "metadata": {},
   "outputs": [],
   "source": [
    "# plot qD curve: \n",
    "qdPlotMiMu2 = plot(resConstSelMiMu2.q,resConstSelMiMu2.qD,xaxis=:log,legend=:none, color_palette=:reds, grid=false)\n",
    "plot!(qdPlotMiMu2, resFreqSelMiMu2.q,resFreqSelMiMu2.qD,xaxis=:log,legend=:none, color_palette=:blues, opacity=0.5)\n",
    "savefig(qdPlotMiMu2, string(\"./results/Moran-process/DiversityCurves_selInt-5_mutRate-1e-3_\",Dates.today(),\".pdf\"))"
   ]
  },
  {
   "cell_type": "code",
   "execution_count": 57,
   "metadata": {},
   "outputs": [],
   "source": [
    "# histogram of number of clones at a time\n",
    "hPlotMiMu2 = histogram(resConstSelMiMu2.numClonesTrack, bins=:scott, normalize=:probability, color=:red, opacity=0.6, linealpha=0.1, grid=false)\n",
    "histogram!(hPlotMiMu2, resFreqSelMiMu2.numClonesTrack, bins=:scott, normalize=:probability, color=:blue, opacity=0.6, linealpha=0.1, legend=false)\n",
    "savefig(hPlotMiMu2, string(\"./results/Moran-process/Histogram-of-Clones_selInt-5_mutRate-1e-3_\",Dates.today(),\".pdf\"))"
   ]
  },
  {
   "cell_type": "markdown",
   "metadata": {},
   "source": [
    "#### Mutation Rate: 1e-2; Sel=10"
   ]
  },
  {
   "cell_type": "code",
   "execution_count": null,
   "metadata": {},
   "outputs": [],
   "source": [
    "mut = 1e-2;\n",
    "sel = 10.0; \n",
    "resConstSelMiMu3 = runSim(initialPayoff,gen,cellCount,numClones,selInt,mut,howOften,resolution,freqSelType);\n",
    "resFreqSelMiMu3 = runSim(initialPayoff,gen,cellCount,numClones,selInt,mut,howOften,resolution,true);"
   ]
  },
  {
   "cell_type": "code",
   "execution_count": null,
   "metadata": {},
   "outputs": [],
   "source": [
    "fileOutMiMuA3 = string(\"./results/Moran-process/SimResults_Constant-Sel_Rep-1_selInt-10_mutRate-1e-2_gen-500k_\",Dates.today(),\".dat\")\n",
    "open(fileOutMiMuA3, \"w\") do fp\n",
    "    serialize(fp, resConstSelMiMu3)\n",
    "end\n",
    "fileOutMiMuB3 = string(\"./results/Moran-process/SimResults_Freq-Sel_Rep-1_selInt-10_mutRate-1e-2_gen-500k_\",Dates.today(),\".dat\")\n",
    "open(fileOutMiMuB3, \"w\") do fp\n",
    "    serialize(fp, resFreqSelMiMu3)\n",
    "end"
   ]
  },
  {
   "cell_type": "code",
   "execution_count": null,
   "metadata": {},
   "outputs": [],
   "source": [
    "constSelDivDF_1en2mut_int10 = calcDivDF(resConstSelMiMu3.q, resConstSelMiMu3.qD)\n",
    "freqSelDivDF_1en2mut_int10 = calcDivDF(resFreqSelMiMu3.q, resFreqSelMiMu3.qD)\n",
    "\n",
    "fileOutDF1MiMu3 = string(\"./results/Moran-process/SimResults_DIVERSITY_Constant-Sel_Rep-1_selInt-10_mutRate-1e-2_gen-500k_\",Dates.today(),\".csv\")\n",
    "CSV.write(fileOutDF1MiMu3,constSelDivDF_1en2mut_int10)\n",
    "\n",
    "fileOutDF2MiMu3 = string(\"./results/Moran-process/SimResults_DIVERSITY_Freq-Dep-Sel_Rep-1_selInt-10_mutRate-1e-2_gen-500k_\",Dates.today(),\".csv\")\n",
    "CSV.write(fileOutDF2MiMu3,freqSelDivDF_1en2mut_int10)"
   ]
  },
  {
   "cell_type": "code",
   "execution_count": null,
   "metadata": {},
   "outputs": [],
   "source": [
    "# plot qD curve: \n",
    "qdPlotMiMu3 = plot(resConstSelMiMu3.q,resConstSelMiMu3.qD,xaxis=:log,legend=:none, color_palette=:reds, grid=false)\n",
    "plot!(qdPlotMiMu3, resFreqSelMiMu3.q,resFreqSelMiMu3.qD,xaxis=:log,legend=:none, color_palette=:blues, opacity=0.5)\n",
    "savefig(qdPlotMiMu3, string(\"./results/Moran-process/DiversityCurves_selInt-10_mutRate-1e-2_\",Dates.today(),\".pdf\"))"
   ]
  },
  {
   "cell_type": "code",
   "execution_count": null,
   "metadata": {},
   "outputs": [],
   "source": [
    "# histogram of number of clones at a time\n",
    "hPlotMiMu3 = histogram(resConstSelMiMu3.numClonesTrack, bins=:scott, normalize=:probability, color=:red, opacity=0.6, linealpha=0.1, grid=false)\n",
    "histogram!(hPlotMiMu3, resFreqSelMiMu3.numClonesTrack, bins=:scott, normalize=:probability, color=:blue, opacity=0.6, linealpha=0.1, legend=false)\n",
    "savefig(hPlotMiMu3, string(\"./results/Moran-process/Histogram-of-Clones_selInt-10_mutRate-1e-2_\",Dates.today(),\".pdf\"))"
   ]
  },
  {
   "cell_type": "markdown",
   "metadata": {},
   "source": [
    "#### Mutation Rate: 1e-2; Sel=5"
   ]
  },
  {
   "cell_type": "code",
   "execution_count": null,
   "metadata": {},
   "outputs": [],
   "source": [
    "mut = 1e-2;\n",
    "sel = 5.0; \n",
    "resConstSelMiMu4 = runSim(initialPayoff,gen,cellCount,numClones,selInt,mut,howOften,resolution,freqSelType);\n",
    "resFreqSelMiMu4 = runSim(initialPayoff,gen,cellCount,numClones,selInt,mut,howOften,resolution,true);"
   ]
  },
  {
   "cell_type": "code",
   "execution_count": null,
   "metadata": {},
   "outputs": [],
   "source": [
    "fileOutMiMuA4 = string(\"./results/Moran-process/SimResults_Constant-Sel_Rep-1_selInt-5_mutRate-1e-2_gen-500k_\",Dates.today(),\".dat\")\n",
    "open(fileOutMiMuA4, \"w\") do fp\n",
    "    serialize(fp, resConstSelMiMu4)\n",
    "end\n",
    "fileOutMiMuB4 = string(\"./results/Moran-process/SimResults_Freq-Sel_Rep-1_selInt-5_mutRate-1e-2_gen-500k_\",Dates.today(),\".dat\")\n",
    "open(fileOutMiMuB4, \"w\") do fp\n",
    "    serialize(fp, resFreqSelMiMu4)\n",
    "end"
   ]
  },
  {
   "cell_type": "code",
   "execution_count": null,
   "metadata": {},
   "outputs": [],
   "source": [
    "constSelDivDF_1en2mut_int5 = calcDivDF(resConstSelMiMu4.q, resConstSelMiMu4.qD)\n",
    "freqSelDivDF_1en2mut_int5 = calcDivDF(resFreqSelMiMu4.q, resFreqSelMiMu4.qD)\n",
    "\n",
    "fileOutDF1MiMu4 = string(\"./results/Moran-process/SimResults_DIVERSITY_Constant-Sel_Rep-1_selInt-5_mutRate-1e-2_gen-500k_\",Dates.today(),\".csv\")\n",
    "CSV.write(fileOutDF1MiMu4,constSelDivDF_1en2mut_int5)\n",
    "\n",
    "fileOutDF2MiMu4 = string(\"./results/Moran-process/SimResults_DIVERSITY_Freq-Dep-Sel_Rep-1_selInt-5_mutRate-1e-2_gen-500k_\",Dates.today(),\".csv\")\n",
    "CSV.write(fileOutDF2MiMu4,freqSelDivDF_1en2mut_int5)"
   ]
  },
  {
   "cell_type": "code",
   "execution_count": null,
   "metadata": {},
   "outputs": [],
   "source": [
    "# plot qD curve: \n",
    "qdPlotMiMu4 = plot(resConstSelMiMu4.q,resConstSelMiMu4.qD,xaxis=:log,legend=:none, color_palette=:reds, grid=false)\n",
    "plot!(qdPlotMiMu4, resFreqSelMiMu4.q,resFreqSelMiMu4.qD,xaxis=:log,legend=:none, color_palette=:blues, opacity=0.5)\n",
    "savefig(qdPlotMiMu4, string(\"./results/Moran-process/DiversityCurves_selInt-5_mutRate-1e-2_\",Dates.today(),\".pdf\"))"
   ]
  },
  {
   "cell_type": "code",
   "execution_count": null,
   "metadata": {},
   "outputs": [],
   "source": [
    "# histogram of number of clones at a time\n",
    "hPlotMiMu4 = histogram(resConstSelMiMu4.numClonesTrack, bins=:scott, normalize=:probability, color=:red, opacity=0.6, linealpha=0.1, grid=false)\n",
    "histogram!(hPlotMiMu4, resFreqSelMiMu4.numClonesTrack, bins=:scott, normalize=:probability, color=:blue, opacity=0.6, linealpha=0.1, legend=false)\n",
    "savefig(hPlotMiMu4, string(\"./results/Moran-process/Histogram-of-Clones_selInt-5_mutRate-1e-2_\",Dates.today(),\".pdf\"))"
   ]
  },
  {
   "cell_type": "markdown",
   "metadata": {},
   "source": [
    "#### Mutation Rate: 5e-3; Sel=10"
   ]
  },
  {
   "cell_type": "code",
   "execution_count": 58,
   "metadata": {},
   "outputs": [],
   "source": [
    "mut = 5e-3;\n",
    "sel = 10.0; \n",
    "resConstSelMiMu5 = runSim(initialPayoff,gen,cellCount,numClones,selInt,mut,howOften,resolution,freqSelType);\n",
    "resFreqSelMiMu5 = runSim(initialPayoff,gen,cellCount,numClones,selInt,mut,howOften,resolution,true);"
   ]
  },
  {
   "cell_type": "code",
   "execution_count": 59,
   "metadata": {},
   "outputs": [],
   "source": [
    "fileOutMiMuA5 = string(\"./results/Moran-process/SimResults_Constant-Sel_Rep-1_selInt-10_mutRate-5e-3_gen-500k_\",Dates.today(),\".dat\")\n",
    "open(fileOutMiMuA5, \"w\") do fp\n",
    "    serialize(fp, resConstSelMiMu5)\n",
    "end\n",
    "fileOutMiMuB5 = string(\"./results/Moran-process/SimResults_Freq-Sel_Rep-1_selInt-10_mutRate-5e-3_gen-500k_\",Dates.today(),\".dat\")\n",
    "open(fileOutMiMuB5, \"w\") do fp\n",
    "    serialize(fp, resFreqSelMiMu5)\n",
    "end"
   ]
  },
  {
   "cell_type": "code",
   "execution_count": 60,
   "metadata": {},
   "outputs": [
    {
     "data": {
      "text/plain": [
       "\"./results/Moran-process/SimResults_DIVERSITY_Freq-Dep-Sel_Rep-1_selInt-10_mutRate-5e-3_gen-500k_2020-06-10.csv\""
      ]
     },
     "execution_count": 60,
     "metadata": {},
     "output_type": "execute_result"
    }
   ],
   "source": [
    "constSelDivDF_5en3mut_int10 = calcDivDF(resConstSelMiMu5.q, resConstSelMiMu5.qD)\n",
    "freqSelDivDF_5en3mut_int10 = calcDivDF(resFreqSelMiMu5.q, resFreqSelMiMu5.qD)\n",
    "\n",
    "fileOutDF1MiMu5 = string(\"./results/Moran-process/SimResults_DIVERSITY_Constant-Sel_Rep-1_selInt-10_mutRate-5e-3_gen-500k_\",Dates.today(),\".csv\")\n",
    "CSV.write(fileOutDF1MiMu5,constSelDivDF_5en3mut_int10)\n",
    "\n",
    "fileOutDF2MiMu5 = string(\"./results/Moran-process/SimResults_DIVERSITY_Freq-Dep-Sel_Rep-1_selInt-10_mutRate-5e-3_gen-500k_\",Dates.today(),\".csv\")\n",
    "CSV.write(fileOutDF2MiMu5,freqSelDivDF_5en3mut_int10)"
   ]
  },
  {
   "cell_type": "code",
   "execution_count": 61,
   "metadata": {},
   "outputs": [],
   "source": [
    "# plot qD curve: \n",
    "qdPlotMiMu5 = plot(resConstSelMiMu5.q,resConstSelMiMu5.qD,xaxis=:log,legend=:none, color_palette=:reds, grid=false)\n",
    "plot!(qdPlotMiMu5, resFreqSelMiMu5.q,resFreqSelMiMu5.qD,xaxis=:log,legend=:none, color_palette=:blues, opacity=0.5)\n",
    "savefig(qdPlotMiMu5, string(\"./results/Moran-process/DiversityCurves_selInt-10_mutRate-5e-3_\",Dates.today(),\".pdf\"))"
   ]
  },
  {
   "cell_type": "code",
   "execution_count": 62,
   "metadata": {},
   "outputs": [],
   "source": [
    "# histogram of number of clones at a time\n",
    "hPlotMiMu5 = histogram(resConstSelMiMu5.numClonesTrack, bins=:scott, normalize=:probability, color=:red, opacity=0.6, linealpha=0.1, grid=false)\n",
    "histogram!(hPlotMiMu5, resFreqSelMiMu5.numClonesTrack, bins=:scott, normalize=:probability, color=:blue, opacity=0.6, linealpha=0.1, legend=false)\n",
    "savefig(hPlotMiMu5, string(\"./results/Moran-process/Histogram-of-Clones_selInt-10_mutRate-5e-3_\",Dates.today(),\".pdf\"))"
   ]
  },
  {
   "cell_type": "markdown",
   "metadata": {},
   "source": [
    "#### Mutation Rate: 5e-3; Sel=5"
   ]
  },
  {
   "cell_type": "code",
   "execution_count": 63,
   "metadata": {},
   "outputs": [],
   "source": [
    "mut = 5e-3;\n",
    "sel = 5.0; \n",
    "resConstSelMiMu6 = runSim(initialPayoff,gen,cellCount,numClones,selInt,mut,howOften,resolution,freqSelType);\n",
    "resFreqSelMiMu6 = runSim(initialPayoff,gen,cellCount,numClones,selInt,mut,howOften,resolution,true);"
   ]
  },
  {
   "cell_type": "code",
   "execution_count": 64,
   "metadata": {},
   "outputs": [],
   "source": [
    "fileOutMiMuA6 = string(\"./results/Moran-process/SimResults_Constant-Sel_Rep-1_selInt-5_mutRate-5e-3_gen-500k_\",Dates.today(),\".dat\")\n",
    "open(fileOutMiMuA6, \"w\") do fp\n",
    "    serialize(fp, resConstSelMiMu6)\n",
    "end\n",
    "fileOutMiMuB6 = string(\"./results/Moran-process/SimResults_Freq-Sel_Rep-1_selInt-5_mutRate-5e-3_gen-500k_\",Dates.today(),\".dat\")\n",
    "open(fileOutMiMuB6, \"w\") do fp\n",
    "    serialize(fp, resFreqSelMiMu6)\n",
    "end"
   ]
  },
  {
   "cell_type": "code",
   "execution_count": 65,
   "metadata": {},
   "outputs": [
    {
     "data": {
      "text/plain": [
       "\"./results/Moran-process/SimResults_DIVERSITY_Freq-Dep-Sel_Rep-1_selInt-5_mutRate-5e-3_gen-500k_2020-06-11.csv\""
      ]
     },
     "execution_count": 65,
     "metadata": {},
     "output_type": "execute_result"
    }
   ],
   "source": [
    "constSelDivDF_5en3mut_int5 = calcDivDF(resConstSelMiMu6.q, resConstSelMiMu6.qD)\n",
    "freqSelDivDF_5en3mut_int5 = calcDivDF(resFreqSelMiMu6.q, resFreqSelMiMu6.qD)\n",
    "\n",
    "fileOutDF1MiMu6 = string(\"./results/Moran-process/SimResults_DIVERSITY_Constant-Sel_Rep-1_selInt-5_mutRate-5e-3_gen-500k_\",Dates.today(),\".csv\")\n",
    "CSV.write(fileOutDF1MiMu6,constSelDivDF_5en3mut_int5)\n",
    "\n",
    "fileOutDF2MiMu6 = string(\"./results/Moran-process/SimResults_DIVERSITY_Freq-Dep-Sel_Rep-1_selInt-5_mutRate-5e-3_gen-500k_\",Dates.today(),\".csv\")\n",
    "CSV.write(fileOutDF2MiMu6,freqSelDivDF_5en3mut_int5)"
   ]
  },
  {
   "cell_type": "code",
   "execution_count": 66,
   "metadata": {},
   "outputs": [],
   "source": [
    "# plot qD curve: \n",
    "qdPlotMiMu6 = plot(resConstSelMiMu6.q,resConstSelMiMu6.qD,xaxis=:log,legend=:none, color_palette=:reds, grid=false)\n",
    "plot!(qdPlotMiMu6, resFreqSelMiMu6.q,resFreqSelMiMu6.qD,xaxis=:log,legend=:none, color_palette=:blues, opacity=0.5)\n",
    "savefig(qdPlotMiMu6, string(\"./results/Moran-process/DiversityCurves_selInt-5_mutRate-5e-3_\",Dates.today(),\".pdf\"))"
   ]
  },
  {
   "cell_type": "code",
   "execution_count": 67,
   "metadata": {},
   "outputs": [],
   "source": [
    "# histogram of number of clones at a time\n",
    "hPlotMiMu6 = histogram(resConstSelMiMu6.numClonesTrack, bins=:scott, normalize=:probability, color=:red, opacity=0.6, linealpha=0.1, grid=false)\n",
    "histogram!(hPlotMiMu6, resFreqSelMiMu6.numClonesTrack, bins=:scott, normalize=:probability, color=:blue, opacity=0.6, linealpha=0.1, legend=false)\n",
    "savefig(hPlotMiMu6, string(\"./results/Moran-process/Histogram-of-Clones_selInt-5_mutRate-5e-3_\",Dates.today(),\".pdf\"))"
   ]
  },
  {
   "cell_type": "markdown",
   "metadata": {},
   "source": [
    "#### Mutation Rate: 5e-4; Sel=1"
   ]
  },
  {
   "cell_type": "code",
   "execution_count": 68,
   "metadata": {},
   "outputs": [],
   "source": [
    "mut = 5e-4;\n",
    "sel = 1.0; \n",
    "resConstSel7 = runSim(initialPayoff,gen,cellCount,numClones,selInt,mut,howOften,resolution,freqSelType);\n",
    "resFreqSel7 = runSim(initialPayoff,gen,cellCount,numClones,selInt,mut,howOften,resolution,true);"
   ]
  },
  {
   "cell_type": "code",
   "execution_count": 69,
   "metadata": {},
   "outputs": [],
   "source": [
    "fileOutA7 = string(\"./results/Moran-process/SimResults_Constant-Sel_Rep-1_selInt-1_mutRate-5e-4_gen-500k_\",Dates.today(),\".dat\")\n",
    "open(fileOutA7, \"w\") do fp\n",
    "    serialize(fp, resConstSel7)\n",
    "end\n",
    "fileOutB7 = string(\"./results/Moran-process/SimResults_Freq-Sel_Rep-1_selInt-1_mutRate-5e-4_gen-500k_\",Dates.today(),\".dat\")\n",
    "open(fileOutB7, \"w\") do fp\n",
    "    serialize(fp, resFreqSel7)\n",
    "end"
   ]
  },
  {
   "cell_type": "code",
   "execution_count": 70,
   "metadata": {},
   "outputs": [
    {
     "data": {
      "text/plain": [
       "\"./results/Moran-process/SimResults_DIVERSITY_Freq-Dep-Sel_Rep-1_selInt-1_mutRate-5e-4_gen-500k_2020-06-11.csv\""
      ]
     },
     "execution_count": 70,
     "metadata": {},
     "output_type": "execute_result"
    }
   ],
   "source": [
    "constSelDivDF_5en4mut_int1 = calcDivDF(resConstSel7.q, resConstSel7.qD)\n",
    "freqSelDivDF_5en4mut_int1 = calcDivDF(resFreqSel7.q, resFreqSel7.qD)\n",
    "\n",
    "fileOutDF1_7 = string(\"./results/Moran-process/SimResults_DIVERSITY_Constant-Sel_Rep-1_selInt-1_mutRate-5e-4_gen-500k_\",Dates.today(),\".csv\")\n",
    "CSV.write(fileOutDF1_7,constSelDivDF_5en4mut_int1)\n",
    "\n",
    "fileOutDF2_7 = string(\"./results/Moran-process/SimResults_DIVERSITY_Freq-Dep-Sel_Rep-1_selInt-1_mutRate-5e-4_gen-500k_\",Dates.today(),\".csv\")\n",
    "CSV.write(fileOutDF2_7,freqSelDivDF_5en4mut_int1)"
   ]
  },
  {
   "cell_type": "code",
   "execution_count": 71,
   "metadata": {},
   "outputs": [],
   "source": [
    "# plot qD curve: \n",
    "qdPlot7 = plot(resConstSel7.q,resConstSel7.qD,xaxis=:log,legend=:none, color_palette=:reds, grid=false)\n",
    "plot!(qdPlot7, resFreqSel7.q,resFreqSel7.qD,xaxis=:log,legend=:none, color_palette=:blues, opacity=0.5)\n",
    "savefig(qdPlot7, string(\"./results/Moran-process/DiversityCurves_selInt-1_mutRate-5e-4_\",Dates.today(),\".pdf\"))"
   ]
  },
  {
   "cell_type": "code",
   "execution_count": 72,
   "metadata": {},
   "outputs": [],
   "source": [
    "# histogram of number of clones at a time\n",
    "hPlot7 = histogram(resConstSel7.numClonesTrack, bins=:scott, normalize=:probability, color=:red, opacity=0.6, linealpha=0.1, grid=false)\n",
    "histogram!(hPlot7, resFreqSel7.numClonesTrack, bins=:scott, normalize=:probability, color=:blue, opacity=0.6, linealpha=0.1, legend=false)\n",
    "savefig(hPlot7, string(\"./results/Moran-process/Histogram-of-Clones_selInt-1_mutRate-5e-4_\",Dates.today(),\".pdf\"))"
   ]
  },
  {
   "cell_type": "markdown",
   "metadata": {},
   "source": [
    "#### Mutation Rate: 5e-3; Sel=1"
   ]
  },
  {
   "cell_type": "code",
   "execution_count": null,
   "metadata": {},
   "outputs": [],
   "source": [
    "mut = 5e-3;\n",
    "sel = 1.0; \n",
    "resConstSel8 = runSim(initialPayoff,gen,cellCount,numClones,selInt,mut,howOften,resolution,freqSelType);\n",
    "resFreqSel8 = runSim(initialPayoff,gen,cellCount,numClones,selInt,mut,howOften,resolution,true);"
   ]
  },
  {
   "cell_type": "code",
   "execution_count": null,
   "metadata": {},
   "outputs": [],
   "source": [
    "fileOutA8 = string(\"./results/Moran-process/SimResults_Constant-Sel_Rep-1_selInt-1_mutRate-5e-3_gen-500k_\",Dates.today(),\".dat\")\n",
    "open(fileOutA8, \"w\") do fp\n",
    "    serialize(fp, resConstSel8)\n",
    "end\n",
    "fileOutB8 = string(\"./results/Moran-process/SimResults_Freq-Sel_Rep-1_selInt-1_mutRate-5e-3_gen-500k_\",Dates.today(),\".dat\")\n",
    "open(fileOutB8, \"w\") do fp\n",
    "    serialize(fp, resFreqSel8)\n",
    "end"
   ]
  },
  {
   "cell_type": "code",
   "execution_count": null,
   "metadata": {},
   "outputs": [],
   "source": [
    "constSelDivDF_5en3mut_int1 = calcDivDF(resConstSel8.q, resConstSel8.qD)\n",
    "freqSelDivDF_5en3mut_int1 = calcDivDF(resFreqSel8.q, resFreqSel8.qD)\n",
    "\n",
    "fileOutDF1_8 = string(\"./results/Moran-process/SimResults_DIVERSITY_Constant-Sel_Rep-1_selInt-1_mutRate-5e-3_gen-500k_\",Dates.today(),\".csv\")\n",
    "CSV.write(fileOutDF1_8,constSelDivDF_5en3mut_int1)\n",
    "\n",
    "fileOutDF2_8 = string(\"./results/Moran-process/SimResults_DIVERSITY_Freq-Dep-Sel_Rep-1_selInt-1_mutRate-5e-3_gen-500k_\",Dates.today(),\".csv\")\n",
    "CSV.write(fileOutDF2_8,freqSelDivDF_5en3mut_int1)"
   ]
  },
  {
   "cell_type": "code",
   "execution_count": null,
   "metadata": {},
   "outputs": [],
   "source": [
    "# plot qD curve: \n",
    "qdPlot8 = plot(resConstSel8.q,resConstSel8.qD,xaxis=:log,legend=:none, color_palette=:reds, grid=false)\n",
    "plot!(qdPlot8, resFreqSel8.q,resFreqSel8.qD,xaxis=:log,legend=:none, color_palette=:blues, opacity=0.5)\n",
    "savefig(qdPlot8, string(\"./results/Moran-process/DiversityCurves_selInt-1_mutRate-5e-3_\",Dates.today(),\".pdf\"))"
   ]
  },
  {
   "cell_type": "code",
   "execution_count": null,
   "metadata": {},
   "outputs": [],
   "source": [
    "# histogram of number of clones at a time\n",
    "hPlot8 = histogram(resConstSel8.numClonesTrack, bins=:scott, normalize=:probability, color=:red, opacity=0.6, linealpha=0.1, grid=false)\n",
    "histogram!(hPlot8, resFreqSel8.numClonesTrack, bins=:scott, normalize=:probability, color=:blue, opacity=0.6, linealpha=0.1, legend=false)\n",
    "savefig(hPlot8, string(\"./results/Moran-process/Histogram-of-Clones_selInt-1_mutRate-5e-3_\",Dates.today(),\".pdf\"))"
   ]
  },
  {
   "cell_type": "markdown",
   "metadata": {},
   "source": [
    "#### Mutation Rate: 5e-2; Sel=1"
   ]
  },
  {
   "cell_type": "code",
   "execution_count": null,
   "metadata": {},
   "outputs": [],
   "source": [
    "mut = 5e-2;\n",
    "sel = 1.0; \n",
    "resConstSel9 = runSim(initialPayoff,gen,cellCount,numClones,selInt,mut,howOften,resolution,freqSelType);\n",
    "resFreqSel9 = runSim(initialPayoff,gen,cellCount,numClones,selInt,mut,howOften,resolution,true);"
   ]
  },
  {
   "cell_type": "code",
   "execution_count": null,
   "metadata": {},
   "outputs": [],
   "source": [
    "fileOutA9 = string(\"./results/Moran-process/SimResults_Constant-Sel_Rep-1_selInt-1_mutRate-5e-2_gen-500k_\",Dates.today(),\".dat\")\n",
    "open(fileOutA9, \"w\") do fp\n",
    "    serialize(fp, resConstSel9)\n",
    "end\n",
    "fileOutB9 = string(\"./results/Moran-process/SimResults_Freq-Sel_Rep-1_selInt-1_mutRate-5e-2_gen-500k_\",Dates.today(),\".dat\")\n",
    "open(fileOutB9, \"w\") do fp\n",
    "    serialize(fp, resFreqSel9)\n",
    "end"
   ]
  },
  {
   "cell_type": "code",
   "execution_count": null,
   "metadata": {},
   "outputs": [],
   "source": [
    "constSelDivDF_5en2mut_int1 = calcDivDF(resConstSel9.q, resConstSel9.qD)\n",
    "freqSelDivDF_5en2mut_int1 = calcDivDF(resFreqSel9.q, resFreqSel9.qD)\n",
    "\n",
    "fileOutDF1_9 = string(\"./results/Moran-process/SimResults_DIVERSITY_Constant-Sel_Rep-1_selInt-1_mutRate-5e-2_gen-500k_\",Dates.today(),\".csv\")\n",
    "CSV.write(fileOutDF1_9,constSelDivDF_5en2mut_int1)\n",
    "\n",
    "fileOutDF2_9 = string(\"./results/Moran-process/SimResults_DIVERSITY_Freq-Dep-Sel_Rep-1_selInt-1_mutRate-5e-2_gen-500k_\",Dates.today(),\".csv\")\n",
    "CSV.write(fileOutDF2_9,freqSelDivDF_5en2mut_int1)"
   ]
  },
  {
   "cell_type": "code",
   "execution_count": null,
   "metadata": {},
   "outputs": [],
   "source": [
    "# plot qD curve: \n",
    "qdPlot9 = plot(resConstSel9.q,resConstSel9.qD,xaxis=:log,legend=:none, color_palette=:reds, grid=false)\n",
    "plot!(qdPlot9, resFreqSel9.q,resFreqSel9.qD,xaxis=:log,legend=:none, color_palette=:blues, opacity=0.5)\n",
    "savefig(qdPlot9, string(\"./results/Moran-process/DiversityCurves_selInt-1_mutRate-5e-2_\",Dates.today(),\".pdf\"))"
   ]
  },
  {
   "cell_type": "code",
   "execution_count": null,
   "metadata": {},
   "outputs": [],
   "source": [
    "# histogram of number of clones at a time\n",
    "hPlot9 = histogram(resConstSel9.numClonesTrack, bins=:scott, normalize=:probability, color=:red, opacity=0.6, linealpha=0.1, grid=false)\n",
    "histogram!(hPlot9, resFreqSel9.numClonesTrack, bins=:scott, normalize=:probability, color=:blue, opacity=0.6, linealpha=0.1, legend=false)\n",
    "savefig(hPlot9, string(\"./results/Moran-process/Histogram-of-Clones_selInt-1_mutRate-5e-2_\",Dates.today(),\".pdf\"))"
   ]
  },
  {
   "cell_type": "markdown",
   "metadata": {},
   "source": [
    "#### Mutation Rate: 1e-2; Sel=1"
   ]
  },
  {
   "cell_type": "code",
   "execution_count": null,
   "metadata": {},
   "outputs": [],
   "source": [
    "mut = 1e-2;\n",
    "sel = 1.0; \n",
    "resConstSel10 = runSim(initialPayoff,gen,cellCount,numClones,selInt,mut,howOften,resolution,freqSelType);\n",
    "resFreqSel10 = runSim(initialPayoff,gen,cellCount,numClones,selInt,mut,howOften,resolution,true);"
   ]
  },
  {
   "cell_type": "code",
   "execution_count": null,
   "metadata": {},
   "outputs": [],
   "source": [
    "fileOutA10 = string(\"./results/Moran-process/SimResults_Constant-Sel_Rep-1_selInt-1_mutRate-1e-2_gen-500k_\",Dates.today(),\".dat\")\n",
    "open(fileOutA10, \"w\") do fp\n",
    "    serialize(fp, resConstSel10)\n",
    "end\n",
    "fileOutB10 = string(\"./results/Moran-process/SimResults_Freq-Sel_Rep-1_selInt-1_mutRate-1e-2_gen-500k_\",Dates.today(),\".dat\")\n",
    "open(fileOutB10, \"w\") do fp\n",
    "    serialize(fp, resFreqSel10)\n",
    "end"
   ]
  },
  {
   "cell_type": "code",
   "execution_count": null,
   "metadata": {},
   "outputs": [],
   "source": [
    "constSelDivDF_1en2mut_int1 = calcDivDF(resConstSel10.q, resConstSel10.qD)\n",
    "freqSelDivDF_1en2mut_int1 = calcDivDF(resFreqSel10.q, resFreqSel10.qD)\n",
    "\n",
    "fileOutDF1_10 = string(\"./results/Moran-process/SimResults_DIVERSITY_Constant-Sel_Rep-1_selInt-1_mutRate-1e-2_gen-500k_\",Dates.today(),\".csv\")\n",
    "CSV.write(fileOutDF1_10,constSelDivDF_1en2mut_int1)\n",
    "\n",
    "fileOutDF2_10 = string(\"./results/Moran-process/SimResults_DIVERSITY_Freq-Dep-Sel_Rep-1_selInt-1_mutRate-1e-2_gen-500k_\",Dates.today(),\".csv\")\n",
    "CSV.write(fileOutDF2_10,freqSelDivDF_1en2mut_int1)"
   ]
  },
  {
   "cell_type": "code",
   "execution_count": null,
   "metadata": {},
   "outputs": [],
   "source": [
    "# plot qD curve: \n",
    "qdPlot10 = plot(resConstSel10.q,resConstSel10.qD,xaxis=:log,legend=:none, color_palette=:reds, grid=false)\n",
    "plot!(qdPlot10, resFreqSel10.q,resFreqSel10.qD,xaxis=:log,legend=:none, color_palette=:blues, opacity=0.5)\n",
    "savefig(qdPlot10, string(\"./results/Moran-process/DiversityCurves_selInt-1_mutRate-1e-2_\",Dates.today(),\".pdf\"))"
   ]
  },
  {
   "cell_type": "code",
   "execution_count": null,
   "metadata": {},
   "outputs": [],
   "source": [
    "# histogram of number of clones at a time\n",
    "hPlot10 = histogram(resConstSel10.numClonesTrack, bins=:scott, normalize=:probability, color=:red, opacity=0.6, linealpha=0.1, grid=false)\n",
    "histogram!(hPlot10, resFreqSel10.numClonesTrack, bins=:scott, normalize=:probability, color=:blue, opacity=0.6, linealpha=0.1, legend=false)\n",
    "savefig(hPlot10, string(\"./results/Moran-process/Histogram-of-Clones_selInt-1_mutRate-1e-2_\",Dates.today(),\".pdf\"))"
   ]
  },
  {
   "cell_type": "markdown",
   "metadata": {},
   "source": [
    "#### Mutation Rate: 1e-3; Sel=1"
   ]
  },
  {
   "cell_type": "code",
   "execution_count": null,
   "metadata": {},
   "outputs": [],
   "source": [
    "mut = 1e-3;\n",
    "sel = 1.0; \n",
    "resConstSel11 = runSim(initialPayoff,gen,cellCount,numClones,selInt,mut,howOften,resolution,freqSelType);\n",
    "resFreqSel11 = runSim(initialPayoff,gen,cellCount,numClones,selInt,mut,howOften,resolution,true);"
   ]
  },
  {
   "cell_type": "code",
   "execution_count": null,
   "metadata": {},
   "outputs": [],
   "source": [
    "fileOutA11 = string(\"./results/Moran-process/SimResults_Constant-Sel_Rep-1_selInt-1_mutRate-1e-3_gen-500k_\",Dates.today(),\".dat\")\n",
    "open(fileOutA11, \"w\") do fp\n",
    "    serialize(fp, resConstSel11)\n",
    "end\n",
    "fileOutB11 = string(\"./results/Moran-process/SimResults_Freq-Sel_Rep-1_selInt-1_mutRate-1e-3_gen-500k_\",Dates.today(),\".dat\")\n",
    "open(fileOutB11, \"w\") do fp\n",
    "    serialize(fp, resFreqSel11)\n",
    "end"
   ]
  },
  {
   "cell_type": "code",
   "execution_count": null,
   "metadata": {},
   "outputs": [],
   "source": [
    "constSelDivDF_1en3mut_int1 = calcDivDF(resConstSel11.q, resConstSel11.qD)\n",
    "freqSelDivDF_1en3mut_int1 = calcDivDF(resFreqSel11.q, resFreqSel11.qD)\n",
    "\n",
    "fileOutDF1_11 = string(\"./results/Moran-process/SimResults_DIVERSITY_Constant-Sel_Rep-1_selInt-1_mutRate-1e-3_gen-500k_\",Dates.today(),\".csv\")\n",
    "CSV.write(fileOutDF1_11,constSelDivDF_1en3mut_int1)\n",
    "\n",
    "fileOutDF2_11 = string(\"./results/Moran-process/SimResults_DIVERSITY_Freq-Dep-Sel_Rep-1_selInt-1_mutRate-1e-3_gen-500k_\",Dates.today(),\".csv\")\n",
    "CSV.write(fileOutDF2_11,freqSelDivDF_1en3mut_int1)"
   ]
  },
  {
   "cell_type": "code",
   "execution_count": null,
   "metadata": {},
   "outputs": [],
   "source": [
    "# plot qD curve: \n",
    "qdPlot11 = plot(resConstSel11.q,resConstSel11.qD,xaxis=:log,legend=:none, color_palette=:reds, grid=false)\n",
    "plot!(qdPlot11, resFreqSel11.q,resFreqSel11.qD,xaxis=:log,legend=:none, color_palette=:blues, opacity=0.5)\n",
    "savefig(qdPlot11, string(\"./results/Moran-process/DiversityCurves_selInt-1_mutRate-1e-3_\",Dates.today(),\".pdf\"))"
   ]
  },
  {
   "cell_type": "code",
   "execution_count": null,
   "metadata": {},
   "outputs": [],
   "source": [
    "# histogram of number of clones at a time\n",
    "hPlot11 = histogram(resConstSel11.numClonesTrack, bins=:scott, normalize=:probability, color=:red, opacity=0.6, linealpha=0.1, grid=false)\n",
    "histogram!(hPlot11, resFreqSel11.numClonesTrack, bins=:scott, normalize=:probability, color=:blue, opacity=0.6, linealpha=0.1, legend=false)\n",
    "savefig(hPlot11, string(\"./results/Moran-process/Histogram-of-Clones_selInt-1_mutRate-1e-3_\",Dates.today(),\".pdf\"))"
   ]
  },
  {
   "cell_type": "markdown",
   "metadata": {},
   "source": [
    "#### Mutation Rate: 5e-4; Sel=100"
   ]
  },
  {
   "cell_type": "code",
   "execution_count": null,
   "metadata": {},
   "outputs": [],
   "source": [
    "mut = 5e-4;\n",
    "sel = 100.0; \n",
    "resConstSel12 = runSim(initialPayoff,gen,cellCount,numClones,selInt,mut,howOften,resolution,freqSelType);\n",
    "resFreqSel12 = runSim(initialPayoff,gen,cellCount,numClones,selInt,mut,howOften,resolution,true);"
   ]
  },
  {
   "cell_type": "code",
   "execution_count": null,
   "metadata": {},
   "outputs": [],
   "source": [
    "fileOutA12 = string(\"./results/Moran-process/SimResults_Constant-Sel_Rep-1_selInt-100_mutRate-5e-4_gen-500k_\",Dates.today(),\".dat\")\n",
    "open(fileOutA12, \"w\") do fp\n",
    "    serialize(fp, resConstSel12)\n",
    "end\n",
    "fileOutB12 = string(\"./results/Moran-process/SimResults_Freq-Sel_Rep-1_selInt-100_mutRate-5e-4_gen-500k_\",Dates.today(),\".dat\")\n",
    "open(fileOutB12, \"w\") do fp\n",
    "    serialize(fp, resFreqSel12)\n",
    "end"
   ]
  },
  {
   "cell_type": "code",
   "execution_count": null,
   "metadata": {},
   "outputs": [],
   "source": [
    "constSelDivDF_5en4mut_int100 = calcDivDF(resConstSel12.q, resConstSel12.qD)\n",
    "freqSelDivDF_5en4mut_int100 = calcDivDF(resFreqSel12.q, resFreqSel12.qD)\n",
    "\n",
    "fileOutDF1_12 = string(\"./results/Moran-process/SimResults_DIVERSITY_Constant-Sel_Rep-1_selInt-100_mutRate-5e-4_gen-500k_\",Dates.today(),\".csv\")\n",
    "CSV.write(fileOutDF1_12,constSelDivDF_5en4mut_int100)\n",
    "\n",
    "fileOutDF2_12 = string(\"./results/Moran-process/SimResults_DIVERSITY_Freq-Dep-Sel_Rep-1_selInt-100_mutRate-5e-4_gen-500k_\",Dates.today(),\".csv\")\n",
    "CSV.write(fileOutDF2_12,freqSelDivDF_5en4mut_int100)"
   ]
  },
  {
   "cell_type": "code",
   "execution_count": null,
   "metadata": {},
   "outputs": [],
   "source": [
    "# plot qD curve: \n",
    "qdPlot12 = plot(resConstSel12.q,resConstSel12.qD,xaxis=:log,legend=:none, color_palette=:reds, grid=false)\n",
    "plot!(qdPlot12, resFreqSel12.q,resFreqSel12.qD,xaxis=:log,legend=:none, color_palette=:blues, opacity=0.5)\n",
    "savefig(qdPlot12, string(\"./results/Moran-process/DiversityCurves_selInt-100_mutRate-5e-4_\",Dates.today(),\".pdf\"))"
   ]
  },
  {
   "cell_type": "code",
   "execution_count": null,
   "metadata": {},
   "outputs": [],
   "source": [
    "# histogram of number of clones at a time\n",
    "hPlot12 = histogram(resConstSel12.numClonesTrack, bins=:scott, normalize=:probability, color=:red, opacity=0.6, linealpha=0.1, grid=false)\n",
    "histogram!(hPlot12, resFreqSel12.numClonesTrack, bins=:scott, normalize=:probability, color=:blue, opacity=0.6, linealpha=0.1, legend=false)\n",
    "savefig(hPlot12, string(\"./results/Moran-process/Histogram-of-Clones_selInt-100_mutRate-5e-4_\",Dates.today(),\".pdf\"))"
   ]
  },
  {
   "cell_type": "markdown",
   "metadata": {},
   "source": [
    "#### Mutation Rate: 5e-3; Sel=100"
   ]
  },
  {
   "cell_type": "code",
   "execution_count": null,
   "metadata": {},
   "outputs": [],
   "source": [
    "mut = 5e-3;\n",
    "sel = 100.0; \n",
    "resConstSel13 = runSim(initialPayoff,gen,cellCount,numClones,selInt,mut,howOften,resolution,freqSelType);\n",
    "resFreqSel13 = runSim(initialPayoff,gen,cellCount,numClones,selInt,mut,howOften,resolution,true);"
   ]
  },
  {
   "cell_type": "code",
   "execution_count": null,
   "metadata": {},
   "outputs": [],
   "source": [
    "fileOutA13 = string(\"./results/Moran-process/SimResults_Constant-Sel_Rep-1_selInt-100_mutRate-5e-3_gen-500k_\",Dates.today(),\".dat\")\n",
    "open(fileOutA13, \"w\") do fp\n",
    "    serialize(fp, resConstSel13)\n",
    "end\n",
    "fileOutB13 = string(\"./results/Moran-process/SimResults_Freq-Sel_Rep-1_selInt-100_mutRate-5e-3_gen-500k_\",Dates.today(),\".dat\")\n",
    "open(fileOutB13, \"w\") do fp\n",
    "    serialize(fp, resFreqSel13)\n",
    "end"
   ]
  },
  {
   "cell_type": "code",
   "execution_count": null,
   "metadata": {},
   "outputs": [],
   "source": [
    "constSelDivDF_5en3mut_int100 = calcDivDF(resConstSel13.q, resConstSel13.qD)\n",
    "freqSelDivDF_5en3mut_int100 = calcDivDF(resFreqSel13.q, resFreqSel13.qD)\n",
    "\n",
    "fileOutDF1_13 = string(\"./results/Moran-process/SimResults_DIVERSITY_Constant-Sel_Rep-1_selInt-100_mutRate-5e-3_gen-500k_\",Dates.today(),\".csv\")\n",
    "CSV.write(fileOutDF1_13,constSelDivDF_5en3mut_int100)\n",
    "\n",
    "fileOutDF2_13 = string(\"./results/Moran-process/SimResults_DIVERSITY_Freq-Dep-Sel_Rep-1_selInt-100_mutRate-5e-3_gen-500k_\",Dates.today(),\".csv\")\n",
    "CSV.write(fileOutDF2_13,freqSelDivDF_5en3mut_int100)"
   ]
  },
  {
   "cell_type": "code",
   "execution_count": null,
   "metadata": {},
   "outputs": [],
   "source": [
    "# plot qD curve: \n",
    "qdPlot13 = plot(resConstSel13.q,resConstSel13.qD,xaxis=:log,legend=:none, color_palette=:reds, grid=false)\n",
    "plot!(qdPlot13, resFreqSel13.q,resFreqSel13.qD,xaxis=:log,legend=:none, color_palette=:blues, opacity=0.5)\n",
    "savefig(qdPlot13, string(\"./results/Moran-process/DiversityCurves_selInt-100_mutRate-5e-3_\",Dates.today(),\".pdf\"))"
   ]
  },
  {
   "cell_type": "code",
   "execution_count": null,
   "metadata": {},
   "outputs": [],
   "source": [
    "# histogram of number of clones at a time\n",
    "hPlot13 = histogram(resConstSel13.numClonesTrack, bins=:scott, normalize=:probability, color=:red, opacity=0.6, linealpha=0.1, grid=false)\n",
    "histogram!(hPlot13, resFreqSel13.numClonesTrack, bins=:scott, normalize=:probability, color=:blue, opacity=0.6, linealpha=0.1, legend=false)\n",
    "savefig(hPlot13, string(\"./results/Moran-process/Histogram-of-Clones_selInt-100_mutRate-5e-3_\",Dates.today(),\".pdf\"))"
   ]
  },
  {
   "cell_type": "markdown",
   "metadata": {},
   "source": [
    "#### Mutation Rate: 5e-2; Sel=100"
   ]
  },
  {
   "cell_type": "code",
   "execution_count": null,
   "metadata": {},
   "outputs": [],
   "source": [
    "mut = 5e-2;\n",
    "sel = 100.0; \n",
    "resConstSel14 = runSim(initialPayoff,gen,cellCount,numClones,selInt,mut,howOften,resolution,freqSelType);\n",
    "resFreqSel14 = runSim(initialPayoff,gen,cellCount,numClones,selInt,mut,howOften,resolution,true);"
   ]
  },
  {
   "cell_type": "code",
   "execution_count": null,
   "metadata": {},
   "outputs": [],
   "source": [
    "fileOutA14 = string(\"./results/Moran-process/SimResults_Constant-Sel_Rep-1_selInt-100_mutRate-5e-2_gen-500k_\",Dates.today(),\".dat\")\n",
    "open(fileOutA14, \"w\") do fp\n",
    "    serialize(fp, resConstSel14)\n",
    "end\n",
    "fileOutB14 = string(\"./results/Moran-process/SimResults_Freq-Sel_Rep-1_selInt-100_mutRate-5e-2_gen-500k_\",Dates.today(),\".dat\")\n",
    "open(fileOutB14, \"w\") do fp\n",
    "    serialize(fp, resFreqSel14)\n",
    "end"
   ]
  },
  {
   "cell_type": "code",
   "execution_count": null,
   "metadata": {},
   "outputs": [],
   "source": [
    "constSelDivDF_5en2mut_int100 = calcDivDF(resConstSel14.q, resConstSel14.qD)\n",
    "freqSelDivDF_5en2mut_int100 = calcDivDF(resFreqSel14.q, resFreqSel14.qD)\n",
    "\n",
    "fileOutDF1_14 = string(\"./results/Moran-process/SimResults_DIVERSITY_Constant-Sel_Rep-1_selInt-100_mutRate-5e-2_gen-500k_\",Dates.today(),\".csv\")\n",
    "CSV.write(fileOutDF1_14,constSelDivDF_5en2mut_int100)\n",
    "\n",
    "fileOutDF2_14 = string(\"./results/Moran-process/SimResults_DIVERSITY_Freq-Dep-Sel_Rep-1_selInt-100_mutRate-5e-2_gen-500k_\",Dates.today(),\".csv\")\n",
    "CSV.write(fileOutDF2_14,freqSelDivDF_5en2mut_int100)"
   ]
  },
  {
   "cell_type": "code",
   "execution_count": null,
   "metadata": {},
   "outputs": [],
   "source": [
    "# plot qD curve: \n",
    "qdPlot14 = plot(resConstSel14.q,resConstSel14.qD,xaxis=:log,legend=:none, color_palette=:reds, grid=false)\n",
    "plot!(qdPlot14, resFreqSel14.q,resFreqSel14.qD,xaxis=:log,legend=:none, color_palette=:blues, opacity=0.5)\n",
    "savefig(qdPlot14, string(\"./results/Moran-process/DiversityCurves_selInt-100_mutRate-5e-2_\",Dates.today(),\".pdf\"))"
   ]
  },
  {
   "cell_type": "code",
   "execution_count": null,
   "metadata": {},
   "outputs": [],
   "source": [
    "# histogram of number of clones at a time\n",
    "hPlot14 = histogram(resConstSel14.numClonesTrack, bins=:scott, normalize=:probability, color=:red, opacity=0.6, linealpha=0.1, grid=false)\n",
    "histogram!(hPlot14, resFreqSel14.numClonesTrack, bins=:scott, normalize=:probability, color=:blue, opacity=0.6, linealpha=0.1, legend=false)\n",
    "savefig(hPlot14, string(\"./results/Moran-process/Histogram-of-Clones_selInt-100_mutRate-5e-2_\",Dates.today(),\".pdf\"))"
   ]
  },
  {
   "cell_type": "markdown",
   "metadata": {},
   "source": [
    "#### Mutation Rate: 1e-2; Sel=100"
   ]
  },
  {
   "cell_type": "code",
   "execution_count": null,
   "metadata": {},
   "outputs": [],
   "source": [
    "mut = 1e-2;\n",
    "sel = 100.0; \n",
    "resConstSel15 = runSim(initialPayoff,gen,cellCount,numClones,selInt,mut,howOften,resolution,freqSelType);\n",
    "resFreqSel15 = runSim(initialPayoff,gen,cellCount,numClones,selInt,mut,howOften,resolution,true);"
   ]
  },
  {
   "cell_type": "code",
   "execution_count": null,
   "metadata": {},
   "outputs": [],
   "source": [
    "fileOutA15 = string(\"./results/Moran-process/SimResults_Constant-Sel_Rep-1_selInt-100_mutRate-1e-2_gen-500k_\",Dates.today(),\".dat\")\n",
    "open(fileOutA15, \"w\") do fp\n",
    "    serialize(fp, resConstSel15)\n",
    "end\n",
    "fileOutB15 = string(\"./results/Moran-process/SimResults_Freq-Sel_Rep-1_selInt-100_mutRate-1e-2_gen-500k_\",Dates.today(),\".dat\")\n",
    "open(fileOutB15, \"w\") do fp\n",
    "    serialize(fp, resFreqSel15)\n",
    "end"
   ]
  },
  {
   "cell_type": "code",
   "execution_count": null,
   "metadata": {},
   "outputs": [],
   "source": [
    "constSelDivDF_1en2mut_int100 = calcDivDF(resConstSel15.q, resConstSel15.qD)\n",
    "freqSelDivDF_1en2mut_int100 = calcDivDF(resFreqSel15.q, resFreqSel15.qD)\n",
    "\n",
    "fileOutDF1_15 = string(\"./results/Moran-process/SimResults_DIVERSITY_Constant-Sel_Rep-1_selInt-100_mutRate-1e-2_gen-500k_\",Dates.today(),\".csv\")\n",
    "CSV.write(fileOutDF1_15,constSelDivDF_1en2mut_int100)\n",
    "\n",
    "fileOutDF2_15 = string(\"./results/Moran-process/SimResults_DIVERSITY_Freq-Dep-Sel_Rep-1_selInt-100_mutRate-1e-2_gen-500k_\",Dates.today(),\".csv\")\n",
    "CSV.write(fileOutDF2_15,freqSelDivDF_1en2mut_int100)"
   ]
  },
  {
   "cell_type": "code",
   "execution_count": null,
   "metadata": {},
   "outputs": [],
   "source": [
    "# plot qD curve: \n",
    "qdPlot15 = plot(resConstSel15.q,resConstSel15.qD,xaxis=:log,legend=:none, color_palette=:reds, grid=false)\n",
    "plot!(qdPlot15, resFreqSel15.q,resFreqSel15.qD,xaxis=:log,legend=:none, color_palette=:blues, opacity=0.5)\n",
    "savefig(qdPlot15, string(\"./results/Moran-process/DiversityCurves_selInt-100_mutRate-1e-2_\",Dates.today(),\".pdf\"))"
   ]
  },
  {
   "cell_type": "code",
   "execution_count": null,
   "metadata": {},
   "outputs": [],
   "source": [
    "# histogram of number of clones at a time\n",
    "hPlot15 = histogram(resConstSel15.numClonesTrack, bins=:scott, normalize=:probability, color=:red, opacity=0.6, linealpha=0.1, grid=false)\n",
    "histogram!(hPlot15, resFreqSel15.numClonesTrack, bins=:scott, normalize=:probability, color=:blue, opacity=0.6, linealpha=0.1, legend=false)\n",
    "savefig(hPlot15, string(\"./results/Moran-process/Histogram-of-Clones_selInt-100_mutRate-1e-2_\",Dates.today(),\".pdf\"))"
   ]
  },
  {
   "cell_type": "markdown",
   "metadata": {},
   "source": [
    "#### Mutation Rate: 1e-3; Sel=100"
   ]
  },
  {
   "cell_type": "code",
   "execution_count": null,
   "metadata": {},
   "outputs": [],
   "source": [
    "mut = 1e-3;\n",
    "sel = 100.0; \n",
    "resConstSel16 = runSim(initialPayoff,gen,cellCount,numClones,selInt,mut,howOften,resolution,freqSelType);\n",
    "resFreqSel16 = runSim(initialPayoff,gen,cellCount,numClones,selInt,mut,howOften,resolution,true);"
   ]
  },
  {
   "cell_type": "code",
   "execution_count": null,
   "metadata": {},
   "outputs": [],
   "source": [
    "fileOutA16 = string(\"./results/Moran-process/SimResults_Constant-Sel_Rep-1_selInt-100_mutRate-1e-3_gen-500k_\",Dates.today(),\".dat\")\n",
    "open(fileOutA16, \"w\") do fp\n",
    "    serialize(fp, resConstSel16)\n",
    "end\n",
    "fileOutB16 = string(\"./results/Moran-process/SimResults_Freq-Sel_Rep-1_selInt-100_mutRate-1e-3_gen-500k_\",Dates.today(),\".dat\")\n",
    "open(fileOutB16, \"w\") do fp\n",
    "    serialize(fp, resFreqSel16)\n",
    "end"
   ]
  },
  {
   "cell_type": "code",
   "execution_count": null,
   "metadata": {},
   "outputs": [],
   "source": [
    "constSelDivDF_1en3mut_int100 = calcDivDF(resConstSel16.q, resConstSel16.qD)\n",
    "freqSelDivDF_1en3mut_int100 = calcDivDF(resFreqSel16.q, resFreqSel16.qD)\n",
    "\n",
    "fileOutDF1_16 = string(\"./results/Moran-process/SimResults_DIVERSITY_Constant-Sel_Rep-1_selInt-100_mutRate-1e-3_gen-500k_\",Dates.today(),\".csv\")\n",
    "CSV.write(fileOutDF1_16,constSelDivDF_1en3mut_int100)\n",
    "\n",
    "fileOutDF2_16 = string(\"./results/Moran-process/SimResults_DIVERSITY_Freq-Dep-Sel_Rep-1_selInt-100_mutRate-1e-3_gen-500k_\",Dates.today(),\".csv\")\n",
    "CSV.write(fileOutDF2_16,freqSelDivDF_1en3mut_int100)"
   ]
  },
  {
   "cell_type": "code",
   "execution_count": null,
   "metadata": {},
   "outputs": [],
   "source": [
    "# plot qD curve: \n",
    "qdPlot16 = plot(resConstSel16.q,resConstSel16.qD,xaxis=:log,legend=:none, color_palette=:reds, grid=false)\n",
    "plot!(qdPlot16, resFreqSel16.q,resFreqSel16.qD,xaxis=:log,legend=:none, color_palette=:blues, opacity=0.5)\n",
    "savefig(qdPlot16, string(\"./results/Moran-process/DiversityCurves_selInt-100_mutRate-1e-3_\",Dates.today(),\".pdf\"))"
   ]
  },
  {
   "cell_type": "code",
   "execution_count": null,
   "metadata": {},
   "outputs": [],
   "source": [
    "# histogram of number of clones at a time\n",
    "hPlot16 = histogram(resConstSel16.numClonesTrack, bins=:scott, normalize=:probability, color=:red, opacity=0.6, linealpha=0.1, grid=false)\n",
    "histogram!(hPlot16, resFreqSel16.numClonesTrack, bins=:scott, normalize=:probability, color=:blue, opacity=0.6, linealpha=0.1, legend=false)\n",
    "savefig(hPlot16, string(\"./results/Moran-process/Histogram-of-Clones_selInt-100_mutRate-1e-3_\",Dates.today(),\".pdf\"))"
   ]
  },
  {
   "cell_type": "markdown",
   "metadata": {},
   "source": [
    "#### Replotting qD curves with all same y-axis range"
   ]
  },
  {
   "cell_type": "code",
   "execution_count": null,
   "metadata": {},
   "outputs": [],
   "source": [
    "yrange = (0,160)\n",
    "\n",
    "qdPlotLoMu2 = plot(resConstSelLoMu2.q,resConstSelLoMu2.qD,xaxis=:log,legend=:none, color_palette=:reds, grid=false)\n",
    "plot!(qdPlotLoMu2, resFreqSelLoMu2.q,resFreqSelLoMu2.qD,xaxis=:log,legend=:none, color_palette=:blues, opacity=0.5, ylim=yrange)\n",
    "savefig(qdPlotLoMu2, string(\"./results/Moran-process/DiversityCurves_FixedRange_selInt-10_mutRate-5e-4_\",Dates.today(),\".pdf\"))\n",
    "\n",
    "qdPlotLoMu2B = plot(resConstSelLoMu2B.q,resConstSelLoMu2B.qD,xaxis=:log,legend=:none, color_palette=:reds, grid=false)\n",
    "plot!(qdPlotLoMu2B, resFreqSelLoMu2B.q,resFreqSelLoMu2B.qD,xaxis=:log,legend=:none, color_palette=:blues, opacity=0.5, ylim=yrange)\n",
    "savefig(qdPlotLoMu2B, string(\"./results/Moran-process/DiversityCurves_FixedRange_selInt-5_mutRate-5e-4_\",Dates.today(),\".pdf\"))\n",
    "\n",
    "qdPlotHiMu2 = plot(resConstSelHiMu2.q,resConstSelHiMu2.qD,xaxis=:log,legend=:none, color_palette=:reds, grid=false)\n",
    "plot!(qdPlotHiMu2, resFreqSelHiMu2.q,resFreqSelHiMu2.qD,xaxis=:log,legend=:none, color_palette=:blues, opacity=0.5, ylim=yrange)\n",
    "savefig(qdPlotHiMu2, string(\"./results/Moran-process/DiversityCurves_FixedRange_selInt-10_mutRate-5e-2_\",Dates.today(),\".pdf\"))\n",
    "\n",
    "qdPlotHiMu2B = plot(resConstSelHiMu2B.q,resConstSelHiMu2B.qD,xaxis=:log,legend=:none, color_palette=:reds, grid=false)\n",
    "plot!(qdPlotHiMu2B, resFreqSelHiMu2B.q,resFreqSelHiMu2B.qD,xaxis=:log,legend=:none, color_palette=:blues, opacity=0.5, ylim=yrange)\n",
    "savefig(qdPlotHiMu2B, string(\"./results/Moran-process/DiversityCurves_FixedRange_selInt-5_mutRate-5e-2_\",Dates.today(),\".pdf\"))\n",
    "\n",
    "qdPlotMiMu = plot(resConstSelMiMu.q,resConstSelMiMu.qD,xaxis=:log,legend=:none, color_palette=:reds, grid=false)\n",
    "plot!(qdPlotMiMu, resFreqSelMiMu.q,resFreqSelMiMu.qD,xaxis=:log,legend=:none, color_palette=:blues, opacity=0.5, ylim=yrange)\n",
    "savefig(qdPlotMiMu, string(\"./results/Moran-process/DiversityCurves_FixedRange_selInt-10_mutRate-1e-3_\",Dates.today(),\".pdf\"))\n",
    "\n",
    "qdPlotMiMu2 = plot(resConstSelMiMu2.q,resConstSelMiMu2.qD,xaxis=:log,legend=:none, color_palette=:reds, grid=false)\n",
    "plot!(qdPlotMiMu2, resFreqSelMiMu2.q,resFreqSelMiMu2.qD,xaxis=:log,legend=:none, color_palette=:blues, opacity=0.5, ylim=yrange)\n",
    "savefig(qdPlotMiMu2, string(\"./results/Moran-process/DiversityCurves_FixedRange_selInt-5_mutRate-1e-3_\",Dates.today(),\".pdf\"))\n",
    "\n",
    "qdPlotMiMu3 = plot(resConstSelMiMu3.q,resConstSelMiMu3.qD,xaxis=:log,legend=:none, color_palette=:reds, grid=false)\n",
    "plot!(qdPlotMiMu3, resFreqSelMiMu3.q,resFreqSelMiMu3.qD,xaxis=:log,legend=:none, color_palette=:blues, opacity=0.5, ylim=yrange)\n",
    "savefig(qdPlotMiMu3, string(\"./results/Moran-process/DiversityCurves_FixedRange_selInt-10_mutRate-1e-2_\",Dates.today(),\".pdf\"))\n",
    "\n",
    "qdPlotMiMu4 = plot(resConstSelMiMu4.q,resConstSelMiMu4.qD,xaxis=:log,legend=:none, color_palette=:reds, grid=false)\n",
    "plot!(qdPlotMiMu4, resFreqSelMiMu4.q,resFreqSelMiMu4.qD,xaxis=:log,legend=:none, color_palette=:blues, opacity=0.5, ylim=yrange)\n",
    "savefig(qdPlotMiMu4, string(\"./results/Moran-process/DiversityCurves_FixedRange_selInt-5_mutRate-1e-2_\",Dates.today(),\".pdf\"))\n",
    "\n",
    "qdPlotMiMu5 = plot(resConstSelMiMu5.q,resConstSelMiMu5.qD,xaxis=:log,legend=:none, color_palette=:reds, grid=false)\n",
    "plot!(qdPlotMiMu5, resFreqSelMiMu5.q,resFreqSelMiMu5.qD,xaxis=:log,legend=:none, color_palette=:blues, opacity=0.5, ylim=yrange)\n",
    "savefig(qdPlotMiMu5, string(\"./results/Moran-process/DiversityCurves_FixedRange_selInt-10_mutRate-5e-3_\",Dates.today(),\".pdf\"))\n",
    "\n",
    "qdPlotMiMu6 = plot(resConstSelMiMu6.q,resConstSelMiMu6.qD,xaxis=:log,legend=:none, color_palette=:reds, grid=false)\n",
    "plot!(qdPlotMiMu6, resFreqSelMiMu6.q,resFreqSelMiMu6.qD,xaxis=:log,legend=:none, color_palette=:blues, opacity=0.5, ylim=yrange)\n",
    "savefig(qdPlotMiMu6, string(\"./results/Moran-process/DiversityCurves_FixedRange_selInt-5_mutRate-5e-3_\",Dates.today(),\".pdf\"))\n",
    "\n",
    "qdPlot7 = plot(resConstSel7.q,resConstSel7.qD,xaxis=:log,legend=:none, color_palette=:reds, grid=false)\n",
    "plot!(qdPlot7, resFreqSel7.q,resFreqSel7.qD,xaxis=:log,legend=:none, color_palette=:blues, opacity=0.5, ylim=yrange)\n",
    "savefig(qdPlot7, string(\"./results/Moran-process/DiversityCurves_FixedRange_selInt-1_mutRate-5e-4_\",Dates.today(),\".pdf\"))\n",
    "\n",
    "qdPlot8 = plot(resConstSel8.q,resConstSel8.qD,xaxis=:log,legend=:none, color_palette=:reds, grid=false)\n",
    "plot!(qdPlot8, resFreqSel8.q,resFreqSel8.qD,xaxis=:log,legend=:none, color_palette=:blues, opacity=0.5, ylim=yrange)\n",
    "savefig(qdPlot8, string(\"./results/Moran-process/DiversityCurves_FixedRange_selInt-1_mutRate-5e-3_\",Dates.today(),\".pdf\"))\n",
    "\n",
    "qdPlot9 = plot(resConstSel9.q,resConstSel9.qD,xaxis=:log,legend=:none, color_palette=:reds, grid=false)\n",
    "plot!(qdPlot9, resFreqSel9.q,resFreqSel9.qD,xaxis=:log,legend=:none, color_palette=:blues, opacity=0.5, ylim=yrange)\n",
    "savefig(qdPlot9, string(\"./results/Moran-process/DiversityCurves_FixedRange_selInt-1_mutRate-5e-2_\",Dates.today(),\".pdf\"))\n",
    "\n",
    "qdPlot10 = plot(resConstSel10.q,resConstSel10.qD,xaxis=:log,legend=:none, color_palette=:reds, grid=false)\n",
    "plot!(qdPlot10, resFreqSel10.q,resFreqSel10.qD,xaxis=:log,legend=:none, color_palette=:blues, opacity=0.5, ylim=yrange)\n",
    "savefig(qdPlot10, string(\"./results/Moran-process/DiversityCurves_FixedRange_selInt-1_mutRate-1e-2_\",Dates.today(),\".pdf\"))\n",
    "\n",
    "qdPlot11 = plot(resConstSel11.q,resConstSel11.qD,xaxis=:log,legend=:none, color_palette=:reds, grid=false)\n",
    "plot!(qdPlot11, resFreqSel11.q,resFreqSel11.qD,xaxis=:log,legend=:none, color_palette=:blues, opacity=0.5, ylim=yrange)\n",
    "savefig(qdPlot11, string(\"./results/Moran-process/DiversityCurves_FixedRange_selInt-1_mutRate-1e-3_\",Dates.today(),\".pdf\"))\n",
    "\n",
    "qdPlot12 = plot(resConstSel12.q,resConstSel12.qD,xaxis=:log,legend=:none, color_palette=:reds, grid=false)\n",
    "plot!(qdPlot12, resFreqSel12.q,resFreqSel12.qD,xaxis=:log,legend=:none, color_palette=:blues, opacity=0.5, ylim=yrange)\n",
    "savefig(qdPlot12, string(\"./results/Moran-process/DiversityCurves_FixedRange_selInt-100_mutRate-5e-4_\",Dates.today(),\".pdf\"))\n",
    "\n",
    "qdPlot13 = plot(resConstSel13.q,resConstSel13.qD,xaxis=:log,legend=:none, color_palette=:reds, grid=false)\n",
    "plot!(qdPlot13, resFreqSel13.q,resFreqSel13.qD,xaxis=:log,legend=:none, color_palette=:blues, opacity=0.5, ylim=yrange)\n",
    "savefig(qdPlot13, string(\"./results/Moran-process/DiversityCurves_FixedRange_selInt-100_mutRate-5e-3_\",Dates.today(),\".pdf\"))\n",
    "\n",
    "qdPlot14 = plot(resConstSel14.q,resConstSel14.qD,xaxis=:log,legend=:none, color_palette=:reds, grid=false)\n",
    "plot!(qdPlot14, resFreqSel14.q,resFreqSel14.qD,xaxis=:log,legend=:none, color_palette=:blues, opacity=0.5, ylim=yrange)\n",
    "savefig(qdPlot14, string(\"./results/Moran-process/DiversityCurves_FixedRange_selInt-100_mutRate-5e-2_\",Dates.today(),\".pdf\"))\n",
    "\n",
    "qdPlot15 = plot(resConstSel15.q,resConstSel15.qD,xaxis=:log,legend=:none, color_palette=:reds, grid=false)\n",
    "plot!(qdPlot15, resFreqSel15.q,resFreqSel15.qD,xaxis=:log,legend=:none, color_palette=:blues, opacity=0.5, ylim=yrange)\n",
    "savefig(qdPlot15, string(\"./results/Moran-process/DiversityCurves_FixedRange_selInt-100_mutRate-1e-2_\",Dates.today(),\".pdf\"))\n",
    "\n",
    "qdPlot16 = plot(resConstSel16.q,resConstSel16.qD,xaxis=:log,legend=:none, color_palette=:reds, grid=false)\n",
    "plot!(qdPlot16, resFreqSel16.q,resFreqSel16.qD,xaxis=:log,legend=:none, color_palette=:blues, opacity=0.5, ylim=yrange)\n",
    "savefig(qdPlot16, string(\"./results/Moran-process/DiversityCurves_FixedRange_selInt-100_mutRate-1e-3_\",Dates.today(),\".pdf\"))"
   ]
  },
  {
   "cell_type": "code",
   "execution_count": null,
   "metadata": {},
   "outputs": [],
   "source": [
    "resConstSel16"
   ]
  },
  {
   "cell_type": "code",
   "execution_count": null,
   "metadata": {},
   "outputs": [],
   "source": [
    "resConstSel16.freq"
   ]
  },
  {
   "cell_type": "code",
   "execution_count": null,
   "metadata": {},
   "outputs": [],
   "source": [
    "resConstSel16.numClonesTrack"
   ]
  },
  {
   "cell_type": "code",
   "execution_count": null,
   "metadata": {},
   "outputs": [],
   "source": [
    "resConstSel16.whoDied"
   ]
  },
  {
   "cell_type": "code",
   "execution_count": null,
   "metadata": {},
   "outputs": [],
   "source": []
  }
 ],
 "metadata": {
  "kernelspec": {
   "display_name": "Julia 1.0.0",
   "language": "julia",
   "name": "julia-1.0"
  },
  "language_info": {
   "file_extension": ".jl",
   "mimetype": "application/julia",
   "name": "julia",
   "version": "1.0.0"
  }
 },
 "nbformat": 4,
 "nbformat_minor": 2
}
